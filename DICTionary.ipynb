{
 "cells": [
  {
   "cell_type": "code",
   "execution_count": 37,
   "metadata": {},
   "outputs": [
    {
     "name": "stdout",
     "output_type": "stream",
     "text": [
      "Chips\n",
      "{1: 'Chocolate', 2: 'Chips', 3: 'Nachos', 4: 'Pizza', 5: 'Muffins', 6: 'Cakes'}\n",
      "{1: 'Chocolate', 2: 'Chips', 3: 'Nachos', 5: 'Muffins', 6: 'Cakes'}\n",
      "Muffins\n",
      "{1: 'Chocolate', 2: 'Chips', 3: 'Nachos', 6: 'Cakes'}\n",
      "dict_keys([1, 2, 3, 6])\n",
      "dict_values(['Chocolate', 'Chips', 'Nachos', 'Cakes'])\n",
      "{7: 'Apple', 8: 'Mango', 9: 'Banana'}\n",
      "{}\n",
      "1\n",
      "Chocolate\n",
      "2\n",
      "Chips\n",
      "3\n",
      "Nachos\n",
      "6\n",
      "Cakes\n",
      "\n",
      "Type 2\n",
      "\n",
      "1 Chocolate\n",
      "2 Chips\n",
      "3 Nachos\n",
      "6 Cakes\n"
     ]
    }
   ],
   "source": [
    "MyDict  = {1 : 'Chocolate', 2 : 'Icecream'}\n",
    "MyDict2 ={5:'Muffins',6:'Cakes'}\n",
    "MyCourse = {'MS' : 'Python', 'IT' : 'C','CSE' : 'C++', 'MCA' : 'Java'}\n",
    "MyDict[2]='Chips' #Updating dict\n",
    "MyDict[3]='Nachos'\n",
    "MyDict[4]='Pizza'\n",
    "MyDict.update(MyDict2) #Adding 2 different dict\n",
    "print(MyDict[2])\n",
    "print(MyDict)\n",
    "del MyDict[4] #Removing an item\n",
    "print(MyDict)\n",
    "print(MyDict.pop(5))#Removing an item using pop and returning that removed value\n",
    "print(MyDict)\n",
    "print(MyDict.keys()) #Printing the keys\n",
    "print(MyDict.values()) #Printing the values of the dict\n",
    "MyDict3={7:'Apple',8:'Mango',9:'Banana'}\n",
    "print(MyDict3)\n",
    "MyDict3.clear() #Deleting the whole dict\n",
    "print(MyDict3)\n",
    "\n",
    "#for access the values and keys from dict\n",
    "for ii in MyDict:\n",
    "    print(ii) #Keys\n",
    "    print(MyDict[ii]) #Values\n",
    "    \n",
    "print(\"\")\n",
    "print(\"Type 2\")\n",
    "print(\"\")\n",
    "\n",
    "\n",
    "for jj,kk in MyDict.items():\n",
    "    print(jj,kk)"
   ]
  },
  {
   "cell_type": "code",
   "execution_count": 18,
   "metadata": {},
   "outputs": [
    {
     "data": {
      "text/plain": [
       "{99: 'Spam'}"
      ]
     },
     "execution_count": 18,
     "metadata": {},
     "output_type": "execute_result"
    }
   ],
   "source": [
    "L={}\n",
    "L[99]='Spam'\n",
    "L"
   ]
  },
  {
   "cell_type": "code",
   "execution_count": 29,
   "metadata": {},
   "outputs": [
    {
     "name": "stdout",
     "output_type": "stream",
     "text": [
      "Enter no.1\n",
      "Enter no.2\n",
      "Enter no.3\n",
      "Enter no.4\n",
      "Enter no.5\n",
      "Enter no.6\n",
      "Enter no.7\n",
      "Enter no.8\n",
      "Enter no.9\n",
      "Enter no.10\n",
      "{1: '1', 2: '2', 3: '3', 4: '4', 5: '5', 6: '6', 7: '7', 8: '8', 9: '9', 10: '10'}\n",
      "[1, 2, 3, 1, 2, 3]\n",
      "[4, 5, 6, 1, 2, 3]\n"
     ]
    }
   ],
   "source": [
    "K={}\n",
    "A=[1,2,3]\n",
    "B=[4,5,6]\n",
    "for i in range(1,11,1):\n",
    "    j=input(\"Enter Anything\")\n",
    "    K[i]=j\n",
    "    \n",
    "print(K)\n",
    "print(A*2)\n",
    "D=B+A #Merging 2 diff. lists\n",
    "print(D)"
   ]
  },
  {
   "cell_type": "code",
   "execution_count": null,
   "metadata": {},
   "outputs": [],
   "source": []
  }
 ],
 "metadata": {
  "kernelspec": {
   "display_name": "Python 3",
   "language": "python",
   "name": "python3"
  },
  "language_info": {
   "codemirror_mode": {
    "name": "ipython",
    "version": 3
   },
   "file_extension": ".py",
   "mimetype": "text/x-python",
   "name": "python",
   "nbconvert_exporter": "python",
   "pygments_lexer": "ipython3",
   "version": "3.8.3"
  }
 },
 "nbformat": 4,
 "nbformat_minor": 4
}
