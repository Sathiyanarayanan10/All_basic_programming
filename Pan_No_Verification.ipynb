{
 "cells": [
  {
   "cell_type": "code",
   "execution_count": 14,
   "metadata": {},
   "outputs": [
    {
     "name": "stdout",
     "output_type": "stream",
     "text": [
      "enter your pan number:abcde1234a\n"
     ]
    }
   ],
   "source": [
    "pan=input(\"enter your pan number:\")\n",
    "y=pan[0:5]\n",
    "x=pan[9:10]\n",
    "t=pan[5:9]\n",
    "if len(pan)==10:\n",
    "    if pan.isupper()==True and y.isalpha()==True and x.isalpha()==True and t.isdigit()==True:\n",
    "        print(\"valid\")\n",
    "else:\n",
    "    print(\"invalid\")"
   ]
  },
  {
   "cell_type": "code",
   "execution_count": 17,
   "metadata": {},
   "outputs": [
    {
     "name": "stdout",
     "output_type": "stream",
     "text": [
      "ABCde1234A\n",
      "Your PAN number is valid\n"
     ]
    }
   ],
   "source": [
    "#For checking the validate of PAN card\n",
    "n=input()\n",
    "if len(n)==10:\n",
    "    if n[0:5].isalpha():\n",
    "        if n[5:8].isdigit():\n",
    "            if n[9].isalpha():\n",
    "                print(\"Your PAN number is valid\")\n",
    "            else:\n",
    "                print(\"Last value should be Alphabet\",n[9])\n",
    "        else:\n",
    "            print(\"Values are wrong\",n[5:8])\n",
    "    else:\n",
    "        print(\"First five values should be Alphabet\",n[0:5])\n",
    "else: \n",
    "    if len(n)<10:\n",
    "        print(\"Values are not sufficient\")"
   ]
  },
  {
   "cell_type": "code",
   "execution_count": 22,
   "metadata": {},
   "outputs": [
    {
     "name": "stdout",
     "output_type": "stream",
     "text": [
      "5312354788\n",
      "Valid\n"
     ]
    }
   ],
   "source": [
    "#Python code to check validity of mobile number (Long Code)\n",
    "\n",
    "\n",
    "\n",
    "import sys\n",
    "\n",
    "number = input()\n",
    "\n",
    "if len(number)!=10:\n",
    "\n",
    "    print ('invalid')\n",
    "\n",
    "    sys.exit(0)\n",
    "\n",
    "if number[0]=='0':\n",
    "\n",
    "    print ('invalid')\n",
    "\n",
    "    sys.exit(0) \n",
    "\n",
    "for chr in number:\n",
    "\n",
    "    if chr.isalpha():\n",
    "\n",
    "        print ('invalid')\n",
    "\n",
    "        break\n",
    "\n",
    "else:\n",
    "\n",
    "    print('Valid') \n"
   ]
  },
  {
   "cell_type": "code",
   "execution_count": null,
   "metadata": {},
   "outputs": [],
   "source": []
  }
 ],
 "metadata": {
  "kernelspec": {
   "display_name": "Python 3",
   "language": "python",
   "name": "python3"
  },
  "language_info": {
   "codemirror_mode": {
    "name": "ipython",
    "version": 3
   },
   "file_extension": ".py",
   "mimetype": "text/x-python",
   "name": "python",
   "nbconvert_exporter": "python",
   "pygments_lexer": "ipython3",
   "version": "3.8.3"
  }
 },
 "nbformat": 4,
 "nbformat_minor": 4
}
