{
 "cells": [
  {
   "cell_type": "code",
   "execution_count": 5,
   "metadata": {},
   "outputs": [
    {
     "name": "stdout",
     "output_type": "stream",
     "text": [
      "ABC\n",
      "ABZ\n",
      "ABZZ\n",
      "ZZZ\n",
      "ABD ACA ACAA AAAA\n"
     ]
    }
   ],
   "source": [
    "def next_name(name):\n",
    "    alphabet = 'ABCDEFGHIJKLMNOPQRSTUVWXYZ'\n",
    "    i = len(name) - 1\n",
    "    while i >= 0:\n",
    "        if name[i] != 'Z':\n",
    "            return name[:i] + alphabet[alphabet.index(name[i])+1] + 'A'*(len(name)-(i+1))\n",
    "        i -= 1\n",
    "    return 'A' * (len(name)+1)\n",
    "a=input()\n",
    "b=input()\n",
    "c=input()\n",
    "d=input()\n",
    "print(next_name(a), next_name(b), next_name(c), next_name(d))"
   ]
  },
  {
   "cell_type": "code",
   "execution_count": null,
   "metadata": {},
   "outputs": [],
   "source": []
  }
 ],
 "metadata": {
  "kernelspec": {
   "display_name": "Python 3",
   "language": "python",
   "name": "python3"
  },
  "language_info": {
   "codemirror_mode": {
    "name": "ipython",
    "version": 3
   },
   "file_extension": ".py",
   "mimetype": "text/x-python",
   "name": "python",
   "nbconvert_exporter": "python",
   "pygments_lexer": "ipython3",
   "version": "3.8.3"
  }
 },
 "nbformat": 4,
 "nbformat_minor": 4
}
