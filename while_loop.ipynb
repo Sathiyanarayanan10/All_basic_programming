{
 "cells": [
  {
   "cell_type": "markdown",
   "metadata": {},
   "source": [
    "# Python while Loop"
   ]
  },
  {
   "cell_type": "code",
   "execution_count": null,
   "metadata": {},
   "outputs": [],
   "source": [
    "'''\n",
    "What is while loop in Python?\n",
    "The while loop in Python is used to iterate over a block \n",
    "of code as long as the test expression (condition) is true.\n",
    "\n",
    "We generally use this loop when we don't know the number of times to iterate beforehand.\n",
    "\n",
    "Syntax of while Loop in Python\n",
    "while test_expression:\n",
    "    Body of while\n",
    "    \n",
    "    \n",
    "In the while loop, test expression is checked first. \n",
    "The body of the loop is entered only if the test_expression evaluates to True. \n",
    "After one iteration, the test expression is checked again. \n",
    "This process continues until the test_expression evaluates to False.\n",
    "\n",
    "In Python, the body of the while loop is determined through indentation.\n",
    "\n",
    "The body starts with indentation and the first unindented line marks the end.\n",
    "\n",
    "Python interprets any non-zero value as True. None and 0 are interpreted as False.\n",
    "\n",
    "'''"
   ]
  },
  {
   "cell_type": "code",
   "execution_count": 1,
   "metadata": {},
   "outputs": [
    {
     "name": "stdout",
     "output_type": "stream",
     "text": [
      "Enter n: 8\n",
      "1\n",
      "2\n",
      "3\n",
      "4\n",
      "5\n",
      "6\n",
      "7\n",
      "8\n",
      "The sum is 36\n"
     ]
    },
    {
     "data": {
      "text/plain": [
       "'\\nIn the above program, the test expression will be True as long as our \\ncounter variable i is less than or equal to n (10 in our program).\\n\\nWe need to increase the value of the counter variable in the body of the loop. \\nThis is very important (and mostly forgotten). \\nFailing to do so will result in an infinite loop (never-ending loop).\\n\\nFinally, the result is displayed.\\n\\n\\nLast statement in the block ensures that, with every execution of loop, loop control\\nvariable (i) moves near to the termination point. If this does not happen then the loop will\\nkeep on executing infinitely.\\n\\nAs soon as i becomes 11, condition in while will evaluate to False and this will\\nterminate the loop. Result produced by the loop will be:\\n1 2 3 4 5 6 7 8 9 10\\n'"
      ]
     },
     "execution_count": 1,
     "metadata": {},
     "output_type": "execute_result"
    }
   ],
   "source": [
    "# Program to add natural\n",
    "# numbers up to \n",
    "# sum = 1+2+3+...+n\n",
    "\n",
    "# To take input from the user,\n",
    "# n = int(input(\"Enter n: \"))\n",
    "\n",
    "#n = 10\n",
    "n = int(input(\"Enter n: \"))\n",
    "# initialize sum and counter\n",
    "sum = 0\n",
    "i = 1\n",
    "\n",
    "while i <= n:\n",
    "    print(i)\n",
    "    sum = sum + i\n",
    "    i = i+1    # update counter\n",
    "    \n",
    "\n",
    "# print the sum\n",
    "print(\"The sum is\", sum)\n",
    "\n",
    "'''\n",
    "In the above program, the test expression will be True as long as our \n",
    "counter variable i is less than or equal to n (10 in our program).\n",
    "\n",
    "We need to increase the value of the counter variable in the body of the loop. \n",
    "This is very important (and mostly forgotten). \n",
    "Failing to do so will result in an infinite loop (never-ending loop).\n",
    "\n",
    "Finally, the result is displayed.\n",
    "\n",
    "\n",
    "Last statement in the block ensures that, with every execution of loop, loop control\n",
    "variable (i) moves near to the termination point. If this does not happen then the loop will\n",
    "keep on executing infinitely.\n",
    "\n",
    "As soon as i becomes 11, condition in while will evaluate to False and this will\n",
    "terminate the loop. Result produced by the loop will be:\n",
    "1 2 3 4 5 6 7 8 9 10\n",
    "'''"
   ]
  },
  {
   "cell_type": "code",
   "execution_count": 72,
   "metadata": {},
   "outputs": [
    {
     "name": "stdout",
     "output_type": "stream",
     "text": [
      "1\n",
      "2\n",
      "3\n",
      "4\n",
      "5\n",
      "Done\n"
     ]
    }
   ],
   "source": [
    "num = 1\n",
    "while num <= 5:\n",
    "    print( num )\n",
    "    num += 1\n",
    "print( \"Done\" )"
   ]
  },
  {
   "cell_type": "code",
   "execution_count": null,
   "metadata": {},
   "outputs": [],
   "source": []
  },
  {
   "cell_type": "code",
   "execution_count": 2,
   "metadata": {},
   "outputs": [
    {
     "name": "stdout",
     "output_type": "stream",
     "text": [
      "loop entered 1 times\n",
      "loop entered 2 times\n",
      "loop entered 3 times\n",
      "loop entered 4 times\n",
      "loop entered 5 times\n",
      "loop entered 6 times\n",
      "loop entered 7 times\n",
      "loop entered 8 times\n",
      "loop entered 9 times\n",
      "loop ends here\n"
     ]
    }
   ],
   "source": [
    "'''\n",
    "While loop statements in Python are used to repeatedly execute a certain\n",
    "statement as long as the condition provided in the while loop statement stays true. \n",
    "While loops let the program control to iterate over a block of code.\n",
    "'''\n",
    "\n",
    "a = 1\n",
    "\n",
    "\n",
    "while( a<10):\n",
    "    print(\"loop entered\", a, \"times\")\n",
    "    a = a+1\n",
    "print(\"loop ends here\")"
   ]
  },
  {
   "cell_type": "code",
   "execution_count": 6,
   "metadata": {},
   "outputs": [
    {
     "ename": "SyntaxError",
     "evalue": "invalid syntax (<ipython-input-6-c23e78d5d750>, line 9)",
     "output_type": "error",
     "traceback": [
      "\u001b[1;36m  File \u001b[1;32m\"<ipython-input-6-c23e78d5d750>\"\u001b[1;36m, line \u001b[1;32m9\u001b[0m\n\u001b[1;33m    i++\u001b[0m\n\u001b[1;37m       ^\u001b[0m\n\u001b[1;31mSyntaxError\u001b[0m\u001b[1;31m:\u001b[0m invalid syntax\n"
     ]
    }
   ],
   "source": [
    "'''\n",
    "For example, following code inside the while loop will be never executed \n",
    "because the initial test will return FALSE.\n",
    "\n",
    "'''\n",
    "i = 5\n",
    "while (i > 8):\n",
    "    print('This is while loop')\n",
    "    i++\n",
    "    \n",
    "    \n",
    "'''\n",
    "Here in this program while loop won’t be executed \n",
    "because in initial test i > 8 will return FALSE as the value of i is 5.\n",
    "\n",
    "'''"
   ]
  },
  {
   "cell_type": "code",
   "execution_count": 73,
   "metadata": {},
   "outputs": [
    {
     "name": "stdout",
     "output_type": "stream",
     "text": [
      "Please give a number: 5\n",
      "Please give a number: 9\n",
      "Please give a number: 5\n",
      "Please give a number: 6\n",
      "Please give a number: 54\n",
      "Total is 79\n"
     ]
    }
   ],
   "source": [
    "#while loop, second example\n",
    "from pcinput import getInteger\n",
    "\n",
    "total = 0\n",
    "count = 0\n",
    "while count < 5:\n",
    "    total += getInteger( \"Please give a number: \" )\n",
    "    count += 1\n",
    "\n",
    "print( \"Total is\", total )"
   ]
  },
  {
   "cell_type": "code",
   "execution_count": 74,
   "metadata": {},
   "outputs": [
    {
     "name": "stdout",
     "output_type": "stream",
     "text": [
      "Enter a number: 5\n",
      "Enter a number: 6\n",
      "Enter a number: 5\n",
      "Enter a number: 8\n",
      "Enter a number: 52\n",
      "Enter a number: 4\n",
      "Enter a number: 6\n",
      "Enter a number: 58\n",
      "Enter a number: 56\n",
      "Enter a number: 8\n",
      "Enter a number: 58\n",
      "Enter a number: 5\n",
      "Enter a number: 5\n",
      "Enter a number: 5\n",
      "Enter a number: 5\n",
      "Enter a number: 5\n",
      "Enter a number: 5\n",
      "Enter a number: 5\n",
      "Enter a number: -14\n",
      "Enter a number: -1\n",
      "Enter a number: 0\n",
      "Total is 286\n"
     ]
    }
   ],
   "source": [
    "#Putting the while loop under user control\n",
    "from pcinput import getInteger\n",
    "    \n",
    "num = -1\n",
    "total = 0\n",
    "while num != 0:\n",
    "    num = getInteger( \"Enter a number: \" )\n",
    "    total += num\n",
    "print( \"Total is\", total )"
   ]
  },
  {
   "cell_type": "markdown",
   "metadata": {},
   "source": [
    "factorial of Number calculation using recursion"
   ]
  },
  {
   "cell_type": "code",
   "execution_count": 11,
   "metadata": {},
   "outputs": [
    {
     "name": "stdout",
     "output_type": "stream",
     "text": [
      "Enter number:5\n",
      "Factorial of the number is: \n",
      "120\n"
     ]
    }
   ],
   "source": [
    "n=int(input(\"Enter number:\"))\n",
    "fact=1\n",
    "while(n>0):\n",
    "    fact=fact*n\n",
    "    n=n-1\n",
    "print(\"Factorial of the number is: \")\n",
    "print(fact)"
   ]
  },
  {
   "cell_type": "code",
   "execution_count": 2,
   "metadata": {},
   "outputs": [
    {
     "name": "stdout",
     "output_type": "stream",
     "text": [
      "Enter a number: 9\n",
      "Enter a number: 5\n",
      "Enter a number: 0\n",
      "Total is 14\n"
     ]
    }
   ],
   "source": [
    "from pcinput import getInteger\n",
    "    \n",
    "num = getInteger( \"Enter a number: \" )\n",
    "total = 0\n",
    "while num != 0:\n",
    "    total += num\n",
    "    num = getInteger( \"Enter a number: \" )\n",
    "print( \"Total is\", total )"
   ]
  },
  {
   "cell_type": "markdown",
   "metadata": {},
   "source": [
    "# Infinite While Loop in Python"
   ]
  },
  {
   "cell_type": "markdown",
   "metadata": {},
   "source": [
    "Infinite while loop refers to a while loop where the while condition never becomes false. When a condition never becomes false, the program enters the loop and keeps repeating that same block of code over and over again, and the loop never ends."
   ]
  },
  {
   "cell_type": "code",
   "execution_count": null,
   "metadata": {},
   "outputs": [],
   "source": [
    "'''The pass statement does nothing. \n",
    "It can be used when a statement is required syntactically but the program requires no action. For example:'''\n",
    "\n",
    "while True:\n",
    "    pass  # Busy-wait for keyboard interrupt (Ctrl+C)"
   ]
  },
  {
   "cell_type": "code",
   "execution_count": null,
   "metadata": {},
   "outputs": [],
   "source": [
    "i = 5\n",
    "while (i == 5):\n",
    "    print ('Infinite loop')"
   ]
  },
  {
   "cell_type": "code",
   "execution_count": null,
   "metadata": {},
   "outputs": [],
   "source": [
    "i=4\n",
    "while i == 4:\n",
    "    print('python is interesting')"
   ]
  },
  {
   "cell_type": "code",
   "execution_count": null,
   "metadata": {},
   "outputs": [
    {
     "name": "stdout",
     "output_type": "stream",
     "text": [
      "what’s your name?man\n",
      "what’s your name?man\n"
     ]
    }
   ],
   "source": [
    "a = 1\n",
    "\n",
    "\n",
    "while a==1:\n",
    "    b = input(\"what’s your name?\")\n",
    "print(\"Hi\", b, \", Welcome to Intellipaat!\")"
   ]
  },
  {
   "cell_type": "code",
   "execution_count": null,
   "metadata": {},
   "outputs": [],
   "source": [
    "i=1\n",
    "while i<=3:\n",
    "    j=1\n",
    "    while j<=i:\n",
    "        print(j), # inner while loop\n",
    "        j=j+1 \n",
    "print(i=i+1) "
   ]
  },
  {
   "cell_type": "code",
   "execution_count": null,
   "metadata": {},
   "outputs": [
    {
     "name": "stdout",
     "output_type": "stream",
     "text": [
      "Enter a number  :man\n",
      "You entered:  man\n",
      "Enter a number  :key\n",
      "You entered:  key\n",
      "Enter a number  :\n",
      "You entered:  \n"
     ]
    }
   ],
   "source": [
    "var = 1\n",
    "while var == 1 :  # This constructs an infinite loop\n",
    "    num = input(\"Enter a number  :\")\n",
    "    print(\"You entered: \", num)\n",
    "\n",
    "print(\"Good bye!\")"
   ]
  },
  {
   "cell_type": "code",
   "execution_count": 72,
   "metadata": {},
   "outputs": [
    {
     "name": "stdout",
     "output_type": "stream",
     "text": [
      "1\n",
      "2\n",
      "3\n",
      "4\n",
      "5\n",
      "Done\n"
     ]
    }
   ],
   "source": [
    "num = 1\n",
    "while num <= 5:\n",
    "    print( num )\n",
    "    num += 1\n",
    "print( \"Done\" )"
   ]
  },
  {
   "cell_type": "markdown",
   "metadata": {},
   "source": [
    "# While loop with else"
   ]
  },
  {
   "cell_type": "code",
   "execution_count": 13,
   "metadata": {},
   "outputs": [],
   "source": [
    "'''\n",
    "Same as with for loops, while loops can also have an optional else block.\n",
    "\n",
    "The else part is executed if the condition in the while loop evaluates to False.\n",
    "\n",
    "The while loop can be terminated with a break statement. In such cases, the else part is ignored.\n",
    "Hence, a while loop's else part runs if no break occurs and the condition is false.\n",
    "\n",
    "Here is an example to illustrate this.\n",
    "\n",
    "'''\n",
    "a=90"
   ]
  },
  {
   "cell_type": "code",
   "execution_count": 10,
   "metadata": {},
   "outputs": [
    {
     "name": "stdout",
     "output_type": "stream",
     "text": [
      "The sum is 55\n"
     ]
    }
   ],
   "source": [
    "# Program to add natural\n",
    "# numbers up to \n",
    "# sum = 1+2+3+...+n\n",
    "\n",
    "# To take input from the user,\n",
    "# n = int(input(\"Enter n: \"))\n",
    "\n",
    "n = 10\n",
    "\n",
    "# initialize sum and counter\n",
    "sum = 0\n",
    "i = 1\n",
    "\n",
    "while i <= n:\n",
    "    sum = sum + i\n",
    "    i = i+1    # update counter\n",
    "\n",
    "# print the sum\n",
    "print(\"The sum is\", sum)\n",
    "\n",
    "'''\n",
    "In the above program, the test expression will be True as long as our counter variable i \n",
    "is less than or equal to n (10 in our program).\n",
    "\n",
    "We need to increase the value of the counter variable in the body of the loop. \n",
    "This is very important (and mostly forgotten). \n",
    "Failing to do so will result in an infinite loop (never-ending loop).\n",
    "\n",
    "\n",
    "'''"
   ]
  },
  {
   "cell_type": "code",
   "execution_count": 77,
   "metadata": {},
   "outputs": [
    {
     "name": "stdout",
     "output_type": "stream",
     "text": [
      "0\n",
      "1\n",
      "2\n",
      "3\n",
      "4\n",
      "The loop ends, i is now 5\n",
      "Done\n"
     ]
    }
   ],
   "source": [
    "#Just like with an if statement, you can add an else statement to the end of a while or\n",
    "#for loop. The code block for the else is executed whenever the loop ends, i.e., when the\n",
    "#boolean expression for the while loop evaluates to False, or when the last item of the\n",
    "#collection of the for loop is processed.\n",
    "\n",
    "\n",
    "\n",
    "i = 0\n",
    "while i < 5:\n",
    "    print( i )\n",
    "    i += 1\n",
    "else:\n",
    "    print( \"The loop ends, i is now\", i )\n",
    "print( \"Done\" )"
   ]
  },
  {
   "cell_type": "code",
   "execution_count": 9,
   "metadata": {},
   "outputs": [
    {
     "name": "stdout",
     "output_type": "stream",
     "text": [
      "Inside loop\n",
      "Inside loop\n",
      "Inside loop\n",
      "Inside else\n"
     ]
    }
   ],
   "source": [
    "'''Example to illustrate\n",
    "the use of else statement\n",
    "with the while loop'''\n",
    "\n",
    "counter = 0\n",
    "\n",
    "while counter < 3:\n",
    "    print(\"Inside loop\")\n",
    "    counter = counter + 1\n",
    "else:\n",
    "    print(\"Inside else\")\n",
    "    \n",
    "    \n",
    "'''\n",
    "Here, we use a counter variable to print the string Inside loop three times.\n",
    "\n",
    "On the fourth iteration, the condition in while becomes False. Hence, the else part is executed.\n",
    "'''"
   ]
  },
  {
   "cell_type": "code",
   "execution_count": 89,
   "metadata": {},
   "outputs": [
    {
     "name": "stdout",
     "output_type": "stream",
     "text": [
      "5  is not less than 5\n"
     ]
    }
   ],
   "source": [
    "count = 5\n",
    "while count > 5:\n",
    "    print(count, \" is  less than 5\")\n",
    "    count = count + 1\n",
    "else:\n",
    "    print(count, \" is not less than 5\")"
   ]
  },
  {
   "cell_type": "code",
   "execution_count": 1,
   "metadata": {},
   "outputs": [
    {
     "name": "stdout",
     "output_type": "stream",
     "text": [
      "condition is true\n",
      "condition is true\n",
      "condition is true\n",
      "condition is true\n",
      "condition is false now\n"
     ]
    }
   ],
   "source": [
    "a = 1\n",
    "\n",
    "\n",
    "while a<5:\n",
    "    print(\"condition is true\")\n",
    "    a=a+1\n",
    "\n",
    "\n",
    "else:\n",
    "    print(\"condition is false now\")"
   ]
  },
  {
   "cell_type": "code",
   "execution_count": 93,
   "metadata": {},
   "outputs": [
    {
     "name": "stdout",
     "output_type": "stream",
     "text": [
      "0  is  less than 5\n",
      "1  is  less than 5\n",
      "2  is  less than 5\n",
      "3  is  less than 5\n",
      "4  is  less than 5\n",
      "5  is not less than 5\n"
     ]
    }
   ],
   "source": [
    "count = 0\n",
    "while count < 5:\n",
    "    print(count, \" is  less than 5\")\n",
    "    count = count + 1\n",
    "else:\n",
    "    print(count, \" is not less than 5\")"
   ]
  },
  {
   "cell_type": "markdown",
   "metadata": {},
   "source": [
    "# While with break"
   ]
  },
  {
   "cell_type": "markdown",
   "metadata": {},
   "source": [
    "Break:The break keyword terminates the loop and transfers the control to the end of the loop."
   ]
  },
  {
   "cell_type": "code",
   "execution_count": 9,
   "metadata": {},
   "outputs": [
    {
     "name": "stdout",
     "output_type": "stream",
     "text": [
      "Inside loop\n"
     ]
    }
   ],
   "source": [
    "'''Example to illustrate\n",
    "the use of else with break statement\n",
    "with the while loop'''\n",
    "\n",
    "counter = 0\n",
    "\n",
    "while counter < 3:\n",
    "    print(\"Inside loop\")\n",
    "    counter = counter + 1\n",
    "    break\n",
    "else:\n",
    "    print(\"Inside else\")"
   ]
  },
  {
   "cell_type": "code",
   "execution_count": 2,
   "metadata": {},
   "outputs": [
    {
     "name": "stdout",
     "output_type": "stream",
     "text": [
      "4\n",
      "3\n",
      "Loop ended.\n"
     ]
    }
   ],
   "source": [
    "n = 5\n",
    "while n > 0:\n",
    "    n -= 1\n",
    "    if n == 2:\n",
    "        break\n",
    "    print(n)\n",
    "print('Loop ended.')"
   ]
  },
  {
   "cell_type": "code",
   "execution_count": 79,
   "metadata": {},
   "outputs": [
    {
     "name": "stdout",
     "output_type": "stream",
     "text": [
      "428571 is three times 142857\n"
     ]
    }
   ],
   "source": [
    "i = 1\n",
    "while i <= 1000000:\n",
    "    num1 = int( \"1\" + str( i ) )\n",
    "    num2 = int( str( i ) + \"1\" )\n",
    "    if num2 == 3 * num1:\n",
    "        print( num2, \"is three times\", num1 )\n",
    "        break\n",
    "    i += 1\n",
    "else:\n",
    "    print( \"No answer found\" )"
   ]
  },
  {
   "cell_type": "code",
   "execution_count": 1,
   "metadata": {},
   "outputs": [
    {
     "name": "stdout",
     "output_type": "stream",
     "text": [
      "The student fails!\n"
     ]
    }
   ],
   "source": [
    "for grade in ( 8, 7.5, 9, 6, 6, 6, 5.5, 7, 5, 8, 7, 7.5 ):\n",
    "    if grade < 5.5:\n",
    "        print( \"The student fails!\" )\n",
    "        break\n",
    "else:\n",
    "    print( \"The student passes!\" )"
   ]
  },
  {
   "cell_type": "code",
   "execution_count": 83,
   "metadata": {},
   "outputs": [
    {
     "name": "stdout",
     "output_type": "stream",
     "text": [
      "Iteration 1\n",
      "Iteration 2\n",
      "Iteration 3\n",
      "While loop terminated\n"
     ]
    }
   ],
   "source": [
    "a = 1\n",
    "b = 1\n",
    "while (a<10):\n",
    "    print ('Iteration',a)\n",
    "    a = a + 1\n",
    "    b = b + 1\n",
    "    if (b == 4):\n",
    "        break\n",
    "print ('While loop terminated')"
   ]
  },
  {
   "cell_type": "code",
   "execution_count": null,
   "metadata": {},
   "outputs": [],
   "source": []
  },
  {
   "cell_type": "markdown",
   "metadata": {},
   "source": [
    "# While with continue"
   ]
  },
  {
   "cell_type": "markdown",
   "metadata": {},
   "source": [
    "### continue statement"
   ]
  },
  {
   "cell_type": "markdown",
   "metadata": {},
   "source": [
    "When the  is encountered in the code block of a loop, the current cycle ends immediately and the code loops back to the start of the loop. For a while loop, that means that the boolean expression is evaluated again. For a for loop, that means that the necontinue statementxt item is taken from the collection and processed."
   ]
  },
  {
   "cell_type": "code",
   "execution_count": 81,
   "metadata": {},
   "outputs": [
    {
     "name": "stdout",
     "output_type": "stream",
     "text": [
      "1\n",
      "5\n",
      "11\n",
      "13\n",
      "23\n",
      "25\n",
      "31\n",
      "35\n",
      "41\n",
      "43\n",
      "53\n",
      "55\n",
      "61\n",
      "65\n",
      "71\n",
      "73\n",
      "83\n",
      "85\n",
      "91\n",
      "95\n"
     ]
    }
   ],
   "source": [
    "num = 0\n",
    "while num < 100:\n",
    "    num += 1\n",
    "    if num%2 == 0:\n",
    "        continue\n",
    "    if num%3 == 0:\n",
    "        continue\n",
    "    if num%10 == 7:\n",
    "        continue\n",
    "    if num%10 == 9:\n",
    "        continue\n",
    "    print( num )"
   ]
  },
  {
   "cell_type": "markdown",
   "metadata": {},
   "source": [
    "Continue:The continue keyword terminates the ongoing iteration and transfers the control to the top of the loop and the loop condition is evaluated again. If the condition is true, then the next iteration takes place."
   ]
  },
  {
   "cell_type": "code",
   "execution_count": 3,
   "metadata": {},
   "outputs": [
    {
     "name": "stdout",
     "output_type": "stream",
     "text": [
      "5\n"
     ]
    }
   ],
   "source": [
    "a = 1\n",
    "\n",
    "\n",
    "while a <5:\n",
    "    a += 1\n",
    "    if a == 3:\n",
    "        continue\n",
    "print(a)"
   ]
  },
  {
   "cell_type": "code",
   "execution_count": 77,
   "metadata": {},
   "outputs": [
    {
     "name": "stdout",
     "output_type": "stream",
     "text": [
      "4\n",
      "3\n",
      "1\n",
      "0\n",
      "Loop ended.\n"
     ]
    }
   ],
   "source": [
    "n = 5\n",
    "while n > 0:\n",
    "    n -= 1\n",
    "    if n == 2:\n",
    "        continue\n",
    "    print(n)\n",
    "print('Loop ended.')"
   ]
  },
  {
   "cell_type": "code",
   "execution_count": 83,
   "metadata": {},
   "outputs": [
    {
     "name": "stdout",
     "output_type": "stream",
     "text": [
      "Enter number 1: 2\n",
      "Enter number 2: 2\n",
      "Multiplication of 2 and 2 gives 4\n",
      "Error: the numbers cannot be dividers\n"
     ]
    }
   ],
   "source": [
    "from pcinput import getInteger\n",
    "\n",
    "x = 3\n",
    "y = 7\n",
    "\n",
    "while (x != 0) and (y != 0) and (x%y != 0) and (y%x != 0):\n",
    "    x = getInteger( \"Enter number 1: \" )\n",
    "    y = getInteger( \"Enter number 2: \" )\n",
    "    if (x > 1000) or (y > 1000) or (x < 0) or (y < 0):\n",
    "        print( \"Numbers should both be between 0 and 1000\" )\n",
    "        continue\n",
    "    print( \"Multiplication of\", x, \"and\", y, \"gives\", x * y )\n",
    "    \n",
    "if x == 0 or y == 0:\n",
    "    print( \"Goodbye!\" )\n",
    "else:\n",
    "    print( \"Error: the numbers cannot be dividers\" )"
   ]
  },
  {
   "cell_type": "code",
   "execution_count": 84,
   "metadata": {},
   "outputs": [
    {
     "name": "stdout",
     "output_type": "stream",
     "text": [
      "Enter number 1: 5\n",
      "Enter number 2: 6\n",
      "Multiplication of 5 and 6 gives 30\n",
      "Enter number 1: 2\n",
      "Enter number 2: 1\n",
      "Error: the numbers cannot be dividers\n"
     ]
    }
   ],
   "source": [
    "from pcinput import getInteger\n",
    "\n",
    "x = getInteger( \"Enter number 1: \" )\n",
    "y = getInteger( \"Enter number 2: \" )\n",
    "\n",
    "while (x != 0) and (y != 0) and (x%y != 0) and (y%x != 0):\n",
    "    if (x > 1000) or (y > 1000) or (x < 0) or (y < 0):\n",
    "        print( \"Numbers should both be between 0 and 1000\" )\n",
    "        x = getInteger( \"Enter number 1: \" )\n",
    "        y = getInteger( \"Enter number 2: \" )\n",
    "        continue\n",
    "    print( \"Multiplication of\", x, \"and\", y, \"gives\", x * y )\n",
    "    x = getInteger( \"Enter number 1: \" )\n",
    "    y = getInteger( \"Enter number 2: \" )\n",
    "\n",
    "if x == 0 or y == 0:\n",
    "    print( \"Goodbye!\" )\n",
    "else:\n",
    "    print( \"Error: the numbers cannot be dividers\" )"
   ]
  },
  {
   "cell_type": "code",
   "execution_count": 85,
   "metadata": {},
   "outputs": [
    {
     "name": "stdout",
     "output_type": "stream",
     "text": [
      "Enter number 1: 5\n",
      "Enter number 2: 3\n",
      "Multiplication of 5 and 3 gives 15\n",
      "Enter number 1: 2\n",
      "Enter number 2: 36\n",
      "Error: the numbers cannot be dividers\n"
     ]
    },
    {
     "ename": "SystemExit",
     "evalue": "",
     "output_type": "error",
     "traceback": [
      "An exception has occurred, use %tb to see the full traceback.\n",
      "\u001b[1;31mSystemExit\u001b[0m\n"
     ]
    },
    {
     "name": "stderr",
     "output_type": "stream",
     "text": [
      "C:\\ProgramData\\Anaconda3\\lib\\site-packages\\IPython\\core\\interactiveshell.py:3304: UserWarning: To exit: use 'exit', 'quit', or Ctrl-D.\n",
      "  warn(\"To exit: use 'exit', 'quit', or Ctrl-D.\", stacklevel=1)\n"
     ]
    }
   ],
   "source": [
    "from pcinput import getInteger\n",
    "from sys import exit\n",
    "\n",
    "while True:\n",
    "    x = getInteger( \"Enter number 1: \" )\n",
    "    if x == 0:\n",
    "        break\n",
    "    y = getInteger( \"Enter number 2: \" )\n",
    "    if y == 0:\n",
    "        break\n",
    "    if (x < 0 or x > 1000) or (y < 0 or y > 1000):\n",
    "        print( \"The numbers should be between 0 and 1000\" )\n",
    "        continue\n",
    "    if x%y == 0 or y%x == 0:\n",
    "        print( \"Error: the numbers cannot be dividers\" )\n",
    "        exit()\n",
    "    print( \"Multiplication of\", x, \"and\", y, \"gives\", x * y )\n",
    "\n",
    "print( \"Goodbye!\" )"
   ]
  },
  {
   "cell_type": "code",
   "execution_count": null,
   "metadata": {},
   "outputs": [],
   "source": [
    "var = 10                    # Second Example\n",
    "while var > 0:              \n",
    "    var = var -1\n",
    "    if var == 5:\n",
    "        continue\n",
    "    print('Current variable value :', var)\n",
    "print(\"Good bye!\")"
   ]
  },
  {
   "cell_type": "markdown",
   "metadata": {},
   "source": [
    "# while with pass"
   ]
  },
  {
   "cell_type": "code",
   "execution_count": 78,
   "metadata": {},
   "outputs": [
    {
     "name": "stdout",
     "output_type": "stream",
     "text": [
      "Value of i : 13\n"
     ]
    }
   ],
   "source": [
    "\n",
    "# An empty loop  \n",
    "a = 'geeksforgeeks'\n",
    "i = 0\n",
    "  \n",
    "while i < len(a): \n",
    "    i += 1\n",
    "    pass\n",
    "print('Value of i :', i) "
   ]
  },
  {
   "cell_type": "code",
   "execution_count": 79,
   "metadata": {},
   "outputs": [
    {
     "name": "stdout",
     "output_type": "stream",
     "text": [
      "Value of i : 13\n"
     ]
    }
   ],
   "source": [
    "\n",
    "# An empty loop  \n",
    "a = 'geeksforgeeks'\n",
    "i = 0\n",
    "  \n",
    "while i < len(a): \n",
    "    i += 1\n",
    "print('Value of i :', i) "
   ]
  },
  {
   "cell_type": "code",
   "execution_count": 80,
   "metadata": {},
   "outputs": [
    {
     "name": "stdout",
     "output_type": "stream",
     "text": [
      "3\n",
      "1\n",
      "5\n",
      "3\n",
      "4\n",
      "4\n",
      "0\n",
      "DONE\n"
     ]
    }
   ],
   "source": [
    "'''\n",
    "\n",
    "Pass. Time passes. And often nothing happens. In Python we use the \"pass\" keyword (a statement) \n",
    "to indicate that nothing happens—the function, class or loop is empty.\n",
    "'''\n",
    "\n",
    "#Python program that uses while, pass\n",
    "\n",
    "import random\n",
    "\n",
    "def x():\n",
    "    # Print and return a random int.\n",
    "    result = random.randint(0, 5)\n",
    "    print(result)\n",
    "    return result\n",
    "\n",
    "# Continue calling x while its value is at least 1.\n",
    "# ... Use no loop body.\n",
    "while x() >= 1:\n",
    "    pass\n",
    "\n",
    "print(\"DONE\")"
   ]
  },
  {
   "cell_type": "code",
   "execution_count": null,
   "metadata": {},
   "outputs": [],
   "source": []
  },
  {
   "cell_type": "markdown",
   "metadata": {},
   "source": [
    "# We can do the same thing in an empty function or class as well."
   ]
  },
  {
   "cell_type": "code",
   "execution_count": 14,
   "metadata": {},
   "outputs": [],
   "source": [
    "def function(args):\n",
    "    pass\n",
    "class Example:\n",
    "    pass"
   ]
  },
  {
   "cell_type": "code",
   "execution_count": null,
   "metadata": {},
   "outputs": [],
   "source": []
  },
  {
   "cell_type": "code",
   "execution_count": null,
   "metadata": {},
   "outputs": [],
   "source": []
  },
  {
   "cell_type": "markdown",
   "metadata": {},
   "source": [
    "# Nested while loop"
   ]
  },
  {
   "cell_type": "code",
   "execution_count": 72,
   "metadata": {},
   "outputs": [
    {
     "name": "stdout",
     "output_type": "stream",
     "text": [
      "2  is prime\n",
      "3  is prime\n",
      "5  is prime\n",
      "7  is prime\n",
      "11  is prime\n",
      "13  is prime\n",
      "17  is prime\n",
      "19  is prime\n",
      "23  is prime\n",
      "29  is prime\n",
      "31  is prime\n",
      "37  is prime\n",
      "41  is prime\n",
      "43  is prime\n",
      "47  is prime\n",
      "53  is prime\n",
      "59  is prime\n",
      "61  is prime\n",
      "67  is prime\n",
      "71  is prime\n",
      "73  is prime\n",
      "79  is prime\n",
      "83  is prime\n",
      "89  is prime\n",
      "97  is prime\n",
      "Good bye!\n"
     ]
    }
   ],
   "source": [
    "#list the the prime number \n",
    "\n",
    "i = 2\n",
    "while(i < 100):\n",
    "    j = 2\n",
    "    while(j <= (i/j)):\n",
    "        if not(i%j): break\n",
    "        j = j + 1\n",
    "    if (j > i/j) : print(i, \" is prime\")\n",
    "    i = i + 1\n",
    "\n",
    "print(\"Good bye!\")"
   ]
  },
  {
   "cell_type": "code",
   "execution_count": 87,
   "metadata": {},
   "outputs": [
    {
     "name": "stdout",
     "output_type": "stream",
     "text": [
      "1 , 5\n",
      "2 , 6\n",
      "3 , 7\n"
     ]
    }
   ],
   "source": [
    "i = 1\n",
    "j = 5\n",
    "while i < 4:\n",
    "    while j < 8:\n",
    "        print(i, \",\", j)\n",
    "        j = j + 1\n",
    "        i = i + 1"
   ]
  },
  {
   "cell_type": "code",
   "execution_count": 2,
   "metadata": {},
   "outputs": [
    {
     "name": "stdout",
     "output_type": "stream",
     "text": [
      "How many terms? 4\n",
      "Fibonacci sequence upto 4 :\n",
      "0\n",
      "1\n",
      "1\n",
      "2\n"
     ]
    },
    {
     "data": {
      "text/plain": [
       "'\\nVIVA QUESTIONS\\n1.What is the difference between iteration and recursion?\\n2.How looping technique is different from Recursion?\\n'"
      ]
     },
     "execution_count": 2,
     "metadata": {},
     "output_type": "execute_result"
    }
   ],
   "source": [
    "#To print ‘n terms of Fibonacci series using iteration\n",
    "\n",
    "#Fn = Fn-1 + Fn-2 with initial valu F0 = 0 and F1 = 1\n",
    "# Program to display the Fibonacci sequence up to n-th term where n is provided by the user\n",
    "# change this value for a different result nterms = 10\n",
    "# uncomment to take input from the user\n",
    "nterms = int(input(\"How many terms? \"))\n",
    "# first two terms \n",
    "n1 = 0\n",
    "n2 = 1\n",
    "count = 0\n",
    "# check if the number of terms is valid \n",
    "if nterms <= 0:\n",
    "    print(\"Please enter a positive integer\")\n",
    "elif nterms == 1:\n",
    "    print(\"Fibonacci sequence upto\",nterms,\":\")\n",
    "    print(n1)\n",
    "else:\n",
    "    print(\"Fibonacci sequence upto\",nterms,\":\")\n",
    "    while count < nterms:\n",
    "        print(n1)\n",
    "        nth = n1 + n2\n",
    "        # update values\n",
    "        n1 = n2\n",
    "        n2 = nth\n",
    "        count += 1\n",
    "\"\"\"\n",
    "VIVA QUESTIONS\n",
    "1.What is the difference between iteration and recursion?\n",
    "2.How looping technique is different from Recursion?\n",
    "\"\"\""
   ]
  },
  {
   "cell_type": "markdown",
   "metadata": {},
   "source": [
    "# Exercise Problem with solution"
   ]
  },
  {
   "cell_type": "markdown",
   "metadata": {},
   "source": [
    "Pizza Toppings\n",
    "Write a loop that prompts the user to enter a series of pizza toppings until they enter a quit value. As they enter each topping, print a message saying you’ll add that topping to their pizza."
   ]
  },
  {
   "cell_type": "code",
   "execution_count": 14,
   "metadata": {},
   "outputs": [
    {
     "name": "stdout",
     "output_type": "stream",
     "text": [
      "\n",
      "What topping would you like on your pizza?\n",
      "Enter 'quit' when you are finished: bacon\n",
      "  I'll add bacon to your pizza.\n",
      "\n",
      "What topping would you like on your pizza?\n",
      "Enter 'quit' when you are finished: quit\n"
     ]
    }
   ],
   "source": [
    "prompt = \"\\nWhat topping would you like on your pizza?\"\n",
    "prompt += \"\\nEnter 'quit' when you are finished: \"\n",
    "\n",
    "while True:\n",
    "    topping = input(prompt)\n",
    "    if topping != 'quit':\n",
    "        print(\"  I'll add \" + topping + \" to your pizza.\")\n",
    "    else:\n",
    "        break"
   ]
  },
  {
   "cell_type": "markdown",
   "metadata": {},
   "source": [
    "Movie Tickets\n",
    "A movie theater charges different ticket prices depending on a person’s age. If a person is under the age of 3, the ticket is free; if they are between 3 and 12, the ticket is $10; and if they are over age 12, the ticket is $15. Write a loop in which you ask users their age, and then tel them the cost of their movie ticket."
   ]
  },
  {
   "cell_type": "code",
   "execution_count": 15,
   "metadata": {},
   "outputs": [
    {
     "name": "stdout",
     "output_type": "stream",
     "text": [
      "How old are you?\n",
      "Enter 'quit' when you are finished. 78\n",
      "  Your ticket is $15.\n",
      "How old are you?\n",
      "Enter 'quit' when you are finished. quit\n"
     ]
    }
   ],
   "source": [
    "prompt = \"How old are you?\"\n",
    "prompt += \"\\nEnter 'quit' when you are finished. \"\n",
    "\n",
    "while True:\n",
    "    age = input(prompt)\n",
    "    if age == 'quit':\n",
    "        break\n",
    "    age = int(age)\n",
    "\n",
    "    if age < 3:\n",
    "        print(\"  You get in free!\")\n",
    "    elif age < 13:\n",
    "        print(\"  Your ticket is $10.\")\n",
    "    else:\n",
    "        print(\"  Your ticket is $15.\")"
   ]
  },
  {
   "cell_type": "markdown",
   "metadata": {},
   "source": [
    "Deli\n",
    "Make a list called sandwich_orders and fill it with the names of various sandwiches. Then make an empty list called finished_sandwiches. Loop through the list of sandwich orders and print a message for each order, such as I made your tuna sandwich. As each sandwich is made, move it to the list of finished sandwiches. After all the sandwiches have been made, print a message listing each sandwich that was made."
   ]
  },
  {
   "cell_type": "code",
   "execution_count": 16,
   "metadata": {},
   "outputs": [
    {
     "name": "stdout",
     "output_type": "stream",
     "text": [
      "I'm working on your roast beef sandwich.\n",
      "I'm working on your turkey sandwich.\n",
      "I'm working on your grilled cheese sandwich.\n",
      "I'm working on your veggie sandwich.\n",
      "\n",
      "\n",
      "I made a roast beef sandwich.\n",
      "I made a turkey sandwich.\n",
      "I made a grilled cheese sandwich.\n",
      "I made a veggie sandwich.\n"
     ]
    }
   ],
   "source": [
    "sandwich_orders = ['veggie', 'grilled cheese', 'turkey', 'roast beef']\n",
    "finished_sandwiches = []\n",
    "\n",
    "while sandwich_orders:\n",
    "    current_sandwich = sandwich_orders.pop()\n",
    "    print(\"I'm working on your \" + current_sandwich + \" sandwich.\")\n",
    "    finished_sandwiches.append(current_sandwich)\n",
    "\n",
    "print(\"\\n\")\n",
    "for sandwich in finished_sandwiches:\n",
    "    print(\"I made a \" + sandwich + \" sandwich.\")"
   ]
  },
  {
   "cell_type": "markdown",
   "metadata": {},
   "source": [
    "No Pastrami\n",
    "Using the list sandwich_orders from Exercise 7-8, make sure the sandwich 'pastrami' appears in the list at least three times. Add code near the beginning of your program to print a message saying the deli has run out of pastrami, and then use a while loop to remove all occurences of 'pastrami' from sandwich_orders. Make sure no pastrami sandwiches end up in finished_sandiches."
   ]
  },
  {
   "cell_type": "code",
   "execution_count": 17,
   "metadata": {},
   "outputs": [
    {
     "name": "stdout",
     "output_type": "stream",
     "text": [
      "I'm sorry, we're all out of pastrami today.\n",
      "\n",
      "\n",
      "I'm working on your roast beef sandwich.\n",
      "I'm working on your turkey sandwich.\n",
      "I'm working on your grilled cheese sandwich.\n",
      "I'm working on your veggie sandwich.\n",
      "\n",
      "\n",
      "I made a roast beef sandwich.\n",
      "I made a turkey sandwich.\n",
      "I made a grilled cheese sandwich.\n",
      "I made a veggie sandwich.\n"
     ]
    }
   ],
   "source": [
    "sandwich_orders = [\n",
    "    'pastrami', 'veggie', 'grilled cheese', 'pastrami',\n",
    "    'turkey', 'roast beef', 'pastrami']\n",
    "finished_sandwiches = []\n",
    "\n",
    "print(\"I'm sorry, we're all out of pastrami today.\")\n",
    "while 'pastrami' in sandwich_orders:\n",
    "    sandwich_orders.remove('pastrami')\n",
    "\n",
    "print(\"\\n\")\n",
    "while sandwich_orders:\n",
    "    current_sandwich = sandwich_orders.pop()\n",
    "    print(\"I'm working on your \" + current_sandwich + \" sandwich.\")\n",
    "    finished_sandwiches.append(current_sandwich)\n",
    "\n",
    "print(\"\\n\")\n",
    "for sandwich in finished_sandwiches:\n",
    "    print(\"I made a \" + sandwich + \" sandwich.\")"
   ]
  },
  {
   "cell_type": "markdown",
   "metadata": {},
   "source": [
    "Dream Vacation\n",
    "Write a program that polls users about their dream vacation. Write a prompt similar to If you could visit one place in the world, where would you go? Include a block of code that prints the results of the poll."
   ]
  },
  {
   "cell_type": "code",
   "execution_count": 18,
   "metadata": {},
   "outputs": [
    {
     "name": "stdout",
     "output_type": "stream",
     "text": [
      "\n",
      "What's your name? manish\n",
      "If you could visit one place in the world, where would it be? delhi\n",
      "\n",
      "Would you like to let someone else respond? (yes/no) yes\n",
      "\n",
      "What's your name? mn\n",
      "If you could visit one place in the world, where would it be? bh\n",
      "\n",
      "Would you like to let someone else respond? (yes/no) no\n",
      "\n",
      "--- Results ---\n",
      "Manish would like to visit Delhi.\n",
      "Mn would like to visit Bh.\n"
     ]
    }
   ],
   "source": [
    "name_prompt = \"\\nWhat's your name? \"\n",
    "place_prompt = \"If you could visit one place in the world, where would it be? \"\n",
    "continue_prompt = \"\\nWould you like to let someone else respond? (yes/no) \"\n",
    "\n",
    "# Responses will be stored in the form {name: place}.\n",
    "responses = {}\n",
    "\n",
    "while True:\n",
    "    # Ask the user where they'd like to go.\n",
    "    name = input(name_prompt)\n",
    "    place = input(place_prompt)\n",
    "\n",
    "    # Store the response.\n",
    "    responses[name] = place\n",
    "\n",
    "    # Ask if there's anyone else responding.\n",
    "    repeat = input(continue_prompt)\n",
    "    if repeat != 'yes':\n",
    "        break\n",
    "\n",
    "# Show results of the survey.\n",
    "print(\"\\n--- Results ---\")\n",
    "for name, place in responses.items():\n",
    "    print(name.title() + \" would like to visit \" + place.title() + \".\")"
   ]
  },
  {
   "cell_type": "markdown",
   "metadata": {},
   "source": [
    "# Excercise Problem"
   ]
  },
  {
   "cell_type": "markdown",
   "metadata": {},
   "source": [
    "1. Using a while loop, write a program that prints out the integers 2, 5, 8, 11, 14, 17, and 20 in that order, all on the same line.\n",
    "2. Using a while loop, write a program that counts down from 100, stopping at 1, printing all the numbers on the same line.\n",
    "3. Write a program that repeatedly asks a user to enter positive integers. The user stops the program by entering a negative. After this, print the sum of all the numbers the user enters, excluding the final negative.\n",
    "4. Write a program that asks the user to enter numbers from 1 to 10. The program should stop when the user enters a 5. After the loop is done, the program should print out a count of how many numbers were entered and print out yes or no, depending on whether the user entered any numbers less than 3.\n",
    "5. Write a program that asks the user to enter a string of at least five characters. If the user enters a string that is not long enough, then a message should be printed and they should be asked again for the string. Keep doing this until they enter a long enough string and then print out the fifth character (index 4) of that string.\n",
    "6. Write a program that asks the user to enter a string of at least five characters. If the user enters a string that is not long enough, then a message should be printed and they should be asked again for the string. Keep doing this until they enter a long enough string. Then ask the user to enter an index in that string. If the user enters a negative or a number greater than or equal to the length of the string, then tell them to enter a valid index. Keep doing this until they enter a valid index and ask for the index again. Then print out the character of the user’s string at the index that they entered.\n",
    "7. Write a program that repeatedly asks the user to enter a string. For each string, print out whether or not it is a palindrome (reads the same backwards as forwards). The user indicates they are done by pressing enter without entering a string (which means their input will be the empty string).\n",
    "8. Write a program that asks the user to enter a positive number between 20 and 100. Then repeatedly subtract random numbers in the range from 1 to 10 from that value until the number becomes negative. After each subtraction, print out the new value of the number. For instance, if the user enters 25, the program might print out something like 25, 18, 16, 7, 3, -2.\n",
    "9. The Collatz conjecture is a well-known math problem. Start with any number x. If it is even, divide it by 2. If it is odd, compute 3x + 1. Then repeat the process with the next number, the one after that, etc. Collatz conjectured that no matter where you start, you will always eventually get to the number 1. For instance, starting with x = 3, since 3 is odd, we compute 3x + 1 to get 10. Then since 10 is even, we divide by 2 to get 5. Then since 5 is odd, we do 3x + 1 to get 16. Then since 16 is even, we divide by 2 to get 8. Continuing, we then get 4, 2, and 1, at which point the sequence starts to repeat. Write a program that asks the user for a starting value and then prints out the all the terms of the Collatz sequence, stopping when the a 1 is reached.\n",
    "10. Write a program that builds up a list, by adding random numbers from 1 to 10 to the list, stopping when the fifth 10 is generated. Print out the list at the end.\n",
    "11. Write a program that creates and prints a list of 50 random numbers from 1 to 5 with the property that the same number never appears twice or more in a row. [Hint: One way to do this is to use a while loop to make sure the current number being generated is not equal to the previous number.]\n",
    "12. Write a program that asks the user to enter a list of numbers. Replace the first negative number by 0, leave the rest of the list alone, and print the new list. If there are no negatives, then the list doesn’t change. [Hint: make sure as part of your while loop that you check to make sure the index doesn’t go past the end of the list.]\n",
    "13. Write a program that asks the user to enter a list of numbers. Replace the first three negative numbers by 0, leave the rest of the list alone, and print the new list. If there are less than three negatives, then all the negatives will become 0, and if there are no negatives, then the list doesn’t change.\n",
    "14. Write a program that asks the user to enter a string that consists of some letters and some non-letters. Print out the substring that consists of all the characters of the string from the first character up through, but not including, the first non-letter. For instance, if the string is abc#defg, the output would be abc. The output might end up being the empty string if the first character is not a letter.\n",
    "15. Write the following game. The player starts with 100 points. The program then picks a random number from 1 to 10 and asks the player to guess it. If they guess it right, they gain 100 points. If their guess is less than the number, then they lose 10 points. If their guess is greater, they lose 20 points. After the guess, print out the result of the guess and the player’s amount of points. The computer then picks a new number and play continues in the same way until the player gets to 200 or more points (in which case they win) or 0 or less points (in which case they lose). Print out a message at the end indicating whether the player won or lost.\n",
    "16. Write the following game. The player is given a random multiplication problem to answer. Make it so that the random numbers range from 2 to 99. For each problem, the player gets one guess. If they get it right, the number of points added to their score is the sum of the two numbers in the problem (e.g., if the problem is 7 x 12, they would earn 19 points). If they get it wrong, their score doesn’t change, but they lose a guess. After each problem, print out whether they get it right and print out their score and how many guesses are remaining. The player starts with three guesses. The game ends when the player either wins by reaching a score of 200 or loses by running out of guesses.\n",
    "17. Consider the following game. The player starts out with dollar 50. They have to pick a number from 1 to 10. The computer then picks a random number from 1 to 10. If the player’s number matches the computer’s or if the player’s guess is not in this range, then the player owes the computer dollar 50 and the game ends. If not, the player’s money doubles to dollar 100 and they keep playing. This time the player and the computer pick numbers from 1 to 9, and if their numbers match or if the player’s guess is not in this range, then the player owes the computer all the money (dollar 100). Otherwise, the player’s money doubles to dollar 200 and the game continues, this time with numbers from 1 to 8. This process continues, with the range of numbers shrinking by 1 each turn, until the last turn with numbers only ranging from 1 to 2. If the player’s and computer’s numbers ever match or if their guess is not in the proper range, the game is over and the player has to pay the computer whatever the money amount has gotten to. At any point, instead of guessing a number, the player can type in 0 to quit the game and leave with their current winnings. Write a program that plays this game, printing out after each guess whether the player gets it right or wrong, and how much money they have. Also print out the result of the end of the game. \n",
    "18. Write a program that asks the user to enter a string that consists of some letters and some non-letters. Then randomly remove the non-letters one at a time from the string until there are no more letters. After each letter is removed, print out the string.\n",
    "19. Write a program that asks the user for an integer n and then generates and prints a list of the first n prime numbers.\n",
    "20. Write a program that asks the user to enter a positive integer. Then generate and print random numbers from 1 to n until a repeat is generated. Please also label the numbers in the order they are generated. The output should look something like this (stopping at 12 because of the repeat).\n",
    "1. 7\n",
    "2. 12\n",
    "3. 15\n",
    "4. 12\n",
    "21. Here is an interesting question: Suppose a country has a policy where couples must continue having kids until they have a boy, at which point they can have no more kids. What will the long term percentage of boys and girls come out to? Ignore the possibility of twins and other complications. Find an approximate answer to this question by simulating 10,000 couples having kids according to this rule. It should count the total number of boys and girls born and return the percentage of girls.\n",
    "22. Consider a while loop that generates random numbers from 1 to 10 until a 6 comes up. Sometimes a 6 will come up right away and sometimes it will take quite a while. For instance, if we print out the numbers that the loop generates, we might see the sequence 2,3,1,3,6 or the sequence 2,1,9,9,2,2,10,8,9,6. We are interested in how long it could possibly take a 6 to come up. Write a program that simulates this by running this experiment 10,000 times times, and reports how long the longest sequence of numbers turns out to be from those 10,000 trials.\n",
    "23. People often try to collect all the items from a set. Suppose we have a set of 100 items that we are trying to collect. The items are sold in packages of 20 items, with all 20 items in each package being different. Write a program that simulates how long it will take until we have collected all 100 items. Do this by randomly generating packages of 20 and adding them to a collection until that collection has all 100 different items.\n",
    "24. Write a program that asks the user to enter two lists. Then sort both of those lists and “merge” them. Merging two lists means that we build up a new list by looping through each of the lists, comparing the current items in the two lists and adding the smaller item to the new list. For instance, if the two lists are [1,4, 5, 8, 10] and [2,3, 7], then the merged list is [1,2, 3, 4, 5, 7, 8, 10], which comes from first taking 1 from the left list, then taking 2 and 3 from the right list, then taking 5 from the left list, then taking 7 from the right list, and finally taking 8 and 10 from the left list."
   ]
  },
  {
   "cell_type": "code",
   "execution_count": null,
   "metadata": {},
   "outputs": [],
   "source": []
  },
  {
   "cell_type": "code",
   "execution_count": null,
   "metadata": {},
   "outputs": [],
   "source": []
  },
  {
   "cell_type": "code",
   "execution_count": null,
   "metadata": {},
   "outputs": [],
   "source": []
  },
  {
   "cell_type": "code",
   "execution_count": null,
   "metadata": {},
   "outputs": [],
   "source": []
  }
 ],
 "metadata": {
  "kernelspec": {
   "display_name": "Python 3",
   "language": "python",
   "name": "python3"
  },
  "language_info": {
   "codemirror_mode": {
    "name": "ipython",
    "version": 3
   },
   "file_extension": ".py",
   "mimetype": "text/x-python",
   "name": "python",
   "nbconvert_exporter": "python",
   "pygments_lexer": "ipython3",
   "version": "3.7.4"
  }
 },
 "nbformat": 4,
 "nbformat_minor": 2
}
