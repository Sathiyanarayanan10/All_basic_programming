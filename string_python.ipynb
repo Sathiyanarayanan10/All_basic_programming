{
 "cells": [
  {
   "cell_type": "markdown",
   "metadata": {},
   "source": [
    "# THE str CLASS\n"
   ]
  },
  {
   "cell_type": "code",
   "execution_count": 23,
   "metadata": {},
   "outputs": [
    {
     "name": "stdout",
     "output_type": "stream",
     "text": [
      "\n",
      "Hello\n"
     ]
    }
   ],
   "source": [
    "#Strings are objects of the str class. We can create a string using the constructor of str class as:\n",
    "S1=str() #Creates an Empty string Object\n",
    "print(S1)\n",
    "S2=str(\"Hello\") #Creates a String Object for Hello\n",
    "print(S2)\n",
    "#An alternative way to create a string object is by assigning a string value to a variable."
   ]
  },
  {
   "cell_type": "code",
   "execution_count": 24,
   "metadata": {},
   "outputs": [],
   "source": [
    "S1 = \"\" # Creates a Empty String\n",
    "S2= \"Hello\" # Equivalent to S2=str(“Hello”)"
   ]
  },
  {
   "cell_type": "code",
   "execution_count": 6,
   "metadata": {},
   "outputs": [
    {
     "name": "stdout",
     "output_type": "stream",
     "text": [
      "satish ram\n"
     ]
    }
   ],
   "source": [
    "print(\"satish\",\"ram\")"
   ]
  },
  {
   "cell_type": "code",
   "execution_count": 7,
   "metadata": {},
   "outputs": [
    {
     "name": "stdout",
     "output_type": "stream",
     "text": [
      "satish,ram\n"
     ]
    }
   ],
   "source": [
    "print(\"satish\",\"ram\",sep=\",\")"
   ]
  },
  {
   "cell_type": "code",
   "execution_count": 8,
   "metadata": {
    "scrolled": false
   },
   "outputs": [
    {
     "name": "stdout",
     "output_type": "stream",
     "text": [
      "satish,rama"
     ]
    }
   ],
   "source": [
    "print(\"satish\",\"ram\",sep=\",\",end=\"a\",flush=\"True\")"
   ]
  },
  {
   "cell_type": "code",
   "execution_count": 10,
   "metadata": {},
   "outputs": [],
   "source": []
  },
  {
   "cell_type": "code",
   "execution_count": null,
   "metadata": {},
   "outputs": [],
   "source": []
  },
  {
   "cell_type": "code",
   "execution_count": null,
   "metadata": {},
   "outputs": [],
   "source": []
  },
  {
   "cell_type": "code",
   "execution_count": null,
   "metadata": {},
   "outputs": [],
   "source": []
  },
  {
   "cell_type": "code",
   "execution_count": null,
   "metadata": {},
   "outputs": [],
   "source": []
  },
  {
   "cell_type": "markdown",
   "metadata": {},
   "source": [
    "# Assign String to a Variable"
   ]
  },
  {
   "cell_type": "code",
   "execution_count": 20,
   "metadata": {},
   "outputs": [
    {
     "name": "stdout",
     "output_type": "stream",
     "text": [
      "Hellow\n"
     ]
    }
   ],
   "source": [
    "#Assigning a string to a variable is done with the variable name followed by an equal sign and the string\n",
    "\n",
    "b = \"Hellow\"\n",
    "print(b)"
   ]
  },
  {
   "cell_type": "markdown",
   "metadata": {},
   "source": [
    "# Multiline Strings"
   ]
  },
  {
   "cell_type": "code",
   "execution_count": 21,
   "metadata": {},
   "outputs": [
    {
     "name": "stdout",
     "output_type": "stream",
     "text": [
      "Lorem ipsum dolor sit amet,\n",
      "consectetur adipiscing elit,\n",
      "sed do eiusmod tempor incididunt\n",
      "ut labore et dolore magna aliqua.\n"
     ]
    }
   ],
   "source": [
    "#You can assign a multiline string to a variable by using three quotes:\n",
    "a = \"\"\"Lorem ipsum dolor sit amet,\n",
    "consectetur adipiscing elit,\n",
    "sed do eiusmod tempor incididunt\n",
    "ut labore et dolore magna aliqua.\"\"\"\n",
    "print(a)"
   ]
  },
  {
   "cell_type": "code",
   "execution_count": null,
   "metadata": {},
   "outputs": [],
   "source": []
  },
  {
   "cell_type": "code",
   "execution_count": null,
   "metadata": {},
   "outputs": [],
   "source": []
  },
  {
   "cell_type": "code",
   "execution_count": null,
   "metadata": {},
   "outputs": [],
   "source": []
  },
  {
   "cell_type": "markdown",
   "metadata": {},
   "source": [
    "# Strings are Arrays"
   ]
  },
  {
   "cell_type": "markdown",
   "metadata": {},
   "source": [
    "Like many other popular programming languages, strings in Python are arrays of bytes representing unicode characters.\n",
    "\n",
    "However, Python does not have a character data type, a single character is simply a string with a length of 1.\n",
    "\n",
    "Square brackets can be used to access elements of the string."
   ]
  },
  {
   "cell_type": "code",
   "execution_count": 1,
   "metadata": {},
   "outputs": [
    {
     "name": "stdout",
     "output_type": "stream",
     "text": [
      "H\n",
      "e\n",
      "l\n",
      "l\n",
      "o\n",
      " \n",
      "W\n",
      "o\n",
      "r\n",
      "l\n",
      "d\n",
      "d\n",
      "l\n",
      "r\n",
      "o\n",
      "W\n",
      " \n",
      "o\n",
      "l\n",
      "l\n",
      "e\n"
     ]
    }
   ],
   "source": [
    "#Get the character at position 1 (remember that the first character has the position 0):\n",
    "word = \"Hello World\"\n",
    "print(word[0])\n",
    "print(word[1])\n",
    "print(word[2])\n",
    "print(word[3])\n",
    "print(word[4])\n",
    "print(word[5])\n",
    "print(word[6])\n",
    "print(word[7])\n",
    "print(word[8])\n",
    "print(word[9])\n",
    "print(word[10])\n",
    "#print word[0]\n",
    "print(word[-1])\n",
    "print(word[-2])\n",
    "print(word[-3])\n",
    "print(word[-4])\n",
    "print(word[-5])\n",
    "print(word[-6])\n",
    "print(word[-7])\n",
    "print(word[-8])\n",
    "print(word[-9])\n",
    "print(word[-10])"
   ]
  },
  {
   "cell_type": "code",
   "execution_count": 16,
   "metadata": {},
   "outputs": [
    {
     "name": "stdout",
     "output_type": "stream",
     "text": [
      "H\n",
      "e\n",
      "l\n"
     ]
    }
   ],
   "source": [
    "word = \"Hello World\"\n",
    "print(word[0])\n",
    "print(word[1])\n",
    "print(word[2])"
   ]
  },
  {
   "cell_type": "code",
   "execution_count": 3,
   "metadata": {},
   "outputs": [
    {
     "name": "stdout",
     "output_type": "stream",
     "text": [
      "She said \"Never let go\".\n"
     ]
    }
   ],
   "source": [
    "'''\n",
    "Escaping Characters\n",
    "Backslashes (\\) are used to escape characters in a Python string.\n",
    "\n",
    "For instance, to print a string with quotation marks, the given code snippet can be used.\n",
    "'''\n",
    "\n",
    "txt = \"She said \\\"Never let go\\\".\"\n",
    "print(txt) # She said \"Never let go\"."
   ]
  },
  {
   "cell_type": "code",
   "execution_count": 18,
   "metadata": {},
   "outputs": [
    {
     "name": "stdout",
     "output_type": "stream",
     "text": [
      "d\n",
      "l\n",
      "r\n"
     ]
    }
   ],
   "source": [
    "word = \"Hello World\"\n",
    "print(word[-1])\n",
    "print(word[-2])\n",
    "print(word[-3])"
   ]
  },
  {
   "cell_type": "markdown",
   "metadata": {},
   "source": [
    "# Looping Through a String"
   ]
  },
  {
   "cell_type": "markdown",
   "metadata": {},
   "source": [
    "Since strings are arrays, we can loop through the characters in a string, with a for loop."
   ]
  },
  {
   "cell_type": "code",
   "execution_count": 10,
   "metadata": {},
   "outputs": [
    {
     "name": "stdout",
     "output_type": "stream",
     "text": [
      "b\n",
      "a\n",
      "n\n",
      "a\n",
      "n\n",
      "a\n"
     ]
    }
   ],
   "source": [
    "for x in \"banana\":\n",
    "    print(x)\n"
   ]
  },
  {
   "cell_type": "code",
   "execution_count": 30,
   "metadata": {},
   "outputs": [
    {
     "name": "stdout",
     "output_type": "stream",
     "text": [
      "I O E Y H N R G A M N "
     ]
    }
   ],
   "source": [
    "S=\"ILOVEPYTHONPROGRAMMING\"\n",
    "for ch in range(0,len(S),2):#Traverse each Second character\n",
    "    print(S[ch],end=\" \")"
   ]
  },
  {
   "cell_type": "code",
   "execution_count": 31,
   "metadata": {},
   "outputs": [
    {
     "name": "stdout",
     "output_type": "stream",
     "text": [
      "India"
     ]
    }
   ],
   "source": [
    "#Write a program to traverse all the elements of a string using the while loop.\n",
    "\n",
    "S=\"India\"\n",
    "index=0\n",
    "while index<len(S):\n",
    "    print(S[index],end=\"\")\n",
    "    index=index+1"
   ]
  },
  {
   "cell_type": "code",
   "execution_count": 43,
   "metadata": {},
   "outputs": [
    {
     "name": "stdout",
     "output_type": "stream",
     "text": [
      "3 letters found\n"
     ]
    }
   ],
   "source": [
    "count = 0\n",
    "for letter in 'Hello World':\n",
    "    if(letter == 'l'):\n",
    "        count += 1\n",
    "print(count,'letters found')"
   ]
  },
  {
   "cell_type": "markdown",
   "metadata": {},
   "source": [
    "# The String +, * and in Operators"
   ]
  },
  {
   "cell_type": "code",
   "execution_count": 24,
   "metadata": {},
   "outputs": [
    {
     "data": {
      "text/plain": [
       "'VIT Vellore'"
      ]
     },
     "execution_count": 24,
     "metadata": {},
     "output_type": "execute_result"
    }
   ],
   "source": [
    "S1=\"VIT\" #The String “VIT” assigned to S1\n",
    "S2=\"Vellore\"\n",
    "S1+\" \"+S2#The concatenation operator ‘+’ is used to join two strings."
   ]
  },
  {
   "cell_type": "code",
   "execution_count": 47,
   "metadata": {},
   "outputs": [
    {
     "data": {
      "text/plain": [
       "'VITVITVIT'"
      ]
     },
     "execution_count": 47,
     "metadata": {},
     "output_type": "execute_result"
    }
   ],
   "source": [
    "S1=\"VIT\" #The String “VIT” assigned to S1\n",
    "\n",
    "S2=3*S1#Print the String “Hello” three times\n",
    "S2"
   ]
  },
  {
   "cell_type": "code",
   "execution_count": 48,
   "metadata": {},
   "outputs": [
    {
     "data": {
      "text/plain": [
       "True"
      ]
     },
     "execution_count": 48,
     "metadata": {},
     "output_type": "execute_result"
    }
   ],
   "source": [
    "S1=\"Information Technology\"\n",
    "#Check if the string “Technology” is present in S1\n",
    "\n",
    "\"Technology\" in S1"
   ]
  },
  {
   "cell_type": "markdown",
   "metadata": {},
   "source": [
    "# String Comparison"
   ]
  },
  {
   "cell_type": "markdown",
   "metadata": {},
   "source": [
    "Operators such as ==,<,>,<=,>=and != are used to compare the strings. Python compares strings by\n",
    "comparing their corresponding characters."
   ]
  },
  {
   "cell_type": "code",
   "execution_count": 49,
   "metadata": {},
   "outputs": [
    {
     "data": {
      "text/plain": [
       "True"
      ]
     },
     "execution_count": 49,
     "metadata": {},
     "output_type": "execute_result"
    }
   ],
   "source": [
    "S1='abcd'\n",
    "S2='ABCD'\n",
    "S1>S2"
   ]
  },
  {
   "cell_type": "code",
   "execution_count": 50,
   "metadata": {},
   "outputs": [
    {
     "data": {
      "text/plain": [
       "False"
      ]
     },
     "execution_count": 50,
     "metadata": {},
     "output_type": "execute_result"
    }
   ],
   "source": [
    "S1='ABC'\n",
    "S2='DEF'\n",
    "S1>S2"
   ]
  },
  {
   "cell_type": "code",
   "execution_count": 51,
   "metadata": {},
   "outputs": [
    {
     "data": {
      "text/plain": [
       "False"
      ]
     },
     "execution_count": 51,
     "metadata": {},
     "output_type": "execute_result"
    }
   ],
   "source": [
    "S1='AAA'\n",
    "S2='AAB'\n",
    "S1>S2"
   ]
  },
  {
   "cell_type": "code",
   "execution_count": null,
   "metadata": {},
   "outputs": [],
   "source": []
  },
  {
   "cell_type": "markdown",
   "metadata": {},
   "source": [
    "# String Length"
   ]
  },
  {
   "cell_type": "code",
   "execution_count": null,
   "metadata": {},
   "outputs": [],
   "source": []
  },
  {
   "cell_type": "code",
   "execution_count": null,
   "metadata": {},
   "outputs": [],
   "source": []
  },
  {
   "cell_type": "code",
   "execution_count": null,
   "metadata": {},
   "outputs": [],
   "source": [
    "#To get the length of a string, use the len() function.\n",
    "#The len() function returns the length of a string:\n"
   ]
  },
  {
   "cell_type": "code",
   "execution_count": 3,
   "metadata": {},
   "outputs": [
    {
     "name": "stdout",
     "output_type": "stream",
     "text": [
      "13\n"
     ]
    }
   ],
   "source": [
    "a = \"Hello, World!\"\n",
    "print(len(a))"
   ]
  },
  {
   "cell_type": "markdown",
   "metadata": {},
   "source": [
    "# Check String"
   ]
  },
  {
   "cell_type": "markdown",
   "metadata": {},
   "source": [
    "\n",
    "To check if a certain phrase or character is present in a string, we can use the keyword in."
   ]
  },
  {
   "cell_type": "markdown",
   "metadata": {},
   "source": [
    "# The in Syntax"
   ]
  },
  {
   "cell_type": "code",
   "execution_count": 4,
   "metadata": {},
   "outputs": [
    {
     "name": "stdout",
     "output_type": "stream",
     "text": [
      "True\n",
      "False\n"
     ]
    }
   ],
   "source": [
    "'''\n",
    "The in syntax is used to determine if a letter or a substring exists in a string. It returns True if a match is found, \n",
    "otherwise False is returned.\n",
    "'''\n",
    "game = \"Popular Nintendo Game: Mario Kart\"\n",
    " \n",
    "print(\"l\" in game) # Prints: True\n",
    "print(\"x\" in game) # Prints: False\n"
   ]
  },
  {
   "cell_type": "code",
   "execution_count": 4,
   "metadata": {},
   "outputs": [
    {
     "name": "stdout",
     "output_type": "stream",
     "text": [
      "Yes, 'free' is present.\n"
     ]
    }
   ],
   "source": [
    "txt = \"The best things in life are free!\"\n",
    "if \"free\" in txt:\n",
    "    print(\"Yes, 'free' is present.\")"
   ]
  },
  {
   "cell_type": "markdown",
   "metadata": {},
   "source": [
    "# Check if NOT"
   ]
  },
  {
   "cell_type": "markdown",
   "metadata": {},
   "source": [
    "To check if a certain phrase or character is NOT present in a string, we can use the keyword not in.\n",
    "Check if \"expensive\" is NOT present in the following text:"
   ]
  },
  {
   "cell_type": "code",
   "execution_count": 5,
   "metadata": {},
   "outputs": [
    {
     "name": "stdout",
     "output_type": "stream",
     "text": [
      "True\n"
     ]
    }
   ],
   "source": [
    "txt = \"The best things in life are free!\"\n",
    "print(\"expensive\" not in txt)"
   ]
  },
  {
   "cell_type": "code",
   "execution_count": 6,
   "metadata": {},
   "outputs": [
    {
     "name": "stdout",
     "output_type": "stream",
     "text": [
      "Yes, 'expensive' is NOT present.\n"
     ]
    }
   ],
   "source": [
    "txt = \"The best things in life are free!\"\n",
    "if \"expensive\" not in txt:\n",
    "    print(\"Yes, 'expensive' is NOT present.\")"
   ]
  },
  {
   "cell_type": "markdown",
   "metadata": {},
   "source": [
    "# Indexing and Slicing Strings"
   ]
  },
  {
   "cell_type": "markdown",
   "metadata": {},
   "source": [
    "Slicing\n",
    "We can return a range of characters by using the slice syntax.\n",
    "\n",
    "Specify the start index and the end index, separated by a colon, to return a part of the string.\n",
    "\n",
    "Example\n",
    "Get the characters from position 2 to position 5 (not included):"
   ]
  },
  {
   "cell_type": "code",
   "execution_count": 33,
   "metadata": {},
   "outputs": [
    {
     "data": {
      "text/plain": [
       "'e'"
      ]
     },
     "execution_count": 33,
     "metadata": {},
     "output_type": "execute_result"
    }
   ],
   "source": [
    "str = 'yellow'\n",
    "str[1]     # => 'e'\n",
    "#str[-1]    # => 'w'\n",
    "#str[4:6]   # => 'ow'\n",
    "#str[:4]    # => 'yell'\n",
    "#str[-3:]   # => 'low'"
   ]
  },
  {
   "cell_type": "code",
   "execution_count": 52,
   "metadata": {},
   "outputs": [
    {
     "data": {
      "text/plain": [
       "'w'"
      ]
     },
     "execution_count": 52,
     "metadata": {},
     "output_type": "execute_result"
    }
   ],
   "source": [
    "str = 'yellow'\n",
    "str[1]     # => 'e'\n",
    "str[-1]    # => 'w'\n",
    "#str[4:6]   # => 'ow'\n",
    "#str[:4]    # => 'yell'\n",
    "#str[-3:]   # => 'low'"
   ]
  },
  {
   "cell_type": "code",
   "execution_count": null,
   "metadata": {},
   "outputs": [],
   "source": [
    "str = 'yellow'\n",
    "str[1]     # => 'e'\n",
    "str[-1]    # => 'w'\n",
    "str[4:6]   # => 'ow'\n",
    "#str[:4]    # => 'yell'\n",
    "#str[-3:]   # => 'low'"
   ]
  },
  {
   "cell_type": "code",
   "execution_count": 5,
   "metadata": {},
   "outputs": [
    {
     "data": {
      "text/plain": [
       "'low'"
      ]
     },
     "execution_count": 5,
     "metadata": {},
     "output_type": "execute_result"
    }
   ],
   "source": [
    "'''\n",
    "Python strings can be indexed using the same notation as lists, \n",
    "since strings are lists of characters. \n",
    "A single character can be accessed with bracket notation ([index]), \n",
    "or a substring can be accessed using slicing ([start:end]).\n",
    "\n",
    "Indexing with negative numbers counts from the end of the string.\n",
    "'''\n",
    "str = 'yellow'\n",
    "str[1]     # => 'e'\n",
    "str[-1]    # => 'w'\n",
    "str[4:6]   # => 'ow'\n",
    "str[:4]    # => 'yell'\n",
    "str[-3:]   # => 'low'\n"
   ]
  },
  {
   "cell_type": "code",
   "execution_count": 39,
   "metadata": {},
   "outputs": [
    {
     "name": "stdout",
     "output_type": "stream",
     "text": [
      "6\n"
     ]
    },
    {
     "data": {
      "text/plain": [
       "'yell'"
      ]
     },
     "execution_count": 39,
     "metadata": {},
     "output_type": "execute_result"
    }
   ],
   "source": [
    "str = 'yellow'\n",
    "print(len(str))\n",
    "str[1]     # => 'e'\n",
    "str[-1]    # => 'w'\n",
    "str[4:6]   # => 'ow'\n",
    "str[:4]    # => 'yell'\n",
    "#str[-3:]   # => 'low'\n",
    "\n"
   ]
  },
  {
   "cell_type": "code",
   "execution_count": null,
   "metadata": {},
   "outputs": [],
   "source": [
    "s = 'spam'"
   ]
  },
  {
   "cell_type": "code",
   "execution_count": 34,
   "metadata": {},
   "outputs": [
    {
     "data": {
      "text/plain": [
       "'ylo'"
      ]
     },
     "execution_count": 34,
     "metadata": {},
     "output_type": "execute_result"
    }
   ],
   "source": [
    "#Name_of_Variable_of_a_String[Start_Index:End_Index:Step_Size]\n",
    "S = 'yellow'\n",
    "S[0:len(S):2]"
   ]
  },
  {
   "cell_type": "markdown",
   "metadata": {},
   "source": [
    "# find"
   ]
  },
  {
   "cell_type": "code",
   "execution_count": 63,
   "metadata": {},
   "outputs": [
    {
     "name": "stdout",
     "output_type": "stream",
     "text": [
      "7\n"
     ]
    }
   ],
   "source": [
    "#Where in the text is the word \"welcome\"?:\n",
    "txt = \"Hello, welcome to my world.\"\n",
    "\n",
    "x = txt.find(\"welcome\")\n",
    "\n",
    "print(x)"
   ]
  },
  {
   "cell_type": "code",
   "execution_count": 58,
   "metadata": {},
   "outputs": [
    {
     "name": "stdout",
     "output_type": "stream",
     "text": [
      "7\n",
      "21\n",
      "-1\n"
     ]
    }
   ],
   "source": [
    "b = \"Hello, World! Python is easy language\"\n",
    "\n",
    "print(b.find(\"World\") )\n",
    "print(b.find(\"is\") )\n",
    "print(b.find(\"z\") )"
   ]
  },
  {
   "cell_type": "code",
   "execution_count": 61,
   "metadata": {},
   "outputs": [
    {
     "name": "stdout",
     "output_type": "stream",
     "text": [
      "1\n"
     ]
    }
   ],
   "source": [
    "#Where in the text is the first occurrence of the letter \"e\"?:\n",
    "txt = \"Hello, welcome to my world.\"\n",
    "\n",
    "x = txt.find(\"e\")\n",
    "\n",
    "print(x)"
   ]
  },
  {
   "cell_type": "code",
   "execution_count": 62,
   "metadata": {},
   "outputs": [
    {
     "name": "stdout",
     "output_type": "stream",
     "text": [
      "8\n"
     ]
    }
   ],
   "source": [
    "#Where in the text is the first occurrence of the letter \"e\" when you only search between position 5 and 10?:\n",
    "txt = \"Hello, welcome to my world.\"\n",
    "\n",
    "x = txt.find(\"e\", 5, 10)\n",
    "\n",
    "print(x)"
   ]
  },
  {
   "cell_type": "code",
   "execution_count": 25,
   "metadata": {},
   "outputs": [
    {
     "ename": "ValueError",
     "evalue": "substring not found",
     "output_type": "error",
     "traceback": [
      "\u001b[1;31m---------------------------------------------------------------------------\u001b[0m",
      "\u001b[1;31mValueError\u001b[0m                                Traceback (most recent call last)",
      "\u001b[1;32m<ipython-input-25-088d6438ed2a>\u001b[0m in \u001b[0;36m<module>\u001b[1;34m\u001b[0m\n\u001b[0;32m      4\u001b[0m \u001b[1;33m\u001b[0m\u001b[0m\n\u001b[0;32m      5\u001b[0m \u001b[1;31m#print(txt.find(\"q\"))\u001b[0m\u001b[1;33m\u001b[0m\u001b[1;33m\u001b[0m\u001b[1;33m\u001b[0m\u001b[0m\n\u001b[1;32m----> 6\u001b[1;33m \u001b[0mprint\u001b[0m\u001b[1;33m(\u001b[0m\u001b[0mtxt\u001b[0m\u001b[1;33m.\u001b[0m\u001b[0mindex\u001b[0m\u001b[1;33m(\u001b[0m\u001b[1;34m\"q\"\u001b[0m\u001b[1;33m)\u001b[0m\u001b[1;33m)\u001b[0m\u001b[1;33m\u001b[0m\u001b[1;33m\u001b[0m\u001b[0m\n\u001b[0m",
      "\u001b[1;31mValueError\u001b[0m: substring not found"
     ]
    }
   ],
   "source": [
    "#If the value is not found, the find() method returns -1, but the index() method will raise an exception:\n",
    "\n",
    "txt = \"Hello, welcome to my world.\"\n",
    "\n",
    "#print(txt.find(\"q\"))\n",
    "print(txt.index(\"q\"))"
   ]
  },
  {
   "cell_type": "code",
   "execution_count": 71,
   "metadata": {},
   "outputs": [
    {
     "name": "stdout",
     "output_type": "stream",
     "text": [
      "-1\n"
     ]
    }
   ],
   "source": [
    "txt = \"Hello, welcome to my world.\"\n",
    "\n",
    "print(txt.find(\"q\"))\n",
    "#print(txt.index(\"q\"))"
   ]
  },
  {
   "cell_type": "markdown",
   "metadata": {},
   "source": [
    "Definition and Usage\n",
    "The find() method finds the first occurrence of the specified value.\n",
    "\n",
    "The find() method returns -1 if the value is not found.\n",
    "\n",
    "The find() method is almost the same as the index() method, the only difference is that the index() method raises an exception if the value is not found. (See example below)"
   ]
  },
  {
   "cell_type": "markdown",
   "metadata": {},
   "source": [
    "# index"
   ]
  },
  {
   "cell_type": "code",
   "execution_count": 59,
   "metadata": {},
   "outputs": [
    {
     "name": "stdout",
     "output_type": "stream",
     "text": [
      "7\n",
      "21\n",
      "-1\n"
     ]
    }
   ],
   "source": [
    "b = \"Hello, World! Python is easy language\"\n",
    "\n",
    "print(b.index(\"World\") )\n",
    "print(b.index(\"is\") )\n",
    "print(b.find(\"z\") )"
   ]
  },
  {
   "cell_type": "code",
   "execution_count": 67,
   "metadata": {},
   "outputs": [
    {
     "data": {
      "text/plain": [
       "2"
      ]
     },
     "execution_count": 67,
     "metadata": {},
     "output_type": "execute_result"
    }
   ],
   "source": [
    "#What is the position of the value \"cherry\":\n",
    "\n",
    "fruits = ['apple', 'banana', 'cherry']\n",
    "\n",
    "x = fruits.index(\"cherry\")\n",
    "x"
   ]
  },
  {
   "cell_type": "code",
   "execution_count": 69,
   "metadata": {},
   "outputs": [
    {
     "data": {
      "text/plain": [
       "3"
      ]
     },
     "execution_count": 69,
     "metadata": {},
     "output_type": "execute_result"
    }
   ],
   "source": [
    "#What is the position of the value 32:\n",
    "\n",
    "fruits = [4, 55, 64, 32, 16, 32]\n",
    "\n",
    "x = fruits.index(32)\n",
    "x"
   ]
  },
  {
   "cell_type": "markdown",
   "metadata": {},
   "source": [
    "# Slice From the Start"
   ]
  },
  {
   "cell_type": "code",
   "execution_count": 7,
   "metadata": {},
   "outputs": [
    {
     "name": "stdout",
     "output_type": "stream",
     "text": [
      "Hello\n"
     ]
    }
   ],
   "source": [
    "#By leaving out the start index, the range will start at the first character:\n",
    "\n",
    "b = \"Hello, World!\"\n",
    "print(b[:5])"
   ]
  },
  {
   "cell_type": "markdown",
   "metadata": {},
   "source": [
    "# Slice To the End\n"
   ]
  },
  {
   "cell_type": "code",
   "execution_count": 54,
   "metadata": {},
   "outputs": [
    {
     "name": "stdout",
     "output_type": "stream",
     "text": [
      "llo, World! Python is easy language\n",
      "7\n",
      "21\n"
     ]
    }
   ],
   "source": [
    "#By leaving out the end index, the range will go to the end:\n",
    "\n",
    "b = \"Hello, World! Python is easy language\"\n",
    "print(b[2:])\n",
    "print(b.index(\"World\") )\n",
    "print(b.index(\"is\") )"
   ]
  },
  {
   "cell_type": "markdown",
   "metadata": {},
   "source": [
    "# Negative Indexing"
   ]
  },
  {
   "cell_type": "code",
   "execution_count": 9,
   "metadata": {},
   "outputs": [
    {
     "name": "stdout",
     "output_type": "stream",
     "text": [
      "orl\n"
     ]
    }
   ],
   "source": [
    "'''\n",
    "Example\n",
    "Get the characters:\n",
    "\n",
    "From: \"o\" in \"World!\" (position -5)\n",
    "\n",
    "To, but not included: \"d\" in \"World!\" (position -2):\n",
    "'''\n",
    "\n",
    "b = \"Hello, World!\"\n",
    "print(b[-5:-2])"
   ]
  },
  {
   "cell_type": "code",
   "execution_count": 35,
   "metadata": {},
   "outputs": [
    {
     "data": {
      "text/plain": [
       "'VIT Vellore'"
      ]
     },
     "execution_count": 35,
     "metadata": {},
     "output_type": "execute_result"
    }
   ],
   "source": [
    "S=\"VIT Vellore\"\n",
    "S[::]#Prints the entire String"
   ]
  },
  {
   "cell_type": "code",
   "execution_count": 38,
   "metadata": {},
   "outputs": [
    {
     "data": {
      "text/plain": [
       "'erolleV TIV'"
      ]
     },
     "execution_count": 38,
     "metadata": {},
     "output_type": "execute_result"
    }
   ],
   "source": [
    "S=\"VIT Vellore\" #\n",
    "S[::-1]##Display the String in Reverse Order"
   ]
  },
  {
   "cell_type": "code",
   "execution_count": 37,
   "metadata": {},
   "outputs": [
    {
     "data": {
      "text/plain": [
       "'erolleV TI'"
      ]
     },
     "execution_count": 37,
     "metadata": {},
     "output_type": "execute_result"
    }
   ],
   "source": [
    "S=\"VIT Vellore\"\n",
    "S[-1:0:-1]#Access the characters of a string from index -1"
   ]
  },
  {
   "cell_type": "code",
   "execution_count": 39,
   "metadata": {},
   "outputs": [
    {
     "data": {
      "text/plain": [
       "'erolleV TI'"
      ]
     },
     "execution_count": 39,
     "metadata": {},
     "output_type": "execute_result"
    }
   ],
   "source": [
    "S=\"VIT Vellore\"\n",
    "S[-1:0:-1]#Access the characters of a string from index -1"
   ]
  },
  {
   "cell_type": "code",
   "execution_count": 40,
   "metadata": {},
   "outputs": [
    {
     "data": {
      "text/plain": [
       "'VIT Vellor'"
      ]
     },
     "execution_count": 40,
     "metadata": {},
     "output_type": "execute_result"
    }
   ],
   "source": [
    "S=\"VIT Vellore\"\n",
    "S[:-1]\n",
    "#start with the character stored at index 0 & exclude the last character stored\n",
    "#at index -1."
   ]
  },
  {
   "cell_type": "code",
   "execution_count": null,
   "metadata": {},
   "outputs": [],
   "source": [
    "S=\"VIT Vellore\""
   ]
  },
  {
   "cell_type": "code",
   "execution_count": null,
   "metadata": {},
   "outputs": [],
   "source": [
    "S=\"VIT Vellore\""
   ]
  },
  {
   "cell_type": "markdown",
   "metadata": {},
   "source": [
    "# Python - Modify Strings"
   ]
  },
  {
   "cell_type": "markdown",
   "metadata": {},
   "source": [
    "Python has a set of built-in methods that you can use on strings."
   ]
  },
  {
   "cell_type": "code",
   "execution_count": 10,
   "metadata": {},
   "outputs": [
    {
     "name": "stdout",
     "output_type": "stream",
     "text": [
      "HELLO, WORLD!\n"
     ]
    }
   ],
   "source": [
    "'''\n",
    "Upper Case\n",
    "Example\n",
    "The upper() method returns the string in upper case:\n",
    "\n",
    "\n",
    "'''\n",
    "a = \"Hello, World!\"\n",
    "print(a.upper())"
   ]
  },
  {
   "cell_type": "code",
   "execution_count": 11,
   "metadata": {},
   "outputs": [
    {
     "name": "stdout",
     "output_type": "stream",
     "text": [
      "hello, world!\n"
     ]
    }
   ],
   "source": [
    "'''\n",
    "Lower Case\n",
    "Example\n",
    "The lower() method returns the string in lower case:\n",
    "\n",
    "\n",
    "'''\n",
    "\n",
    "a = \"Hello, World!\"\n",
    "print(a.lower())"
   ]
  },
  {
   "cell_type": "code",
   "execution_count": 12,
   "metadata": {},
   "outputs": [
    {
     "name": "stdout",
     "output_type": "stream",
     "text": [
      "Hello, World!\n"
     ]
    }
   ],
   "source": [
    "'''\n",
    "Remove Whitespace\n",
    "Whitespace is the space before and/or after the actual text, and very often you want to remove this space.\n",
    "\n",
    "Example\n",
    "The strip() method removes any whitespace from the beginning or the end:\n",
    "\n",
    "\n",
    "\n",
    "'''\n",
    "\n",
    "a = \" Hello, World! \"\n",
    "print(a.strip()) # returns \"Hello, World!\""
   ]
  },
  {
   "cell_type": "code",
   "execution_count": 13,
   "metadata": {},
   "outputs": [
    {
     "name": "stdout",
     "output_type": "stream",
     "text": [
      "Jello, World!\n"
     ]
    }
   ],
   "source": [
    "'''\n",
    "Replace String\n",
    "Example\n",
    "The replace() method replaces a string with another string:\n",
    "\n",
    "\n",
    "'''\n",
    "a = \"Hello, World!\"\n",
    "print(a.replace(\"H\", \"J\"))"
   ]
  },
  {
   "cell_type": "code",
   "execution_count": 14,
   "metadata": {},
   "outputs": [
    {
     "name": "stdout",
     "output_type": "stream",
     "text": [
      "['Hello', ' World!']\n"
     ]
    }
   ],
   "source": [
    "'''\n",
    "Split String\n",
    "The split() method returns a list where the text between the specified separator becomes the list items.\n",
    "\n",
    "Example\n",
    "The split() method splits the string into substrings if it finds instances of the separator:\n",
    "\n",
    "\n",
    "'''\n",
    "\n",
    "a = \"Hello, World!\"\n",
    "print(a.split(\",\")) # returns ['Hello', ' World!']"
   ]
  },
  {
   "cell_type": "code",
   "execution_count": null,
   "metadata": {},
   "outputs": [],
   "source": []
  },
  {
   "cell_type": "code",
   "execution_count": null,
   "metadata": {},
   "outputs": [],
   "source": []
  },
  {
   "cell_type": "code",
   "execution_count": null,
   "metadata": {},
   "outputs": [],
   "source": []
  },
  {
   "cell_type": "markdown",
   "metadata": {},
   "source": [
    "# Iterate String"
   ]
  },
  {
   "cell_type": "code",
   "execution_count": 6,
   "metadata": {},
   "outputs": [
    {
     "name": "stdout",
     "output_type": "stream",
     "text": [
      "h\n",
      "e\n",
      "l\n",
      "l\n",
      "o\n"
     ]
    }
   ],
   "source": [
    "#To iterate through a string in Python, “for…in” notation is used.\n",
    "\n",
    "str = \"hello\"\n",
    "for c in str:\n",
    "    print(c)"
   ]
  },
  {
   "cell_type": "markdown",
   "metadata": {},
   "source": [
    "# Built-in Function len()"
   ]
  },
  {
   "cell_type": "code",
   "execution_count": 7,
   "metadata": {},
   "outputs": [
    {
     "name": "stdout",
     "output_type": "stream",
     "text": [
      "5\n",
      "3\n"
     ]
    }
   ],
   "source": [
    "'''\n",
    "In Python, the built-in len() function can be used to determine the length of an object. It can be used to compute the length of strings, lists, sets, and\n",
    "other countable objects.\n",
    "'''\n",
    "\n",
    "length = len(\"Hello\")\n",
    "print(length)\n",
    "# Output: 5\n",
    " \n",
    "colors = ['red', 'yellow', 'green']\n",
    "print(len(colors))\n",
    "# Output: 3"
   ]
  },
  {
   "cell_type": "code",
   "execution_count": 26,
   "metadata": {},
   "outputs": [
    {
     "data": {
      "text/plain": [
       "'H'"
      ]
     },
     "execution_count": 26,
     "metadata": {},
     "output_type": "execute_result"
    }
   ],
   "source": [
    "a = \"PYTHON\"\n",
    "#len(a) #Return length i.e. number of characters in string a\n",
    "min(a) #Return smallest character present in a string\n",
    "#max(a) #Return largest character present in a string\n"
   ]
  },
  {
   "cell_type": "code",
   "execution_count": 27,
   "metadata": {},
   "outputs": [
    {
     "data": {
      "text/plain": [
       "'Y'"
      ]
     },
     "execution_count": 27,
     "metadata": {},
     "output_type": "execute_result"
    }
   ],
   "source": [
    "a = \"PYTHON\"\n",
    "#len(a) #Return length i.e. number of characters in string a\n",
    "#min(a) #Return smallest character present in a string\n",
    "max(a) #Return largest character present in a string"
   ]
  },
  {
   "cell_type": "code",
   "execution_count": 27,
   "metadata": {},
   "outputs": [
    {
     "data": {
      "text/plain": [
       "6"
      ]
     },
     "execution_count": 27,
     "metadata": {},
     "output_type": "execute_result"
    }
   ],
   "source": [
    "a = \"PYTHON\"\n",
    "len(a) #Return length i.e. number of characters in string a\n",
    "#min(a) #Return smallest character present in a string\n",
    "#max(a) #Return largest character present in a string"
   ]
  },
  {
   "cell_type": "markdown",
   "metadata": {},
   "source": [
    "# String Concatenation"
   ]
  },
  {
   "cell_type": "code",
   "execution_count": 8,
   "metadata": {},
   "outputs": [
    {
     "name": "stdout",
     "output_type": "stream",
     "text": [
      "One fish, two fish.\n"
     ]
    }
   ],
   "source": [
    "#To combine the content of two strings into a single string, \n",
    "#Python provides the + operator. This process of joining strings is called concatenation.\n",
    "\n",
    "x = 'One fish, '\n",
    "y = 'two fish.'\n",
    " \n",
    "z = x + y\n",
    " \n",
    "print(z)"
   ]
  },
  {
   "cell_type": "code",
   "execution_count": 15,
   "metadata": {},
   "outputs": [
    {
     "name": "stdout",
     "output_type": "stream",
     "text": [
      "HelloWorld\n"
     ]
    }
   ],
   "source": [
    "a = \"Hello\"\n",
    "b = \"World\"\n",
    "c = a + b\n",
    "print(c)"
   ]
  },
  {
   "cell_type": "code",
   "execution_count": 16,
   "metadata": {},
   "outputs": [
    {
     "name": "stdout",
     "output_type": "stream",
     "text": [
      "Hello World\n"
     ]
    }
   ],
   "source": [
    "a = \"Hello\"\n",
    "b = \"World\"\n",
    "c = a + \" \" + b\n",
    "print(c)"
   ]
  },
  {
   "cell_type": "markdown",
   "metadata": {},
   "source": [
    "# Immutable strings"
   ]
  },
  {
   "cell_type": "code",
   "execution_count": null,
   "metadata": {},
   "outputs": [],
   "source": []
  },
  {
   "cell_type": "markdown",
   "metadata": {},
   "source": [
    "Strings are immutable in Python. This means that once a string has been defined, it can’t be changed.\n",
    "\n",
    "There are no mutating methods for strings. This is unlike data types like lists, which can be modified once they are created."
   ]
  },
  {
   "cell_type": "markdown",
   "metadata": {},
   "source": [
    "# IndexError"
   ]
  },
  {
   "cell_type": "code",
   "execution_count": 29,
   "metadata": {},
   "outputs": [
    {
     "ename": "IndexError",
     "evalue": "string index out of range",
     "output_type": "error",
     "traceback": [
      "\u001b[1;31m---------------------------------------------------------------------------\u001b[0m",
      "\u001b[1;31mIndexError\u001b[0m                                Traceback (most recent call last)",
      "\u001b[1;32m<ipython-input-29-00b2a5c9b28d>\u001b[0m in \u001b[0;36m<module>\u001b[1;34m\u001b[0m\n\u001b[0;32m      5\u001b[0m \u001b[1;33m\u001b[0m\u001b[0m\n\u001b[0;32m      6\u001b[0m \u001b[0mfruit\u001b[0m \u001b[1;33m=\u001b[0m \u001b[1;34m\"Berry\"\u001b[0m\u001b[1;33m\u001b[0m\u001b[1;33m\u001b[0m\u001b[0m\n\u001b[1;32m----> 7\u001b[1;33m \u001b[0mindx\u001b[0m \u001b[1;33m=\u001b[0m \u001b[0mfruit\u001b[0m\u001b[1;33m[\u001b[0m\u001b[1;36m5\u001b[0m\u001b[1;33m]\u001b[0m\u001b[1;33m\u001b[0m\u001b[1;33m\u001b[0m\u001b[0m\n\u001b[0m",
      "\u001b[1;31mIndexError\u001b[0m: string index out of range"
     ]
    }
   ],
   "source": [
    "'''\n",
    "When indexing into a string in Python, if you try to access an index that doesn’t exist, an IndexError is generated. For example, the following code would create an\n",
    "\n",
    "'''\n",
    "\n",
    "fruit = \"Berry\"\n",
    "indx = fruit[5]"
   ]
  },
  {
   "cell_type": "code",
   "execution_count": 31,
   "metadata": {},
   "outputs": [
    {
     "name": "stdout",
     "output_type": "stream",
     "text": [
      "r\n"
     ]
    }
   ],
   "source": [
    "a=\"December\"\n",
    "len(a)\n",
    "print(a[7])"
   ]
  },
  {
   "cell_type": "markdown",
   "metadata": {},
   "source": [
    "# Python String .format()"
   ]
  },
  {
   "cell_type": "code",
   "execution_count": 12,
   "metadata": {},
   "outputs": [
    {
     "data": {
      "text/plain": [
       "'Fred scored 3 out of 10 points.'"
      ]
     },
     "execution_count": 12,
     "metadata": {},
     "output_type": "execute_result"
    }
   ],
   "source": [
    "'''\n",
    "The Python string method .format() replaces empty brace ({}) placeholders in the string with its arguments.\n",
    "\n",
    "If keywords are specified within the placeholders, they are replaced with the corresponding named arguments to the method.\n",
    "'''\n",
    "\n",
    "msg1 = 'Fred scored {} out of {} points.'\n",
    "msg1.format(3, 10)\n",
    "# => 'Fred scored 3 out of 10 points.'\n",
    " \n"
   ]
  },
  {
   "cell_type": "code",
   "execution_count": 11,
   "metadata": {},
   "outputs": [
    {
     "data": {
      "text/plain": [
       "'Fred tickled a fluffy hamster.'"
      ]
     },
     "execution_count": 11,
     "metadata": {},
     "output_type": "execute_result"
    }
   ],
   "source": [
    "msg2 = 'Fred {verb} a {adjective} {noun}.'\n",
    "msg2.format(adjective='fluffy', verb='tickled', noun='hamster')\n",
    "# => 'Fred tickled a fluffy hamster.'"
   ]
  },
  {
   "cell_type": "code",
   "execution_count": 17,
   "metadata": {},
   "outputs": [
    {
     "ename": "TypeError",
     "evalue": "can only concatenate str (not \"int\") to str",
     "output_type": "error",
     "traceback": [
      "\u001b[1;31m---------------------------------------------------------------------------\u001b[0m",
      "\u001b[1;31mTypeError\u001b[0m                                 Traceback (most recent call last)",
      "\u001b[1;32m<ipython-input-17-4d1b227cff41>\u001b[0m in \u001b[0;36m<module>\u001b[1;34m\u001b[0m\n\u001b[0;32m      1\u001b[0m \u001b[0mage\u001b[0m \u001b[1;33m=\u001b[0m \u001b[1;36m36\u001b[0m\u001b[1;33m\u001b[0m\u001b[1;33m\u001b[0m\u001b[0m\n\u001b[1;32m----> 2\u001b[1;33m \u001b[0mtxt\u001b[0m \u001b[1;33m=\u001b[0m \u001b[1;34m\"My name is John, I am \"\u001b[0m \u001b[1;33m+\u001b[0m \u001b[0mage\u001b[0m\u001b[1;33m\u001b[0m\u001b[1;33m\u001b[0m\u001b[0m\n\u001b[0m\u001b[0;32m      3\u001b[0m \u001b[0mprint\u001b[0m\u001b[1;33m(\u001b[0m\u001b[0mtxt\u001b[0m\u001b[1;33m)\u001b[0m\u001b[1;33m\u001b[0m\u001b[1;33m\u001b[0m\u001b[0m\n",
      "\u001b[1;31mTypeError\u001b[0m: can only concatenate str (not \"int\") to str"
     ]
    }
   ],
   "source": [
    "age = 36\n",
    "txt = \"My name is John, I am \" + age\n",
    "print(txt)"
   ]
  },
  {
   "cell_type": "code",
   "execution_count": 18,
   "metadata": {},
   "outputs": [
    {
     "name": "stdout",
     "output_type": "stream",
     "text": [
      "My name is John, and I am 36\n"
     ]
    }
   ],
   "source": [
    "'''\n",
    "But we can combine strings and numbers by using the format() method!\n",
    "\n",
    "The format() method takes the passed arguments, formats them, and places them in the string where the placeholders {} are:\n",
    "\n",
    "Example\n",
    "Use the format() method to insert numbers into strings:\n",
    "\n",
    "\n",
    "'''\n",
    "\n",
    "age = 36\n",
    "txt = \"My name is John, and I am {}\"\n",
    "print(txt.format(age))"
   ]
  },
  {
   "cell_type": "code",
   "execution_count": 19,
   "metadata": {},
   "outputs": [
    {
     "name": "stdout",
     "output_type": "stream",
     "text": [
      "I want 3 pieces of item 567 for 49.95 dollars.\n"
     ]
    }
   ],
   "source": [
    "'''\n",
    "The format() method takes unlimited number of arguments, and are placed into the respective placeholders:\n",
    "\n",
    "Example\n",
    "\n",
    "\n",
    "'''\n",
    "quantity = 3\n",
    "itemno = 567\n",
    "price = 49.95\n",
    "myorder = \"I want {} pieces of item {} for {} dollars.\"\n",
    "print(myorder.format(quantity, itemno, price))"
   ]
  },
  {
   "cell_type": "code",
   "execution_count": 20,
   "metadata": {},
   "outputs": [
    {
     "name": "stdout",
     "output_type": "stream",
     "text": [
      "I want to pay 49.95 dollars for 3 pieces of item 567.\n"
     ]
    }
   ],
   "source": [
    "#You can use index numbers {0} to be sure the arguments are placed in the correct placeholders:\n",
    "\n",
    "#Example\n",
    "quantity = 3\n",
    "itemno = 567\n",
    "price = 49.95\n",
    "myorder = \"I want to pay {2} dollars for {0} pieces of item {1}.\"\n",
    "print(myorder.format(quantity, itemno, price))"
   ]
  },
  {
   "cell_type": "markdown",
   "metadata": {},
   "source": [
    "# Python - Escape Characters"
   ]
  },
  {
   "cell_type": "markdown",
   "metadata": {},
   "source": [
    "Escape Character\n",
    "To insert characters that are illegal in a string, use an escape character.\n",
    "\n",
    "An escape character is a backslash \\ followed by the character you want to insert.\n",
    "\n",
    "An example of an illegal character is a double quote inside a string that is surrounded by double quotes:"
   ]
  },
  {
   "cell_type": "code",
   "execution_count": 21,
   "metadata": {},
   "outputs": [
    {
     "ename": "SyntaxError",
     "evalue": "invalid syntax (<ipython-input-21-56cdf4283a8e>, line 1)",
     "output_type": "error",
     "traceback": [
      "\u001b[1;36m  File \u001b[1;32m\"<ipython-input-21-56cdf4283a8e>\"\u001b[1;36m, line \u001b[1;32m1\u001b[0m\n\u001b[1;33m    txt = \"We are the so-called \"Vikings\" from the north.\"\u001b[0m\n\u001b[1;37m                                       ^\u001b[0m\n\u001b[1;31mSyntaxError\u001b[0m\u001b[1;31m:\u001b[0m invalid syntax\n"
     ]
    }
   ],
   "source": [
    "txt = \"We are the so-called \"Vikings\" from the north.\""
   ]
  },
  {
   "cell_type": "code",
   "execution_count": 12,
   "metadata": {},
   "outputs": [
    {
     "name": "stdout",
     "output_type": "stream",
     "text": [
      "We are the so-called \"Vikings\" from the north.\n"
     ]
    }
   ],
   "source": [
    "txt = \"We are the so-called \\\"Vikings\\\" from the north.\"\n",
    "print(txt)"
   ]
  },
  {
   "cell_type": "code",
   "execution_count": null,
   "metadata": {},
   "outputs": [],
   "source": [
    "'''\n",
    "Escape Characters\n",
    "Other escape characters used in Python:\n",
    "\n",
    "Code\tResult\n",
    "\\'\tSingle Quote\t\n",
    "\\\\\tBackslash\t\n",
    "\\n\tNew Line\t\n",
    "\\r\tCarriage Return\t\n",
    "\\t\tTab\t\n",
    "\\b\tBackspace\t\n",
    "\\f\tForm Feed\t\n",
    "\\ooo\tOctal value\t\n",
    "\\xhh\tHex value\n",
    "'''"
   ]
  },
  {
   "cell_type": "code",
   "execution_count": 17,
   "metadata": {},
   "outputs": [
    {
     "name": "stdout",
     "output_type": "stream",
     "text": [
      "C:\\Python32\\Lib\n"
     ]
    }
   ],
   "source": [
    "print(\"C:\\\\Python32\\\\Lib\")"
   ]
  },
  {
   "cell_type": "code",
   "execution_count": 16,
   "metadata": {},
   "outputs": [
    {
     "name": "stdout",
     "output_type": "stream",
     "text": [
      "C:\\Python32\\Lib\n"
     ]
    }
   ],
   "source": [
    "print(\"C:\\Python32\\Lib\")"
   ]
  },
  {
   "cell_type": "code",
   "execution_count": 15,
   "metadata": {},
   "outputs": [
    {
     "name": "stdout",
     "output_type": "stream",
     "text": [
      "C:\\\\\\\\\\\\Python32\\Lib\n"
     ]
    }
   ],
   "source": [
    "print(\"C:\\\\\\\\\\\\\\\\\\\\\\Python32\\\\Lib\")"
   ]
  },
  {
   "cell_type": "code",
   "execution_count": 14,
   "metadata": {},
   "outputs": [
    {
     "name": "stdout",
     "output_type": "stream",
     "text": [
      "C:\\\\Python32\\\\Lib\n"
     ]
    }
   ],
   "source": [
    "print(\"C:\\\\\\Python32\\\\\\Lib\")"
   ]
  },
  {
   "cell_type": "code",
   "execution_count": 13,
   "metadata": {},
   "outputs": [
    {
     "name": "stdout",
     "output_type": "stream",
     "text": [
      "C:\n",
      "ew\text.dat\n"
     ]
    }
   ],
   "source": [
    "print(\"C:\\new\\text.dat\")\n"
   ]
  },
  {
   "cell_type": "code",
   "execution_count": 32,
   "metadata": {},
   "outputs": [
    {
     "name": "stdout",
     "output_type": "stream",
     "text": [
      "C:\\new\\text.dat\n"
     ]
    }
   ],
   "source": [
    "print(\"C:\\\\new\\\\text.dat\")"
   ]
  },
  {
   "cell_type": "code",
   "execution_count": 18,
   "metadata": {},
   "outputs": [
    {
     "name": "stdout",
     "output_type": "stream",
     "text": [
      "C:\\new\\text.dat\n",
      "r'C:\n",
      "ew\text.dat'\n",
      "C:\\new\\text.dat\n"
     ]
    }
   ],
   "source": [
    "path = r'C:\\new\\text.dat' \n",
    "print(path)\n",
    "\n",
    "print(\"r'C:\\new\\text.dat'\")\n",
    "\n",
    "print(r'C:\\new\\text.dat')"
   ]
  },
  {
   "cell_type": "code",
   "execution_count": 19,
   "metadata": {},
   "outputs": [
    {
     "name": "stdout",
     "output_type": "stream",
     "text": [
      "This is printed \u0007 in two lines\n"
     ]
    }
   ],
   "source": [
    "print(\"This is printed \\a in two lines\")"
   ]
  },
  {
   "cell_type": "markdown",
   "metadata": {},
   "source": [
    "# String Method .lower()"
   ]
  },
  {
   "cell_type": "code",
   "execution_count": 13,
   "metadata": {},
   "outputs": [
    {
     "name": "stdout",
     "output_type": "stream",
     "text": [
      "welcome to chili's\n"
     ]
    }
   ],
   "source": [
    "'''\n",
    "The string method .lower() returns a string with all uppercase characters converted into lowercase.\n",
    "\n",
    "\n",
    "'''\n",
    "\n",
    "greeting = \"Welcome To Chili's\"\n",
    " \n",
    "print(greeting.lower())\n",
    "# Prints: welcome to chili's"
   ]
  },
  {
   "cell_type": "code",
   "execution_count": 14,
   "metadata": {},
   "outputs": [
    {
     "ename": "NameError",
     "evalue": "name 'string' is not defined",
     "output_type": "error",
     "traceback": [
      "\u001b[1;31m---------------------------------------------------------------------------\u001b[0m",
      "\u001b[1;31mNameError\u001b[0m                                 Traceback (most recent call last)",
      "\u001b[1;32m<ipython-input-14-73732afacd36>\u001b[0m in \u001b[0;36m<module>\u001b[1;34m\u001b[0m\n\u001b[1;32m----> 1\u001b[1;33m \u001b[0mhelp\u001b[0m\u001b[1;33m(\u001b[0m\u001b[0mstring\u001b[0m\u001b[1;33m)\u001b[0m\u001b[1;33m\u001b[0m\u001b[1;33m\u001b[0m\u001b[0m\n\u001b[0m",
      "\u001b[1;31mNameError\u001b[0m: name 'string' is not defined"
     ]
    }
   ],
   "source": [
    "help(string)\n"
   ]
  },
  {
   "cell_type": "markdown",
   "metadata": {},
   "source": [
    "# String Method .strip()"
   ]
  },
  {
   "cell_type": "markdown",
   "metadata": {},
   "source": [
    "The string method .strip() can be used to remove characters from the beginning and end of a string.\n",
    "\n",
    "A string argument can be passed to the method, specifying the set of characters to be stripped. With no arguments to the method, whitespace is removed."
   ]
  },
  {
   "cell_type": "code",
   "execution_count": 24,
   "metadata": {},
   "outputs": [
    {
     "data": {
      "text/plain": [
       "'apples and oranges'"
      ]
     },
     "execution_count": 24,
     "metadata": {},
     "output_type": "execute_result"
    }
   ],
   "source": [
    "text1 = '   apples and oranges   '\n",
    "text1.strip()       # => 'apples and oranges'\n",
    " \n"
   ]
  },
  {
   "cell_type": "code",
   "execution_count": 23,
   "metadata": {},
   "outputs": [
    {
     "data": {
      "text/plain": [
       "'+...lemons and limes...-'"
      ]
     },
     "execution_count": 23,
     "metadata": {},
     "output_type": "execute_result"
    }
   ],
   "source": [
    "text2 = '...+...lemons and limes...-...'\n",
    " \n",
    "# Here we strip just the \".\" characters\n",
    "text2.strip('.')    # => '+...lemons and limes...-'\n",
    " \n"
   ]
  },
  {
   "cell_type": "code",
   "execution_count": 33,
   "metadata": {},
   "outputs": [
    {
     "data": {
      "text/plain": [
       "'lemons and limes...-'"
      ]
     },
     "execution_count": 33,
     "metadata": {},
     "output_type": "execute_result"
    }
   ],
   "source": [
    "# Here we strip both \".\" and \"+\" characters\n",
    "text2 = '...+...lemons and limes...-...'\n",
    "text2.strip('.+')   # => 'lemons and limes...-'\n",
    " \n"
   ]
  },
  {
   "cell_type": "code",
   "execution_count": 34,
   "metadata": {},
   "outputs": [
    {
     "data": {
      "text/plain": [
       "'lemons and limes'"
      ]
     },
     "execution_count": 34,
     "metadata": {},
     "output_type": "execute_result"
    }
   ],
   "source": [
    "# Here we strip \".\", \"+\", and \"-\" characters\n",
    "text2 = '...+...lemons and limes...-...'\n",
    "text2.strip('.+-')  # => 'lemons and limes'"
   ]
  },
  {
   "cell_type": "code",
   "execution_count": 1,
   "metadata": {},
   "outputs": [
    {
     "name": "stdout",
     "output_type": "stream",
     "text": [
      "Unmodified:\n",
      "\tEric Matthes\n",
      "\n",
      "\n",
      "Using lstrip():\n",
      "Eric Matthes\n",
      "\n",
      "\n",
      "Using rstrip():\n",
      "\tEric Matthes\n",
      "\n",
      "Using strip():\n",
      "Eric Matthes\n"
     ]
    }
   ],
   "source": [
    "name = \"\\tEric Matthes\\n\"\n",
    "\n",
    "print(\"Unmodified:\")\n",
    "print(name)\n",
    "\n",
    "print(\"\\nUsing lstrip():\")\n",
    "print(name.lstrip())\n",
    "\n",
    "print(\"\\nUsing rstrip():\")\n",
    "print(name.rstrip())\n",
    "\n",
    "print(\"\\nUsing strip():\")\n",
    "print(name.strip())"
   ]
  },
  {
   "cell_type": "markdown",
   "metadata": {},
   "source": [
    "# String Method .title()"
   ]
  },
  {
   "cell_type": "markdown",
   "metadata": {},
   "source": [
    "The string method .title() returns the string in title case. With title case, the first character of each word is capitalized while the rest of the characters are lowercase."
   ]
  },
  {
   "cell_type": "code",
   "execution_count": 25,
   "metadata": {},
   "outputs": [
    {
     "name": "stdout",
     "output_type": "stream",
     "text": [
      "Dark Knight\n"
     ]
    }
   ],
   "source": [
    "my_var = \"dark knight\"\n",
    "print(my_var.title()) \n",
    " \n",
    "# Prints: Dark Knight"
   ]
  },
  {
   "cell_type": "code",
   "execution_count": 2,
   "metadata": {},
   "outputs": [
    {
     "name": "stdout",
     "output_type": "stream",
     "text": [
      "Hello, Ron!\n",
      "Hello, Tyler!\n",
      "Hello, Dani!\n"
     ]
    }
   ],
   "source": [
    "names = ['ron', 'tyler', 'dani']\n",
    "\n",
    "msg = \"Hello, \" + names[0].title() + \"!\"\n",
    "print(msg)\n",
    "\n",
    "msg = \"Hello, \" + names[1].title() + \"!\"\n",
    "print(msg)\n",
    "\n",
    "msg = \"Hello, \" + names[2].title() + \"!\"\n",
    "print(msg)"
   ]
  },
  {
   "cell_type": "code",
   "execution_count": 3,
   "metadata": {},
   "outputs": [
    {
     "name": "stdout",
     "output_type": "stream",
     "text": [
      "Guido Van Rossum, please come to dinner.\n",
      "Jack Turner, please come to dinner.\n",
      "Lynn Hill, please come to dinner.\n"
     ]
    }
   ],
   "source": [
    "guests = ['guido van rossum', 'jack turner', 'lynn hill']\n",
    "\n",
    "name = guests[0].title()\n",
    "print(name + \", please come to dinner.\")\n",
    "\n",
    "name = guests[1].title()\n",
    "print(name + \", please come to dinner.\")\n",
    "\n",
    "name = guests[2].title()\n",
    "print(name + \", please come to dinner.\")"
   ]
  },
  {
   "cell_type": "code",
   "execution_count": 4,
   "metadata": {},
   "outputs": [
    {
     "name": "stdout",
     "output_type": "stream",
     "text": [
      "Guido Van Rossum, please come to dinner.\n",
      "Jack Turner, please come to dinner.\n",
      "Lynn Hill, please come to dinner.\n",
      "\n",
      "Sorry, Jack Turner can't make it to dinner.\n",
      "\n",
      "Guido Van Rossum, please come to dinner.\n",
      "Gary Snyder, please come to dinner.\n",
      "Lynn Hill, please come to dinner.\n"
     ]
    }
   ],
   "source": [
    "# Invite some people to dinner.\n",
    "guests = ['guido van rossum', 'jack turner', 'lynn hill']\n",
    "\n",
    "name = guests[0].title()\n",
    "print(name + \", please come to dinner.\")\n",
    "\n",
    "name = guests[1].title()\n",
    "print(name + \", please come to dinner.\")\n",
    "\n",
    "name = guests[2].title()\n",
    "print(name + \", please come to dinner.\")\n",
    "\n",
    "name = guests[1].title()\n",
    "print(\"\\nSorry, \" + name + \" can't make it to dinner.\")\n",
    "\n",
    "# Jack can't make it! Let's invite Gary instead.\n",
    "del(guests[1])\n",
    "guests.insert(1, 'gary snyder')\n",
    "\n",
    "# Print the invitations again.\n",
    "name = guests[0].title()\n",
    "print(\"\\n\" + name + \", please come to dinner.\")\n",
    "\n",
    "name = guests[1].title()\n",
    "print(name + \", please come to dinner.\")\n",
    "\n",
    "name = guests[2].title()\n",
    "print(name + \", please come to dinner.\")"
   ]
  },
  {
   "cell_type": "code",
   "execution_count": 5,
   "metadata": {},
   "outputs": [
    {
     "name": "stdout",
     "output_type": "stream",
     "text": [
      "Guido Van Rossum, please come to dinner.\n",
      "Jack Turner, please come to dinner.\n",
      "Lynn Hill, please come to dinner.\n",
      "\n",
      "Sorry, Jack Turner can't make it to dinner.\n",
      "\n",
      "Guido Van Rossum, please come to dinner.\n",
      "Gary Snyder, please come to dinner.\n",
      "Lynn Hill, please come to dinner.\n",
      "\n",
      "We got a bigger table!\n",
      "Frida Kahlo, please come to dinner.\n",
      "Guido Van Rossum, please come to dinner.\n",
      "Reinhold Messner, please come to dinner.\n",
      "Gary Snyder, please come to dinner.\n",
      "Lynn Hill, please come to dinner.\n",
      "Elizabeth Peratrovich, please come to dinner.\n"
     ]
    }
   ],
   "source": [
    "# Invite some people to dinner.\n",
    "guests = ['guido van rossum', 'jack turner', 'lynn hill']\n",
    "\n",
    "name = guests[0].title()\n",
    "print(name + \", please come to dinner.\")\n",
    "\n",
    "name = guests[1].title()\n",
    "print(name + \", please come to dinner.\")\n",
    "\n",
    "name = guests[2].title()\n",
    "print(name + \", please come to dinner.\")\n",
    "\n",
    "name = guests[1].title()\n",
    "print(\"\\nSorry, \" + name + \" can't make it to dinner.\")\n",
    "\n",
    "# Jack can't make it! Let's invite Gary instead.\n",
    "del(guests[1])\n",
    "guests.insert(1, 'gary snyder')\n",
    "\n",
    "# Print the invitations again.\n",
    "name = guests[0].title()\n",
    "print(\"\\n\" + name + \", please come to dinner.\")\n",
    "\n",
    "name = guests[1].title()\n",
    "print(name + \", please come to dinner.\")\n",
    "\n",
    "name = guests[2].title()\n",
    "print(name + \", please come to dinner.\")\n",
    "\n",
    "# We got a bigger table, so let's add some more people to the list.\n",
    "print(\"\\nWe got a bigger table!\")\n",
    "guests.insert(0, 'frida kahlo')\n",
    "guests.insert(2, 'reinhold messner')\n",
    "guests.append('elizabeth peratrovich')\n",
    "\n",
    "name = guests[0].title()\n",
    "print(name + \", please come to dinner.\")\n",
    "\n",
    "name = guests[1].title()\n",
    "print(name + \", please come to dinner.\")\n",
    "\n",
    "name = guests[2].title()\n",
    "print(name + \", please come to dinner.\")\n",
    "\n",
    "name = guests[3].title()\n",
    "print(name + \", please come to dinner.\")\n",
    "\n",
    "name = guests[4].title()\n",
    "print(name + \", please come to dinner.\")\n",
    "\n",
    "name = guests[5].title()\n",
    "print(name + \", please come to dinner.\")"
   ]
  },
  {
   "cell_type": "code",
   "execution_count": 6,
   "metadata": {},
   "outputs": [
    {
     "name": "stdout",
     "output_type": "stream",
     "text": [
      "Guido Van Rossum, please come to dinner.\n",
      "Jack Turner, please come to dinner.\n",
      "Lynn Hill, please come to dinner.\n",
      "\n",
      "Sorry, Jack Turner can't make it to dinner.\n",
      "\n",
      "Guido Van Rossum, please come to dinner.\n",
      "Gary Snyder, please come to dinner.\n",
      "Lynn Hill, please come to dinner.\n",
      "\n",
      "We got a bigger table!\n",
      "Frida Kahlo, please come to dinner.\n",
      "Guido Van Rossum, please come to dinner.\n",
      "Reinhold Messner, please come to dinner.\n",
      "Gary Snyder, please come to dinner.\n",
      "Lynn Hill, please come to dinner.\n",
      "Elizabeth Peratrovich, please come to dinner.\n",
      "\n",
      "Sorry, we can only invite two people to dinner.\n",
      "Sorry, Elizabeth Peratrovich there's no room at the table.\n",
      "Sorry, Lynn Hill there's no room at the table.\n",
      "Sorry, Gary Snyder there's no room at the table.\n",
      "Sorry, Reinhold Messner there's no room at the table.\n",
      "Frida Kahlo, please come to dinner.\n",
      "Guido Van Rossum, please come to dinner.\n",
      "[]\n"
     ]
    }
   ],
   "source": [
    "# Invite some people to dinner.\n",
    "guests = ['guido van rossum', 'jack turner', 'lynn hill']\n",
    "\n",
    "name = guests[0].title()\n",
    "print(name + \", please come to dinner.\")\n",
    "\n",
    "name = guests[1].title()\n",
    "print(name + \", please come to dinner.\")\n",
    "\n",
    "name = guests[2].title()\n",
    "print(name + \", please come to dinner.\")\n",
    "\n",
    "name = guests[1].title()\n",
    "print(\"\\nSorry, \" + name + \" can't make it to dinner.\")\n",
    "\n",
    "# Jack can't make it! Let's invite Gary instead.\n",
    "del(guests[1])\n",
    "guests.insert(1, 'gary snyder')\n",
    "\n",
    "# Print the invitations again.\n",
    "name = guests[0].title()\n",
    "print(\"\\n\" + name + \", please come to dinner.\")\n",
    "\n",
    "name = guests[1].title()\n",
    "print(name + \", please come to dinner.\")\n",
    "\n",
    "name = guests[2].title()\n",
    "print(name + \", please come to dinner.\")\n",
    "\n",
    "# We got a bigger table, so let's add some more people to the list.\n",
    "print(\"\\nWe got a bigger table!\")\n",
    "guests.insert(0, 'frida kahlo')\n",
    "guests.insert(2, 'reinhold messner')\n",
    "guests.append('elizabeth peratrovich')\n",
    "\n",
    "name = guests[0].title()\n",
    "print(name + \", please come to dinner.\")\n",
    "\n",
    "name = guests[1].title()\n",
    "print(name + \", please come to dinner.\")\n",
    "\n",
    "name = guests[2].title()\n",
    "print(name + \", please come to dinner.\")\n",
    "\n",
    "name = guests[3].title()\n",
    "print(name + \", please come to dinner.\")\n",
    "\n",
    "name = guests[4].title()\n",
    "print(name + \", please come to dinner.\")\n",
    "\n",
    "name = guests[5].title()\n",
    "print(name + \", please come to dinner.\")\n",
    "\n",
    "# Oh no, the table won't arrive on time!\n",
    "print(\"\\nSorry, we can only invite two people to dinner.\")\n",
    "\n",
    "name = guests.pop()\n",
    "print(\"Sorry, \" + name.title() + \" there's no room at the table.\")\n",
    "\n",
    "name = guests.pop()\n",
    "print(\"Sorry, \" + name.title() + \" there's no room at the table.\")\n",
    "\n",
    "name = guests.pop()\n",
    "print(\"Sorry, \" + name.title() + \" there's no room at the table.\")\n",
    "\n",
    "name = guests.pop()\n",
    "print(\"Sorry, \" + name.title() + \" there's no room at the table.\")\n",
    "\n",
    "# There should be two people left. Let's invite them.\n",
    "name = guests[0].title()\n",
    "print(name + \", please come to dinner.\")\n",
    "\n",
    "name = guests[1].title()\n",
    "print(name + \", please come to dinner.\")\n",
    "\n",
    "# Empty out the list.\n",
    "del(guests[0])\n",
    "del(guests[0])\n",
    "\n",
    "# Prove the list is empty.\n",
    "print(guests)"
   ]
  },
  {
   "cell_type": "markdown",
   "metadata": {},
   "source": [
    "# String Method .split()"
   ]
  },
  {
   "cell_type": "markdown",
   "metadata": {},
   "source": [
    "The string method .split() splits a string into a list of items:\n",
    "\n",
    "If no argument is passed, the default behavior is to split on whitespace.\n",
    "If an argument is passed to the method, that value is used as the delimiter on which to split the string."
   ]
  },
  {
   "cell_type": "code",
   "execution_count": 26,
   "metadata": {},
   "outputs": [
    {
     "name": "stdout",
     "output_type": "stream",
     "text": [
      "['Silicon', 'Valley']\n",
      "['S', 'l', 'con Valley']\n"
     ]
    }
   ],
   "source": [
    "text = \"Silicon Valley\"\n",
    " \n",
    "print(text.split())     \n",
    "# Prints: ['Silicon', 'Valley']\n",
    " \n",
    "print(text.split('i'))  \n",
    "# Prints: ['S', 'l', 'con Valley']"
   ]
  },
  {
   "cell_type": "markdown",
   "metadata": {},
   "source": [
    "# Python string method .find()"
   ]
  },
  {
   "cell_type": "markdown",
   "metadata": {},
   "source": [
    "The Python string method .find() returns the index of the first occurrence of the string passed as the argument. It returns -1 if no occurrence is found."
   ]
  },
  {
   "cell_type": "code",
   "execution_count": 27,
   "metadata": {},
   "outputs": [
    {
     "name": "stdout",
     "output_type": "stream",
     "text": [
      "1\n"
     ]
    }
   ],
   "source": [
    "mountain_name = \"Mount Kilimanjaro\"\n",
    "print(mountain_name.find(\"o\")) # Prints 1 in the console."
   ]
  },
  {
   "cell_type": "code",
   "execution_count": 4,
   "metadata": {},
   "outputs": [
    {
     "name": "stdout",
     "output_type": "stream",
     "text": [
      "0\n",
      "4\n"
     ]
    }
   ],
   "source": [
    "word=\"Hello World\"\n",
    "print(word.find(\"He\")) \n",
    "print(word.find(\"o\")) \n"
   ]
  },
  {
   "cell_type": "markdown",
   "metadata": {},
   "source": [
    "# String replace"
   ]
  },
  {
   "cell_type": "markdown",
   "metadata": {},
   "source": [
    "The .replace() method is used to replace the occurence of the first argument with the second argument within the string.\n",
    "\n",
    "The first argument is the old substring to be replaced, and the second argument is the new substring that will replace every occurence of the first one within the string."
   ]
  },
  {
   "cell_type": "code",
   "execution_count": 6,
   "metadata": {},
   "outputs": [
    {
     "name": "stdout",
     "output_type": "stream",
     "text": [
      "StRawbeRRy\n",
      "hiawberry\n"
     ]
    }
   ],
   "source": [
    "fruit = \"Strawberry\"\n",
    "print(fruit.replace('r', 'R'))\n",
    "print(fruit.replace(\"Str\", \"hi\"))\n",
    "\n",
    "# StRawbeRRy"
   ]
  },
  {
   "cell_type": "markdown",
   "metadata": {},
   "source": [
    "# String Method .upper()"
   ]
  },
  {
   "cell_type": "markdown",
   "metadata": {},
   "source": [
    "The string method .upper() returns the string with all lowercase characters converted to uppercase."
   ]
  },
  {
   "cell_type": "code",
   "execution_count": 29,
   "metadata": {},
   "outputs": [
    {
     "name": "stdout",
     "output_type": "stream",
     "text": [
      "T-REX\n"
     ]
    }
   ],
   "source": [
    "dinosaur = \"T-Rex\"\n",
    " \n",
    "print(dinosaur.upper()) \n",
    "# Prints: T-REX"
   ]
  },
  {
   "cell_type": "markdown",
   "metadata": {},
   "source": [
    "# String Method .join()"
   ]
  },
  {
   "cell_type": "markdown",
   "metadata": {},
   "source": [
    "The string method .join() concatenates a list of strings together to create a new string joined with the desired delimiter.\n",
    "\n",
    "The .join() method is run on the delimiter and the array of strings to be concatenated together is passed in as an argument."
   ]
  },
  {
   "cell_type": "code",
   "execution_count": 42,
   "metadata": {},
   "outputs": [
    {
     "name": "stdout",
     "output_type": "stream",
     "text": [
      "Codecademy-is-awesome\n"
     ]
    }
   ],
   "source": [
    "x = \"-\".join([\"Codecademy\", \"is\", \"awesome\"])\n",
    "#y = \"-\".join(\"Codecademy\", \"is\", \"awesome\")\n",
    "print(x)\n",
    "#print(y)\n",
    "# Prints: Codecademy-is-awesome"
   ]
  },
  {
   "cell_type": "code",
   "execution_count": 38,
   "metadata": {},
   "outputs": [
    {
     "name": "stdout",
     "output_type": "stream",
     "text": [
      "H*_e*_l*_l*_o*_ *_w*_o*_r*_l*_d\n",
      "H e l l o   w o r l d\n"
     ]
    }
   ],
   "source": [
    "word=\"Hello world\"\n",
    "print(\"*_\".join(word)) \n",
    "print(\" \".join(word))"
   ]
  },
  {
   "cell_type": "code",
   "execution_count": 31,
   "metadata": {},
   "outputs": [
    {
     "name": "stdout",
     "output_type": "stream",
     "text": [
      "Help on class list in module builtins:\n",
      "\n",
      "class list(object)\n",
      " |  list(iterable=(), /)\n",
      " |  \n",
      " |  Built-in mutable sequence.\n",
      " |  \n",
      " |  If no argument is given, the constructor creates a new empty list.\n",
      " |  The argument must be an iterable if specified.\n",
      " |  \n",
      " |  Methods defined here:\n",
      " |  \n",
      " |  __add__(self, value, /)\n",
      " |      Return self+value.\n",
      " |  \n",
      " |  __contains__(self, key, /)\n",
      " |      Return key in self.\n",
      " |  \n",
      " |  __delitem__(self, key, /)\n",
      " |      Delete self[key].\n",
      " |  \n",
      " |  __eq__(self, value, /)\n",
      " |      Return self==value.\n",
      " |  \n",
      " |  __ge__(self, value, /)\n",
      " |      Return self>=value.\n",
      " |  \n",
      " |  __getattribute__(self, name, /)\n",
      " |      Return getattr(self, name).\n",
      " |  \n",
      " |  __getitem__(...)\n",
      " |      x.__getitem__(y) <==> x[y]\n",
      " |  \n",
      " |  __gt__(self, value, /)\n",
      " |      Return self>value.\n",
      " |  \n",
      " |  __iadd__(self, value, /)\n",
      " |      Implement self+=value.\n",
      " |  \n",
      " |  __imul__(self, value, /)\n",
      " |      Implement self*=value.\n",
      " |  \n",
      " |  __init__(self, /, *args, **kwargs)\n",
      " |      Initialize self.  See help(type(self)) for accurate signature.\n",
      " |  \n",
      " |  __iter__(self, /)\n",
      " |      Implement iter(self).\n",
      " |  \n",
      " |  __le__(self, value, /)\n",
      " |      Return self<=value.\n",
      " |  \n",
      " |  __len__(self, /)\n",
      " |      Return len(self).\n",
      " |  \n",
      " |  __lt__(self, value, /)\n",
      " |      Return self<value.\n",
      " |  \n",
      " |  __mul__(self, value, /)\n",
      " |      Return self*value.\n",
      " |  \n",
      " |  __ne__(self, value, /)\n",
      " |      Return self!=value.\n",
      " |  \n",
      " |  __repr__(self, /)\n",
      " |      Return repr(self).\n",
      " |  \n",
      " |  __reversed__(self, /)\n",
      " |      Return a reverse iterator over the list.\n",
      " |  \n",
      " |  __rmul__(self, value, /)\n",
      " |      Return value*self.\n",
      " |  \n",
      " |  __setitem__(self, key, value, /)\n",
      " |      Set self[key] to value.\n",
      " |  \n",
      " |  __sizeof__(self, /)\n",
      " |      Return the size of the list in memory, in bytes.\n",
      " |  \n",
      " |  append(self, object, /)\n",
      " |      Append object to the end of the list.\n",
      " |  \n",
      " |  clear(self, /)\n",
      " |      Remove all items from list.\n",
      " |  \n",
      " |  copy(self, /)\n",
      " |      Return a shallow copy of the list.\n",
      " |  \n",
      " |  count(self, value, /)\n",
      " |      Return number of occurrences of value.\n",
      " |  \n",
      " |  extend(self, iterable, /)\n",
      " |      Extend list by appending elements from the iterable.\n",
      " |  \n",
      " |  index(self, value, start=0, stop=9223372036854775807, /)\n",
      " |      Return first index of value.\n",
      " |      \n",
      " |      Raises ValueError if the value is not present.\n",
      " |  \n",
      " |  insert(self, index, object, /)\n",
      " |      Insert object before index.\n",
      " |  \n",
      " |  pop(self, index=-1, /)\n",
      " |      Remove and return item at index (default last).\n",
      " |      \n",
      " |      Raises IndexError if list is empty or index is out of range.\n",
      " |  \n",
      " |  remove(self, value, /)\n",
      " |      Remove first occurrence of value.\n",
      " |      \n",
      " |      Raises ValueError if the value is not present.\n",
      " |  \n",
      " |  reverse(self, /)\n",
      " |      Reverse *IN PLACE*.\n",
      " |  \n",
      " |  sort(self, /, *, key=None, reverse=False)\n",
      " |      Stable sort *IN PLACE*.\n",
      " |  \n",
      " |  ----------------------------------------------------------------------\n",
      " |  Static methods defined here:\n",
      " |  \n",
      " |  __new__(*args, **kwargs) from builtins.type\n",
      " |      Create and return a new object.  See help(type) for accurate signature.\n",
      " |  \n",
      " |  ----------------------------------------------------------------------\n",
      " |  Data and other attributes defined here:\n",
      " |  \n",
      " |  __hash__ = None\n",
      "\n"
     ]
    }
   ],
   "source": [
    "help(list)"
   ]
  },
  {
   "cell_type": "code",
   "execution_count": 32,
   "metadata": {},
   "outputs": [
    {
     "ename": "NameError",
     "evalue": "name 'string' is not defined",
     "output_type": "error",
     "traceback": [
      "\u001b[1;31m---------------------------------------------------------------------------\u001b[0m",
      "\u001b[1;31mNameError\u001b[0m                                 Traceback (most recent call last)",
      "\u001b[1;32m<ipython-input-32-73732afacd36>\u001b[0m in \u001b[0;36m<module>\u001b[1;34m\u001b[0m\n\u001b[1;32m----> 1\u001b[1;33m \u001b[0mhelp\u001b[0m\u001b[1;33m(\u001b[0m\u001b[0mstring\u001b[0m\u001b[1;33m)\u001b[0m\u001b[1;33m\u001b[0m\u001b[1;33m\u001b[0m\u001b[0m\n\u001b[0m",
      "\u001b[1;31mNameError\u001b[0m: name 'string' is not defined"
     ]
    }
   ],
   "source": [
    "help(string)"
   ]
  },
  {
   "cell_type": "code",
   "execution_count": 33,
   "metadata": {},
   "outputs": [
    {
     "name": "stdout",
     "output_type": "stream",
     "text": [
      "Help on class dict in module builtins:\n",
      "\n",
      "class dict(object)\n",
      " |  dict() -> new empty dictionary\n",
      " |  dict(mapping) -> new dictionary initialized from a mapping object's\n",
      " |      (key, value) pairs\n",
      " |  dict(iterable) -> new dictionary initialized as if via:\n",
      " |      d = {}\n",
      " |      for k, v in iterable:\n",
      " |          d[k] = v\n",
      " |  dict(**kwargs) -> new dictionary initialized with the name=value pairs\n",
      " |      in the keyword argument list.  For example:  dict(one=1, two=2)\n",
      " |  \n",
      " |  Methods defined here:\n",
      " |  \n",
      " |  __contains__(self, key, /)\n",
      " |      True if the dictionary has the specified key, else False.\n",
      " |  \n",
      " |  __delitem__(self, key, /)\n",
      " |      Delete self[key].\n",
      " |  \n",
      " |  __eq__(self, value, /)\n",
      " |      Return self==value.\n",
      " |  \n",
      " |  __ge__(self, value, /)\n",
      " |      Return self>=value.\n",
      " |  \n",
      " |  __getattribute__(self, name, /)\n",
      " |      Return getattr(self, name).\n",
      " |  \n",
      " |  __getitem__(...)\n",
      " |      x.__getitem__(y) <==> x[y]\n",
      " |  \n",
      " |  __gt__(self, value, /)\n",
      " |      Return self>value.\n",
      " |  \n",
      " |  __init__(self, /, *args, **kwargs)\n",
      " |      Initialize self.  See help(type(self)) for accurate signature.\n",
      " |  \n",
      " |  __iter__(self, /)\n",
      " |      Implement iter(self).\n",
      " |  \n",
      " |  __le__(self, value, /)\n",
      " |      Return self<=value.\n",
      " |  \n",
      " |  __len__(self, /)\n",
      " |      Return len(self).\n",
      " |  \n",
      " |  __lt__(self, value, /)\n",
      " |      Return self<value.\n",
      " |  \n",
      " |  __ne__(self, value, /)\n",
      " |      Return self!=value.\n",
      " |  \n",
      " |  __repr__(self, /)\n",
      " |      Return repr(self).\n",
      " |  \n",
      " |  __setitem__(self, key, value, /)\n",
      " |      Set self[key] to value.\n",
      " |  \n",
      " |  __sizeof__(...)\n",
      " |      D.__sizeof__() -> size of D in memory, in bytes\n",
      " |  \n",
      " |  clear(...)\n",
      " |      D.clear() -> None.  Remove all items from D.\n",
      " |  \n",
      " |  copy(...)\n",
      " |      D.copy() -> a shallow copy of D\n",
      " |  \n",
      " |  get(self, key, default=None, /)\n",
      " |      Return the value for key if key is in the dictionary, else default.\n",
      " |  \n",
      " |  items(...)\n",
      " |      D.items() -> a set-like object providing a view on D's items\n",
      " |  \n",
      " |  keys(...)\n",
      " |      D.keys() -> a set-like object providing a view on D's keys\n",
      " |  \n",
      " |  pop(...)\n",
      " |      D.pop(k[,d]) -> v, remove specified key and return the corresponding value.\n",
      " |      If key is not found, d is returned if given, otherwise KeyError is raised\n",
      " |  \n",
      " |  popitem(...)\n",
      " |      D.popitem() -> (k, v), remove and return some (key, value) pair as a\n",
      " |      2-tuple; but raise KeyError if D is empty.\n",
      " |  \n",
      " |  setdefault(self, key, default=None, /)\n",
      " |      Insert key with a value of default if key is not in the dictionary.\n",
      " |      \n",
      " |      Return the value for key if key is in the dictionary, else default.\n",
      " |  \n",
      " |  update(...)\n",
      " |      D.update([E, ]**F) -> None.  Update D from dict/iterable E and F.\n",
      " |      If E is present and has a .keys() method, then does:  for k in E: D[k] = E[k]\n",
      " |      If E is present and lacks a .keys() method, then does:  for k, v in E: D[k] = v\n",
      " |      In either case, this is followed by: for k in F:  D[k] = F[k]\n",
      " |  \n",
      " |  values(...)\n",
      " |      D.values() -> an object providing a view on D's values\n",
      " |  \n",
      " |  ----------------------------------------------------------------------\n",
      " |  Class methods defined here:\n",
      " |  \n",
      " |  fromkeys(iterable, value=None, /) from builtins.type\n",
      " |      Create a new dictionary with keys from iterable and values set to value.\n",
      " |  \n",
      " |  ----------------------------------------------------------------------\n",
      " |  Static methods defined here:\n",
      " |  \n",
      " |  __new__(*args, **kwargs) from builtins.type\n",
      " |      Create and return a new object.  See help(type) for accurate signature.\n",
      " |  \n",
      " |  ----------------------------------------------------------------------\n",
      " |  Data and other attributes defined here:\n",
      " |  \n",
      " |  __hash__ = None\n",
      "\n"
     ]
    }
   ],
   "source": [
    "help(dict)"
   ]
  },
  {
   "cell_type": "code",
   "execution_count": 35,
   "metadata": {},
   "outputs": [
    {
     "data": {
      "text/plain": [
       "15"
      ]
     },
     "execution_count": 35,
     "metadata": {},
     "output_type": "execute_result"
    }
   ],
   "source": [
    "path = r'C:\\new\\text.dat' \n",
    "len(path)"
   ]
  },
  {
   "cell_type": "code",
   "execution_count": 42,
   "metadata": {},
   "outputs": [
    {
     "name": "stdout",
     "output_type": "stream",
     "text": [
      "3 letters found\n"
     ]
    }
   ],
   "source": [
    "\n"
   ]
  },
  {
   "cell_type": "code",
   "execution_count": 43,
   "metadata": {},
   "outputs": [
    {
     "name": "stdout",
     "output_type": "stream",
     "text": [
      "Help on class set in module builtins:\n",
      "\n",
      "class set(object)\n",
      " |  set() -> new empty set object\n",
      " |  set(iterable) -> new set object\n",
      " |  \n",
      " |  Build an unordered collection of unique elements.\n",
      " |  \n",
      " |  Methods defined here:\n",
      " |  \n",
      " |  __and__(self, value, /)\n",
      " |      Return self&value.\n",
      " |  \n",
      " |  __contains__(...)\n",
      " |      x.__contains__(y) <==> y in x.\n",
      " |  \n",
      " |  __eq__(self, value, /)\n",
      " |      Return self==value.\n",
      " |  \n",
      " |  __ge__(self, value, /)\n",
      " |      Return self>=value.\n",
      " |  \n",
      " |  __getattribute__(self, name, /)\n",
      " |      Return getattr(self, name).\n",
      " |  \n",
      " |  __gt__(self, value, /)\n",
      " |      Return self>value.\n",
      " |  \n",
      " |  __iand__(self, value, /)\n",
      " |      Return self&=value.\n",
      " |  \n",
      " |  __init__(self, /, *args, **kwargs)\n",
      " |      Initialize self.  See help(type(self)) for accurate signature.\n",
      " |  \n",
      " |  __ior__(self, value, /)\n",
      " |      Return self|=value.\n",
      " |  \n",
      " |  __isub__(self, value, /)\n",
      " |      Return self-=value.\n",
      " |  \n",
      " |  __iter__(self, /)\n",
      " |      Implement iter(self).\n",
      " |  \n",
      " |  __ixor__(self, value, /)\n",
      " |      Return self^=value.\n",
      " |  \n",
      " |  __le__(self, value, /)\n",
      " |      Return self<=value.\n",
      " |  \n",
      " |  __len__(self, /)\n",
      " |      Return len(self).\n",
      " |  \n",
      " |  __lt__(self, value, /)\n",
      " |      Return self<value.\n",
      " |  \n",
      " |  __ne__(self, value, /)\n",
      " |      Return self!=value.\n",
      " |  \n",
      " |  __or__(self, value, /)\n",
      " |      Return self|value.\n",
      " |  \n",
      " |  __rand__(self, value, /)\n",
      " |      Return value&self.\n",
      " |  \n",
      " |  __reduce__(...)\n",
      " |      Return state information for pickling.\n",
      " |  \n",
      " |  __repr__(self, /)\n",
      " |      Return repr(self).\n",
      " |  \n",
      " |  __ror__(self, value, /)\n",
      " |      Return value|self.\n",
      " |  \n",
      " |  __rsub__(self, value, /)\n",
      " |      Return value-self.\n",
      " |  \n",
      " |  __rxor__(self, value, /)\n",
      " |      Return value^self.\n",
      " |  \n",
      " |  __sizeof__(...)\n",
      " |      S.__sizeof__() -> size of S in memory, in bytes\n",
      " |  \n",
      " |  __sub__(self, value, /)\n",
      " |      Return self-value.\n",
      " |  \n",
      " |  __xor__(self, value, /)\n",
      " |      Return self^value.\n",
      " |  \n",
      " |  add(...)\n",
      " |      Add an element to a set.\n",
      " |      \n",
      " |      This has no effect if the element is already present.\n",
      " |  \n",
      " |  clear(...)\n",
      " |      Remove all elements from this set.\n",
      " |  \n",
      " |  copy(...)\n",
      " |      Return a shallow copy of a set.\n",
      " |  \n",
      " |  difference(...)\n",
      " |      Return the difference of two or more sets as a new set.\n",
      " |      \n",
      " |      (i.e. all elements that are in this set but not the others.)\n",
      " |  \n",
      " |  difference_update(...)\n",
      " |      Remove all elements of another set from this set.\n",
      " |  \n",
      " |  discard(...)\n",
      " |      Remove an element from a set if it is a member.\n",
      " |      \n",
      " |      If the element is not a member, do nothing.\n",
      " |  \n",
      " |  intersection(...)\n",
      " |      Return the intersection of two sets as a new set.\n",
      " |      \n",
      " |      (i.e. all elements that are in both sets.)\n",
      " |  \n",
      " |  intersection_update(...)\n",
      " |      Update a set with the intersection of itself and another.\n",
      " |  \n",
      " |  isdisjoint(...)\n",
      " |      Return True if two sets have a null intersection.\n",
      " |  \n",
      " |  issubset(...)\n",
      " |      Report whether another set contains this set.\n",
      " |  \n",
      " |  issuperset(...)\n",
      " |      Report whether this set contains another set.\n",
      " |  \n",
      " |  pop(...)\n",
      " |      Remove and return an arbitrary set element.\n",
      " |      Raises KeyError if the set is empty.\n",
      " |  \n",
      " |  remove(...)\n",
      " |      Remove an element from a set; it must be a member.\n",
      " |      \n",
      " |      If the element is not a member, raise a KeyError.\n",
      " |  \n",
      " |  symmetric_difference(...)\n",
      " |      Return the symmetric difference of two sets as a new set.\n",
      " |      \n",
      " |      (i.e. all elements that are in exactly one of the sets.)\n",
      " |  \n",
      " |  symmetric_difference_update(...)\n",
      " |      Update a set with the symmetric difference of itself and another.\n",
      " |  \n",
      " |  union(...)\n",
      " |      Return the union of sets as a new set.\n",
      " |      \n",
      " |      (i.e. all elements that are in either set.)\n",
      " |  \n",
      " |  update(...)\n",
      " |      Update a set with the union of itself and others.\n",
      " |  \n",
      " |  ----------------------------------------------------------------------\n",
      " |  Static methods defined here:\n",
      " |  \n",
      " |  __new__(*args, **kwargs) from builtins.type\n",
      " |      Create and return a new object.  See help(type) for accurate signature.\n",
      " |  \n",
      " |  ----------------------------------------------------------------------\n",
      " |  Data and other attributes defined here:\n",
      " |  \n",
      " |  __hash__ = None\n",
      "\n"
     ]
    }
   ],
   "source": [
    "help(set)"
   ]
  },
  {
   "cell_type": "code",
   "execution_count": 44,
   "metadata": {},
   "outputs": [
    {
     "name": "stdout",
     "output_type": "stream",
     "text": [
      "Help on class tuple in module builtins:\n",
      "\n",
      "class tuple(object)\n",
      " |  tuple(iterable=(), /)\n",
      " |  \n",
      " |  Built-in immutable sequence.\n",
      " |  \n",
      " |  If no argument is given, the constructor returns an empty tuple.\n",
      " |  If iterable is specified the tuple is initialized from iterable's items.\n",
      " |  \n",
      " |  If the argument is a tuple, the return value is the same object.\n",
      " |  \n",
      " |  Methods defined here:\n",
      " |  \n",
      " |  __add__(self, value, /)\n",
      " |      Return self+value.\n",
      " |  \n",
      " |  __contains__(self, key, /)\n",
      " |      Return key in self.\n",
      " |  \n",
      " |  __eq__(self, value, /)\n",
      " |      Return self==value.\n",
      " |  \n",
      " |  __ge__(self, value, /)\n",
      " |      Return self>=value.\n",
      " |  \n",
      " |  __getattribute__(self, name, /)\n",
      " |      Return getattr(self, name).\n",
      " |  \n",
      " |  __getitem__(self, key, /)\n",
      " |      Return self[key].\n",
      " |  \n",
      " |  __getnewargs__(self, /)\n",
      " |  \n",
      " |  __gt__(self, value, /)\n",
      " |      Return self>value.\n",
      " |  \n",
      " |  __hash__(self, /)\n",
      " |      Return hash(self).\n",
      " |  \n",
      " |  __iter__(self, /)\n",
      " |      Implement iter(self).\n",
      " |  \n",
      " |  __le__(self, value, /)\n",
      " |      Return self<=value.\n",
      " |  \n",
      " |  __len__(self, /)\n",
      " |      Return len(self).\n",
      " |  \n",
      " |  __lt__(self, value, /)\n",
      " |      Return self<value.\n",
      " |  \n",
      " |  __mul__(self, value, /)\n",
      " |      Return self*value.\n",
      " |  \n",
      " |  __ne__(self, value, /)\n",
      " |      Return self!=value.\n",
      " |  \n",
      " |  __repr__(self, /)\n",
      " |      Return repr(self).\n",
      " |  \n",
      " |  __rmul__(self, value, /)\n",
      " |      Return value*self.\n",
      " |  \n",
      " |  count(self, value, /)\n",
      " |      Return number of occurrences of value.\n",
      " |  \n",
      " |  index(self, value, start=0, stop=9223372036854775807, /)\n",
      " |      Return first index of value.\n",
      " |      \n",
      " |      Raises ValueError if the value is not present.\n",
      " |  \n",
      " |  ----------------------------------------------------------------------\n",
      " |  Static methods defined here:\n",
      " |  \n",
      " |  __new__(*args, **kwargs) from builtins.type\n",
      " |      Create and return a new object.  See help(type) for accurate signature.\n",
      "\n"
     ]
    }
   ],
   "source": [
    "help(tuple)"
   ]
  },
  {
   "cell_type": "code",
   "execution_count": 1,
   "metadata": {},
   "outputs": [
    {
     "data": {
      "text/plain": [
       "False"
      ]
     },
     "execution_count": 1,
     "metadata": {},
     "output_type": "execute_result"
    }
   ],
   "source": [
    "word = \"Hello World\" \n",
    "word.isalnum()    "
   ]
  },
  {
   "cell_type": "code",
   "execution_count": 6,
   "metadata": {},
   "outputs": [
    {
     "data": {
      "text/plain": [
       "True"
      ]
     },
     "execution_count": 6,
     "metadata": {},
     "output_type": "execute_result"
    }
   ],
   "source": [
    "word = \"HelloWorld123\" \n",
    "word.isalnum()    "
   ]
  },
  {
   "cell_type": "code",
   "execution_count": 10,
   "metadata": {},
   "outputs": [
    {
     "data": {
      "text/plain": [
       "False"
      ]
     },
     "execution_count": 10,
     "metadata": {},
     "output_type": "execute_result"
    }
   ],
   "source": [
    "word = \"Hello World\" \n",
    "word.isalpha()"
   ]
  },
  {
   "cell_type": "code",
   "execution_count": 8,
   "metadata": {},
   "outputs": [
    {
     "data": {
      "text/plain": [
       "True"
      ]
     },
     "execution_count": 8,
     "metadata": {},
     "output_type": "execute_result"
    }
   ],
   "source": [
    "word = \"HelloWorld\" \n",
    "word.isalpha() "
   ]
  },
  {
   "cell_type": "code",
   "execution_count": 5,
   "metadata": {},
   "outputs": [
    {
     "data": {
      "text/plain": [
       "True"
      ]
     },
     "execution_count": 5,
     "metadata": {},
     "output_type": "execute_result"
    }
   ],
   "source": [
    "word = \"123\"\n",
    "word.isdigit()       "
   ]
  },
  {
   "cell_type": "code",
   "execution_count": 9,
   "metadata": {},
   "outputs": [
    {
     "name": "stdout",
     "output_type": "stream",
     "text": [
      "Welcome To My World\n"
     ]
    }
   ],
   "source": [
    "txt = \"Welcome to my world\"\n",
    "\n",
    "x = txt.title()\n",
    "\n",
    "print(x)"
   ]
  },
  {
   "cell_type": "code",
   "execution_count": 12,
   "metadata": {},
   "outputs": [
    {
     "name": "stdout",
     "output_type": "stream",
     "text": [
      "Enter any number :121\n",
      "The number is palindrome!\n"
     ]
    }
   ],
   "source": [
    "number=int(input(\"Enter any number :\"))\n",
    "#store a copy of this number\n",
    "temp=number\n",
    "#calculate reverse of this number\n",
    "reverse_num=0\n",
    "while(number>0):\n",
    "    #extract last digit of this number\n",
    "    digit=number%10\n",
    "    #append this digit in reveresed number\n",
    "    reverse_num=reverse_num*10+digit\n",
    "    #floor divide the number leave out the last digit from number\n",
    "    number=number//10\n",
    "#compare reverse to original number\n",
    "if(temp==reverse_num):\n",
    "    print(\"The number is palindrome!\")\n",
    "else:\n",
    "    print(\"Not a palindrome!\")"
   ]
  },
  {
   "cell_type": "code",
   "execution_count": 14,
   "metadata": {},
   "outputs": [
    {
     "name": "stdout",
     "output_type": "stream",
     "text": [
      "Yes\n"
     ]
    }
   ],
   "source": [
    "\n",
    "\n",
    "# function which return reverse of a string\n",
    " \n",
    "def isPalindrome(s):\n",
    "    return s == s[::-1]\n",
    " \n",
    " \n",
    "# Driver code\n",
    "s = \"malayalam\"\n",
    "ans = isPalindrome(s)\n",
    " \n",
    "if ans:\n",
    "    print(\"Yes\")\n",
    "else:\n",
    "    print(\"No\")"
   ]
  },
  {
   "cell_type": "code",
   "execution_count": 15,
   "metadata": {},
   "outputs": [
    {
     "name": "stdout",
     "output_type": "stream",
     "text": [
      "Yes\n"
     ]
    }
   ],
   "source": [
    "# Python program to check\n",
    "# if a string is palindrome \n",
    "# or not\n",
    "\n",
    "x = \"malayalam\"\n",
    "\n",
    "w = \"\"\n",
    "for i in x:\n",
    "\tw = i + w\n",
    "\n",
    "if (x == w):\n",
    "\tprint(\"Yes\")\n",
    "else:\n",
    "\tprint(\"No\")\n",
    "\n"
   ]
  },
  {
   "cell_type": "code",
   "execution_count": 16,
   "metadata": {},
   "outputs": [
    {
     "name": "stdout",
     "output_type": "stream",
     "text": [
      "Enter a number:121\n",
      "The number is palindrome!\n"
     ]
    }
   ],
   "source": [
    "num=int(input(\"Enter a number:\"))\n",
    "temp=num\n",
    "rev=0\n",
    "while(num>0):\n",
    "    dig=num%10\n",
    "    rev=rev*10+dig\n",
    "    num=num//10\n",
    "if(temp==rev):\n",
    "    print(\"The number is palindrome!\")\n",
    "else:\n",
    "    print(\"Not a palindrome!\")"
   ]
  },
  {
   "cell_type": "code",
   "execution_count": 18,
   "metadata": {},
   "outputs": [
    {
     "name": "stdout",
     "output_type": "stream",
     "text": [
      "Please enter your own String : 121\n",
      "This is a Palindrome String\n"
     ]
    }
   ],
   "source": [
    "# Python Program to Check a Given String is Palindrome or Not\n",
    "\n",
    "string = input(\"Please enter your own String : \")\n",
    "\n",
    "if(string == string[:: - 1]):\n",
    "    print(\"This is a Palindrome String\")\n",
    "else:\n",
    "    print(\"This is Not a Palindrome String\")"
   ]
  },
  {
   "cell_type": "code",
   "execution_count": 20,
   "metadata": {},
   "outputs": [
    {
     "name": "stdout",
     "output_type": "stream",
     "text": [
      "Please enter your own String : 121\n",
      "String in reverse Order :   121\n",
      "This is a Palindrome String\n"
     ]
    }
   ],
   "source": [
    "# Python Program to Check a Given String is Palindrome or Not\n",
    "\n",
    "string = input(\"Please enter your own String : \")\n",
    "str1 = \"\"\n",
    "\n",
    "for i in string:\n",
    "    str1 = i + str1  \n",
    "print(\"String in reverse Order :  \", str1)\n",
    "\n",
    "if(string == str1):\n",
    "   print(\"This is a Palindrome String\")\n",
    "else:\n",
    "   print(\"This is Not a Palindrome String\")"
   ]
  },
  {
   "cell_type": "code",
   "execution_count": 21,
   "metadata": {},
   "outputs": [
    {
     "name": "stdout",
     "output_type": "stream",
     "text": [
      "Please enter your own String : 121\n",
      "This is a Palindrome String\n"
     ]
    }
   ],
   "source": [
    "# Python Program to Check a Given String is Palindrome or Not\n",
    "\n",
    "string = input(\"Please enter your own String : \")\n",
    "flag = 0\n",
    "\n",
    "length = len(string)\n",
    "for i in range(length):\n",
    "    if(string[i] != string[length - i - 1]):\n",
    "        flag = 1\n",
    "        break\n",
    "\n",
    "if(flag == 0):\n",
    "   print(\"This is a Palindrome String\")\n",
    "else:\n",
    "   print(\"This is Not a Palindrome String\")"
   ]
  },
  {
   "cell_type": "code",
   "execution_count": 22,
   "metadata": {},
   "outputs": [
    {
     "name": "stdout",
     "output_type": "stream",
     "text": [
      "Please enter your own String : 12321\n",
      "String in reverse Order :   12321\n",
      "This is a Palindrome String\n"
     ]
    }
   ],
   "source": [
    "# Python Program to Check a Given String is Palindrome or Not\n",
    "\n",
    "def reverse(str1):\n",
    "    if(len(str1) == 0):\n",
    "        return str1\n",
    "    else:\n",
    "        return reverse(str1[1 : ]) + str1[0]\n",
    "    \n",
    "string = input(\"Please enter your own String : \")\n",
    "str1 = reverse(string)\n",
    "print(\"String in reverse Order :  \", str1)\n",
    "\n",
    "if(string == str1):\n",
    "    print(\"This is a Palindrome String\")\n",
    "else:\n",
    "    print(\"This is Not a Palindrome String\")"
   ]
  },
  {
   "cell_type": "code",
   "execution_count": null,
   "metadata": {},
   "outputs": [],
   "source": [
    "s=input('Enter ur string:')\n",
    "l=len(s)\n",
    "i=0\n",
    "p=l\n",
    "s3=[]\n",
    "while i<=l:\n",
    "    s3.append(i)\n",
    "    i+=1\n",
    "for t in range(0,l):\n",
    "s3[p]=s[t]\n",
    "p-=1\n",
    "if s3==s:\n",
    "print('it is palindrome')\n",
    "else:\n",
    "print('it is not a palindrome')"
   ]
  },
  {
   "cell_type": "code",
   "execution_count": 23,
   "metadata": {},
   "outputs": [
    {
     "name": "stdout",
     "output_type": "stream",
     "text": [
      "anubhav is not getting casefold\n"
     ]
    }
   ],
   "source": [
    "txt=\"Anubhav is not getting CASEFOLD\"\n",
    "print(txt.casefold())"
   ]
  },
  {
   "cell_type": "code",
   "execution_count": 40,
   "metadata": {},
   "outputs": [
    {
     "name": "stdout",
     "output_type": "stream",
     "text": [
      "e\n",
      "a\n",
      "o\n",
      "o\n"
     ]
    }
   ],
   "source": [
    "#To demonstrate use of slicing in string.\n",
    "\n",
    "# A python program to illustrate slicing in strings \n",
    "x = \"Geeks at work\"\n",
    "# Prints 3rd character beginning from 0\n",
    "print(x[2])\n",
    "# Prints 7th character \n",
    "print(x[6])\n",
    "# Prints 3rd character from rear beginning from -1 \n",
    "print(x[-3])\n",
    "# Length of string is 10 so it is out of bound\n",
    "print(x[10])"
   ]
  },
  {
   "cell_type": "code",
   "execution_count": 41,
   "metadata": {},
   "outputs": [
    {
     "name": "stdout",
     "output_type": "stream",
     "text": [
      "some\n"
     ]
    },
    {
     "data": {
      "text/plain": [
       "'\\nVIVA QUESTIONS\\n1.Are Strings immutable? Explain.\\n2.What are the ways to create a string?\\n'"
      ]
     },
     "execution_count": 41,
     "metadata": {},
     "output_type": "execute_result"
    }
   ],
   "source": [
    "#Slicing in string\n",
    "word = \"something\"\n",
    "# Get first four characters.\n",
    "part = word[:4] \n",
    "print(part)\n",
    "\n",
    "\"\"\"\n",
    "VIVA QUESTIONS\n",
    "1.Are Strings immutable? Explain.\n",
    "2.What are the ways to create a string?\n",
    "\"\"\""
   ]
  },
  {
   "cell_type": "code",
   "execution_count": 45,
   "metadata": {},
   "outputs": [
    {
     "name": "stdout",
     "output_type": "stream",
     "text": [
      "abcding\n",
      "abcing\n",
      "stringly\n"
     ]
    }
   ],
   "source": [
    "\"\"\"\n",
    "a. To add 'ing' at the end of a given string (length should be at least 3). If the given string\n",
    "already ends with 'ing' then add 'ly' instead. If the string length of the given string\n",
    "is less than 3, leave it unchanged.\n",
    "Sample String : 'abc' Expected Result :\n",
    "'abcing' Sample String : 'string' Expected Result\n",
    ": 'stringly'\n",
    "\n",
    "\"\"\"\n",
    "\n",
    "\n",
    "def add_string(str1):\n",
    "    length =len(str1)\n",
    "    if length >2:\n",
    "        if str1[-3:] =='ing':\n",
    "            str1 +='ly' \n",
    "        else:\n",
    "            str1 +='ing' \n",
    "        return str1\n",
    "print(add_string('abcd'))\n",
    "print(add_string('abc'))\n",
    "print(add_string('string'))\n"
   ]
  },
  {
   "cell_type": "code",
   "execution_count": 47,
   "metadata": {},
   "outputs": [
    {
     "name": "stdout",
     "output_type": "stream",
     "text": [
      "resta$t\n"
     ]
    }
   ],
   "source": [
    "\"\"\"\n",
    "b. To get a string from a given string where all occurrences of its first char\n",
    "have been changed to '$', except the first char itself.\n",
    "Sample String : 'restart' Expected Result :\n",
    "'resta$t' a.\n",
    "\"\"\"\n",
    "def change_char(str1):\n",
    "    char = str1[0] \n",
    "    length= len(str1)\n",
    "    str1 = str1.replace(char,'$') \n",
    "    str1 = char + str1[1:]\n",
    "    return str1\n",
    "print(change_char('restart'))\n",
    "\n",
    "\"\"\"\n",
    "VIVA QUESTIONS1. What are the built-in type does python provides?\n",
    "2. In Python what are iterators?\n",
    "\n",
    "\"\"\""
   ]
  },
  {
   "cell_type": "code",
   "execution_count": 48,
   "metadata": {},
   "outputs": [
    {
     "name": "stdout",
     "output_type": "stream",
     "text": [
      "{'the': 2, 'quick': 1, 'brown': 1, 'fox': 1, 'jumps': 1, 'over': 1, 'lazy': 1, 'dog.': 1}\n"
     ]
    }
   ],
   "source": [
    "\"\"\"\n",
    "a. To compute the input. The frequency of the words from the output should output after\n",
    "sorting the key alphanumerically.\n",
    "\n",
    "\"\"\"\n",
    "\n",
    "def word_count(str):\n",
    "    counts = dict()\n",
    "    words = str.split()\n",
    "    for word in words:\n",
    "        if word in counts:\n",
    "            counts[word] += 1\n",
    "        else:\n",
    "            counts[word] = 1\n",
    "    return counts\n",
    "print( word_count('the quick brown fox jumps over the lazy dog.'))"
   ]
  },
  {
   "cell_type": "code",
   "execution_count": 51,
   "metadata": {},
   "outputs": [
    {
     "name": "stdout",
     "output_type": "stream",
     "text": [
      "Input comma separated sequence of wordsg,k,lo\n",
      "g,k,lo\n"
     ]
    }
   ],
   "source": [
    "items = input(\"Input comma separated sequence of words\")\n",
    "words = [word for word in items.split(\",\")]\n",
    "print(\",\".join(sorted(list(set(words)))))\n"
   ]
  },
  {
   "cell_type": "code",
   "execution_count": 55,
   "metadata": {},
   "outputs": [
    {
     "name": "stdout",
     "output_type": "stream",
     "text": [
      "manj\n",
      "manj\n"
     ]
    }
   ],
   "source": [
    "s = input()\n",
    "words = [word for word in s.split(\" \")]\n",
    "print(\" \".join(sorted(list(set(words)))))\n"
   ]
  },
  {
   "cell_type": "code",
   "execution_count": 57,
   "metadata": {},
   "outputs": [
    {
     "name": "stdout",
     "output_type": "stream",
     "text": [
      "Jack\n",
      "26\n"
     ]
    }
   ],
   "source": [
    "my_dict = {'name':'Jack', 'age': 26}\n",
    "# Output: Jack\n",
    "print(my_dict['name'])\n",
    "# Output: 26\n",
    "print(my_dict.get('age'))\n",
    "# Trying to access keys which doesn't exist throws error\n",
    "# my_dict.get('address')\n",
    "# my_dict['address']"
   ]
  },
  {
   "cell_type": "code",
   "execution_count": 58,
   "metadata": {},
   "outputs": [
    {
     "name": "stdout",
     "output_type": "stream",
     "text": [
      "16\n",
      "{1: 1, 2: 4, 3: 9, 5: 25}\n",
      "(5, 25)\n"
     ]
    }
   ],
   "source": [
    "# create a dictionary\n",
    "squares = {1:1, 2:4, 3:9, 4:16, 5:25}\n",
    "# remove a particular item\n",
    "# Output: 16\n",
    "print(squares.pop(4))\n",
    "# Output: {1: 1, 2: 4, 3: 9, 5: 25}\n",
    "print(squares)\n",
    "# remove an arbitrary item\n",
    "# Output: (1, 1)\n",
    "print(squares.popitem())"
   ]
  },
  {
   "cell_type": "code",
   "execution_count": 64,
   "metadata": {},
   "outputs": [
    {
     "name": "stdout",
     "output_type": "stream",
     "text": [
      "()\n",
      "(1, 2, 3)\n",
      "(1, 'Hello', 3.4)\n",
      "('mouse', [8, 4, 6], (1, 2, 3))\n",
      "(3, 4.6, 'dog')\n"
     ]
    }
   ],
   "source": [
    "# empty tuple\n",
    "# Output: ()\n",
    "my_tuple = ()\n",
    "print(my_tuple)\n",
    "# tuple having integers\n",
    "# Output: (1, 2, 3)\n",
    "my_tuple = (1, 2,3) \n",
    "print(my_tuple)\n",
    "# tuple with mixed datatypes\n",
    "# Output: (1, \"Hello\", 3.4)\n",
    "my_tuple = (1, \"Hello\",3.4) \n",
    "print(my_tuple)\n",
    "# nested tuple\n",
    "# Output: (\"mouse\", [8, 4, 6], (1, 2, 3))\n",
    "my_tuple = (\"mouse\", [8, 4, 6], (1, 2,3)) \n",
    "print(my_tuple)\n",
    "# tuple can be created without parentheses\n",
    "# also called tuple packing\n",
    "# Output: 3, 4.6, \"dog\"\n",
    "my_tuple = 3, 4.6,\"dog\" \n",
    "print(my_tuple)\n",
    "\n"
   ]
  },
  {
   "cell_type": "code",
   "execution_count": 63,
   "metadata": {},
   "outputs": [
    {
     "name": "stdout",
     "output_type": "stream",
     "text": [
      "3\n",
      "4.6\n",
      "dog\n"
     ]
    }
   ],
   "source": [
    "# tuple unpacking is also possible\n",
    "# Output:\n",
    "# 3\n",
    "# 4.6\n",
    "# dog\n",
    "a, b, c = my_tuple\n",
    "print(a)\n",
    "print(b)\n",
    "print(c)"
   ]
  },
  {
   "cell_type": "code",
   "execution_count": 66,
   "metadata": {},
   "outputs": [
    {
     "name": "stdout",
     "output_type": "stream",
     "text": [
      "p\n",
      "t\n",
      "s\n",
      "4\n"
     ]
    }
   ],
   "source": [
    "my_tuple = ('p','e','r','m','i','t')\n",
    "# Output: 'p'\n",
    "print(my_tuple[0])\n",
    "# Output: 't'\n",
    "print(my_tuple[5])\n",
    "# index must be in range\n",
    "# If you uncomment line 14,\n",
    "# you will get an error.\n",
    "# IndexError: list index out of range\n",
    "#print(my_tuple[6])\n",
    "# index must be an integer\n",
    "# If you uncomment line 21,\n",
    "# you will get an error.\n",
    "# TypeError: list indices must be integers, not float\n",
    "#my_tuple[2.0]\n",
    "# nested tuple\n",
    "n_tuple = (\"mouse\", [8, 4, 6], (1, 2, 3))\n",
    "# nested index\n",
    "# Output: 's'\n",
    "print(n_tuple[0][3])\n",
    "# nested index\n",
    "# Output: 4\n",
    "print(n_tuple[1][1])"
   ]
  },
  {
   "cell_type": "code",
   "execution_count": null,
   "metadata": {},
   "outputs": [],
   "source": [
    "my_tuple = ('p','r','o','g','r','a','m','i','z')\n",
    "# can't delete items\n",
    "# if you uncomment line 8,\n",
    "# you will get an error:\n",
    "# TypeError: 'tuple' object doesn't support item deletion\n",
    "#del my_tuple[3]\n",
    "# can delete entire tuple\n",
    "# NameError: name 'my_tuple' is not\n",
    "defined del my_tuple\n",
    "my_tuple"
   ]
  },
  {
   "cell_type": "code",
   "execution_count": 67,
   "metadata": {},
   "outputs": [
    {
     "name": "stdout",
     "output_type": "stream",
     "text": [
      "Requirement already satisfied: nbconvert in c:\\users\\admin\\anaconda3\\lib\\site-packages (5.6.0)\n",
      "Requirement already satisfied: mistune<2,>=0.8.1 in c:\\users\\admin\\anaconda3\\lib\\site-packages (from nbconvert) (0.8.4)\n",
      "Requirement already satisfied: jupyter-core in c:\\users\\admin\\anaconda3\\lib\\site-packages (from nbconvert) (4.5.0)\n",
      "Requirement already satisfied: entrypoints>=0.2.2 in c:\\users\\admin\\anaconda3\\lib\\site-packages (from nbconvert) (0.3)\n",
      "Requirement already satisfied: testpath in c:\\users\\admin\\anaconda3\\lib\\site-packages (from nbconvert) (0.4.2)\n",
      "Requirement already satisfied: traitlets>=4.2 in c:\\users\\admin\\anaconda3\\lib\\site-packages (from nbconvert) (4.3.3)\n",
      "Requirement already satisfied: pandocfilters>=1.4.1 in c:\\users\\admin\\anaconda3\\lib\\site-packages (from nbconvert) (1.4.2)\n",
      "Requirement already satisfied: bleach in c:\\users\\admin\\anaconda3\\lib\\site-packages (from nbconvert) (3.1.0)\n",
      "Requirement already satisfied: pygments in c:\\users\\admin\\anaconda3\\lib\\site-packages (from nbconvert) (2.4.2)\n",
      "Requirement already satisfied: defusedxml in c:\\users\\admin\\anaconda3\\lib\\site-packages (from nbconvert) (0.6.0)\n",
      "Requirement already satisfied: nbformat>=4.4 in c:\\users\\admin\\anaconda3\\lib\\site-packages (from nbconvert) (4.4.0)\n",
      "Requirement already satisfied: jinja2>=2.4 in c:\\users\\admin\\anaconda3\\lib\\site-packages (from nbconvert) (2.10.3)\n",
      "Requirement already satisfied: ipython-genutils in c:\\users\\admin\\anaconda3\\lib\\site-packages (from traitlets>=4.2->nbconvert) (0.2.0)\n",
      "Requirement already satisfied: six in c:\\users\\admin\\anaconda3\\lib\\site-packages (from traitlets>=4.2->nbconvert) (1.12.0)\n",
      "Requirement already satisfied: decorator in c:\\users\\admin\\anaconda3\\lib\\site-packages (from traitlets>=4.2->nbconvert) (4.4.0)\n",
      "Requirement already satisfied: webencodings in c:\\users\\admin\\anaconda3\\lib\\site-packages (from bleach->nbconvert) (0.5.1)\n",
      "Requirement already satisfied: jsonschema!=2.5.0,>=2.4 in c:\\users\\admin\\anaconda3\\lib\\site-packages (from nbformat>=4.4->nbconvert) (3.0.2)\n",
      "Requirement already satisfied: MarkupSafe>=0.23 in c:\\users\\admin\\anaconda3\\lib\\site-packages (from jinja2>=2.4->nbconvert) (1.1.1)\n",
      "Requirement already satisfied: pyrsistent>=0.14.0 in c:\\users\\admin\\anaconda3\\lib\\site-packages (from jsonschema!=2.5.0,>=2.4->nbformat>=4.4->nbconvert) (0.15.4)\n",
      "Requirement already satisfied: attrs>=17.4.0 in c:\\users\\admin\\anaconda3\\lib\\site-packages (from jsonschema!=2.5.0,>=2.4->nbformat>=4.4->nbconvert) (19.2.0)\n",
      "Requirement already satisfied: setuptools in c:\\users\\admin\\anaconda3\\lib\\site-packages (from jsonschema!=2.5.0,>=2.4->nbformat>=4.4->nbconvert) (41.4.0)\n",
      "Note: you may need to restart the kernel to use updated packages.\n"
     ]
    },
    {
     "name": "stderr",
     "output_type": "stream",
     "text": [
      "WARNING: You are using pip version 20.2.4; however, version 20.3.3 is available.\n",
      "You should consider upgrading via the 'C:\\Users\\Admin\\Anaconda3\\python.exe -m pip install --upgrade pip' command.\n"
     ]
    }
   ],
   "source": [
    "pip install nbconvert\n"
   ]
  },
  {
   "cell_type": "code",
   "execution_count": 68,
   "metadata": {},
   "outputs": [
    {
     "name": "stdout",
     "output_type": "stream",
     "text": [
      "Collecting pip\n",
      "  Downloading pip-20.3.3-py2.py3-none-any.whl (1.5 MB)\n",
      "Installing collected packages: pip\n",
      "  Attempting uninstall: pip\n",
      "    Found existing installation: pip 20.2.4\n",
      "    Uninstalling pip-20.2.4:\n",
      "      Successfully uninstalled pip-20.2.4\n",
      "Successfully installed pip-20.3.3\n",
      "Note: you may need to restart the kernel to use updated packages.\n"
     ]
    }
   ],
   "source": [
    "pip install --upgrade pip"
   ]
  },
  {
   "cell_type": "code",
   "execution_count": 69,
   "metadata": {},
   "outputs": [
    {
     "name": "stdout",
     "output_type": "stream",
     "text": [
      "Requirement already satisfied: nbconvert in c:\\users\\admin\\anaconda3\\lib\\site-packages (5.6.0)\n",
      "Requirement already satisfied: jupyter-core in c:\\users\\admin\\anaconda3\\lib\\site-packages (from nbconvert) (4.5.0)\n",
      "Requirement already satisfied: mistune<2,>=0.8.1 in c:\\users\\admin\\anaconda3\\lib\\site-packages (from nbconvert) (0.8.4)\n",
      "Requirement already satisfied: pygments in c:\\users\\admin\\anaconda3\\lib\\site-packages (from nbconvert) (2.4.2)\n",
      "Requirement already satisfied: entrypoints>=0.2.2 in c:\\users\\admin\\anaconda3\\lib\\site-packages (from nbconvert) (0.3)\n",
      "Requirement already satisfied: pandocfilters>=1.4.1 in c:\\users\\admin\\anaconda3\\lib\\site-packages (from nbconvert) (1.4.2)\n",
      "Requirement already satisfied: bleach in c:\\users\\admin\\anaconda3\\lib\\site-packages (from nbconvert) (3.1.0)\n",
      "Requirement already satisfied: jinja2>=2.4 in c:\\users\\admin\\anaconda3\\lib\\site-packages (from nbconvert) (2.10.3)\n",
      "Requirement already satisfied: nbformat>=4.4 in c:\\users\\admin\\anaconda3\\lib\\site-packages (from nbconvert) (4.4.0)\n",
      "Requirement already satisfied: traitlets>=4.2 in c:\\users\\admin\\anaconda3\\lib\\site-packages (from nbconvert) (4.3.3)\n",
      "Requirement already satisfied: defusedxml in c:\\users\\admin\\anaconda3\\lib\\site-packages (from nbconvert) (0.6.0)\n",
      "Requirement already satisfied: testpath in c:\\users\\admin\\anaconda3\\lib\\site-packages (from nbconvert) (0.4.2)\n",
      "Requirement already satisfied: MarkupSafe>=0.23 in c:\\users\\admin\\anaconda3\\lib\\site-packages (from jinja2>=2.4->nbconvert) (1.1.1)\n",
      "Requirement already satisfied: ipython-genutils in c:\\users\\admin\\anaconda3\\lib\\site-packages (from nbformat>=4.4->nbconvert) (0.2.0)\n",
      "Requirement already satisfied: jsonschema!=2.5.0,>=2.4 in c:\\users\\admin\\anaconda3\\lib\\site-packages (from nbformat>=4.4->nbconvert) (3.0.2)\n",
      "Requirement already satisfied: attrs>=17.4.0 in c:\\users\\admin\\anaconda3\\lib\\site-packages (from jsonschema!=2.5.0,>=2.4->nbformat>=4.4->nbconvert) (19.2.0)\n",
      "Requirement already satisfied: six>=1.11.0 in c:\\users\\admin\\anaconda3\\lib\\site-packages (from jsonschema!=2.5.0,>=2.4->nbformat>=4.4->nbconvert) (1.12.0)\n",
      "Requirement already satisfied: pyrsistent>=0.14.0 in c:\\users\\admin\\anaconda3\\lib\\site-packages (from jsonschema!=2.5.0,>=2.4->nbformat>=4.4->nbconvert) (0.15.4)\n",
      "Requirement already satisfied: setuptools in c:\\users\\admin\\anaconda3\\lib\\site-packages (from jsonschema!=2.5.0,>=2.4->nbformat>=4.4->nbconvert) (41.4.0)\n",
      "Requirement already satisfied: decorator in c:\\users\\admin\\anaconda3\\lib\\site-packages (from traitlets>=4.2->nbconvert) (4.4.0)\n",
      "Requirement already satisfied: webencodings in c:\\users\\admin\\anaconda3\\lib\\site-packages (from bleach->nbconvert) (0.5.1)\n",
      "Note: you may need to restart the kernel to use updated packages.\n"
     ]
    }
   ],
   "source": [
    "pip install nbconvert"
   ]
  },
  {
   "cell_type": "markdown",
   "metadata": {},
   "source": [
    "# Exercise Problem with solution"
   ]
  },
  {
   "cell_type": "markdown",
   "metadata": {},
   "source": [
    "Rental Car\n",
    "Write a program that asks the user what kind of rental car they would like. Print a message about that car, such as “Let me see if I can find you a Subaru”."
   ]
  },
  {
   "cell_type": "code",
   "execution_count": 7,
   "metadata": {},
   "outputs": [
    {
     "name": "stdout",
     "output_type": "stream",
     "text": [
      "What kind of car would you like? 800\n",
      "Let me see if I can find you a 800.\n"
     ]
    }
   ],
   "source": [
    "car = input(\"What kind of car would you like? \")\n",
    "\n",
    "print(\"Let me see if I can find you a \" + car.title() + \".\")"
   ]
  },
  {
   "cell_type": "code",
   "execution_count": null,
   "metadata": {},
   "outputs": [],
   "source": []
  },
  {
   "cell_type": "code",
   "execution_count": null,
   "metadata": {},
   "outputs": [],
   "source": []
  },
  {
   "cell_type": "code",
   "execution_count": null,
   "metadata": {},
   "outputs": [],
   "source": []
  },
  {
   "cell_type": "markdown",
   "metadata": {},
   "source": [
    "# Exercise to write the code"
   ]
  },
  {
   "cell_type": "markdown",
   "metadata": {},
   "source": [
    "1. Create the following Python string: Didn't Hamlet say \"To be or not to be\"?\n",
    "2. Create a multiline string that has the letter A on the first line, the letter B on the second line, a single\n",
    "backslash (\\) on the third line, and the letters C and D separated by a tab (\\t) on the fourth line.\n",
    "3. Write a program that asks the user to enter a string of at least six characters. Then print out the\n",
    "following:\n",
    "(a) The length of the string\n",
    "(b) The second character of the string\n",
    "(c) The last character of the string\n",
    "(d) The first five characters of the string\n",
    "(e) The last two characters of the string\n",
    "(f) The string backwards\n",
    "(g) Every character of the string except the last one\n",
    "(h) Every character of the string except the first and last\n",
    "(i) If the string contains a lowercase a, print out the index of the first a. Otherwise say that there is\n",
    "no lowercase a\n",
    "(j) The string in all caps\n",
    "(k) The string with every space replaced with an underscore\n",
    "4. Write a program that asks the user to enter two strings. Then output the first string repeated 10 times\n",
    "and output the concatenation of the two (original) strings.\n",
    "5. Write a program that asks the user to enter a number (but just read in that value as a string). Print\n",
    "out whether that number is an integer or a floating point number. Floating point numbers contain\n",
    "decimal points, while integers don’t.\n",
    "6. Write a program that asks the user to enter a programming language. If the language entered is\n",
    "Python, then print out a message saying that they entered Python. Otherwise don’t print out anything. The program should work regardless of which letters of Python are capitalized (it should\n",
    "recognize, Python, python, PYTHON, and even PyTHoN).\n",
    "7. Write a program that asks the user to enter a string. If the string contains any periods, commas, or\n",
    "semicolons, then print out the message “There is some punctuation.” Otherwise, print out a count of\n",
    "how many spaces there are in the string.\n",
    "8. Write a program that asks the user to enter a sentence, removes all the spaces from the sentence, converts the remainder to uppercase, and prints out the result.\n",
    "9. Write a program that asks the user to enter a string, replaces all the spaces with asterisks, then replaces\n",
    "every fifth character (starting with index 0) with an exclamation point, and finally concatenates three\n",
    "copies of that result together. For example, this is a test would become\n",
    "!his * !s * a * !est!his * !s * a * !est!his * !s * a * !est.\n",
    "10. Write a program that asks the user to enter a string. If the string is at least five characters long, then\n",
    "create a new string that consists of the first five characters of the string along with three asterisks at\n",
    "the end. Otherwise add enough exclamation points (!) to the end of the string in order to get the\n",
    "length up to five.\n",
    "11. Write a program that asks the user to enter a string. Then loop through the string and print out all\n",
    "the characters of the string with a space inserted after each character. For instance, if the user enters\n",
    "ABCDE, the output would be A B C D E.\n",
    "12. Write a program that asks the user to enter a string. Then loop through the string and create a new\n",
    "string that consists of all the characters of the original with spaces inserted after each character. For\n",
    "instance, if the user enters ABCDE, the new string would be 'A B C D E '. Make sure this new string is\n",
    "stored in a variable. Print out the value of the new string.\n",
    "13. Write a program that asks the user to enter a string. Print out whether the string contains more capital\n",
    "As than capital Bs, the same amount, or more capital Bs.\n",
    "14. Write a program that asks the user to enter a string and prints out how many letters (uppercase and\n",
    "lowercase) are in the string. [Hint: It’s possible to use the string count() method to do this, but it\n",
    "might be easier to use the counting technique from Chapter 5 along with the isalpha() method.]\n",
    "15. Write a program that asks the user to enter a string. Print out whether the string contains more capital\n",
    "letters than lowercase letters, the same amount, or more lowercase than capitals.\n",
    "16. Write a program that asks the user to enter a string of lowercase letters. Then print out all the lowercase letters that do not appear in the string.\n",
    "17. Write a program that asks the user to enter two strings. Print out whether or not the first string\n",
    "contains any characters that are not in the second string.\n",
    "18. Write a program that asks the user to enter two strings. If the strings have different lengths, then print\n",
    "out a message indicating such. Otherwise, print out whether or not the strings differ in exactly one\n",
    "position. For instance, ABCDE and ABCXE differ in exactly one position (index 3).\n",
    "19. Write a program that prints 10 random lowercase letters, all on the same line.\n",
    "20. Write a program that asks the user to enter a string. Then create a new string that consists of 10\n",
    "randomly selected characters from the user’s string. Print the new string.\n",
    "21. Write a program that asks the user to enter a string of lowercase letters. Then for each lowercase letter,\n",
    "if the letter is not in the string, print out a message indicating that and otherwise print out the index\n",
    "of the first occurrence of that letter in the string.\n",
    "22. Write a program that asks the user to enter an email address. Assume for this problem that email\n",
    "addresses are of the form username@somedomain.com, where there is a user name and a domain\n",
    "name separate by the @ symbol. Print out the user name and domain name on separate lines.\n",
    "23. Write a program that does the following: It first asks the person to enter their first and last names\n",
    "(together on the same line). For simplicity, assume their first and last names are one word each. Then\n",
    "ask them for their gender (male/female). Finally ask them if they prefer formal or informal address.\n",
    "Uppercase/lowercase should not matter when they make their selections. Then print a line that says\n",
    "hello to them, using Mr. or Ms. <last name> if they ask for formal address and just their first name\n",
    "otherwise. Here are two sample runs:\n",
    "    \n",
    "    Name: Don Knuth Name: Grace Hopper\n",
    "Gender: male Gender: Female\n",
    "Formal/Informal: informal Formal/informal: Formal\n",
    "Hello, Don. Hello, Ms. Hopper.\n",
    "\n",
    "24. Write a program that ask the user to enter a string that consists of multiple words. Then print out the\n",
    "first letter of each word, all on the same line.\n",
    "25. Write a program that asks the user to enter a string. Then print out (all on the same line) the indices\n",
    "of the string that contain letters. For instance, if the user enters A B?*C, the program would output 0,\n",
    "2, and 5 since the only letters are at those indices.\n",
    "26. Write a program that asks the user to enter an integer n. Then produce output that changes one letter\n",
    "at a time from a string of all As to a string of all Bs, starting at the back of the string. Shown below is\n",
    "the output with n = 4.\n",
    "AAAA\n",
    "AAAB\n",
    "AABB\n",
    "ABBB\n",
    "BBBB\n",
    "27. IP addresses are important in computer networking. They consist of four numbers, each from 0 to\n",
    "255, separated by dots. For instance, one IP address of www.google.com is 74.125.22.99. IP addresses\n",
    "of the following forms are considered special local addresses: 10.*.*.* and 192.168.*.*. The stars can\n",
    "stand for any values from 0 to 255. Write a program that asks the user to enter an IP address and\n",
    "prints out whether it is in one of these two forms. You can assume that the user enters a valid address.\n",
    "[Hint: Consider the startsWith method. For example, if s.startswith('ab') tells whether or not\n",
    "s starts with the letters ab.]\n",
    "28. Write a program that asks the user to enter their name in lowercase and replaces each character of\n",
    "their name with the letter immediately following it in the alphabet (with a following z). [Hint: To\n",
    "avoid using 26 if statements, a string containing all the letters of the alphabet along with the index\n",
    "method might be helpful, or else look up the ord() and chr() functions.]"
   ]
  },
  {
   "cell_type": "code",
   "execution_count": null,
   "metadata": {},
   "outputs": [],
   "source": []
  },
  {
   "cell_type": "code",
   "execution_count": null,
   "metadata": {},
   "outputs": [],
   "source": []
  },
  {
   "cell_type": "code",
   "execution_count": null,
   "metadata": {},
   "outputs": [],
   "source": []
  },
  {
   "cell_type": "code",
   "execution_count": null,
   "metadata": {},
   "outputs": [],
   "source": []
  },
  {
   "cell_type": "code",
   "execution_count": null,
   "metadata": {},
   "outputs": [],
   "source": []
  },
  {
   "cell_type": "code",
   "execution_count": null,
   "metadata": {},
   "outputs": [],
   "source": []
  },
  {
   "cell_type": "code",
   "execution_count": null,
   "metadata": {},
   "outputs": [],
   "source": []
  },
  {
   "cell_type": "code",
   "execution_count": null,
   "metadata": {},
   "outputs": [],
   "source": []
  },
  {
   "cell_type": "code",
   "execution_count": null,
   "metadata": {},
   "outputs": [],
   "source": []
  },
  {
   "cell_type": "code",
   "execution_count": null,
   "metadata": {},
   "outputs": [],
   "source": []
  },
  {
   "cell_type": "code",
   "execution_count": null,
   "metadata": {},
   "outputs": [],
   "source": []
  },
  {
   "cell_type": "code",
   "execution_count": null,
   "metadata": {},
   "outputs": [],
   "source": []
  },
  {
   "cell_type": "code",
   "execution_count": null,
   "metadata": {},
   "outputs": [],
   "source": []
  },
  {
   "cell_type": "code",
   "execution_count": null,
   "metadata": {},
   "outputs": [],
   "source": []
  },
  {
   "cell_type": "code",
   "execution_count": null,
   "metadata": {},
   "outputs": [],
   "source": []
  },
  {
   "cell_type": "code",
   "execution_count": null,
   "metadata": {},
   "outputs": [],
   "source": []
  },
  {
   "cell_type": "code",
   "execution_count": null,
   "metadata": {},
   "outputs": [],
   "source": []
  }
 ],
 "metadata": {
  "kernelspec": {
   "display_name": "Python 3",
   "language": "python",
   "name": "python3"
  },
  "language_info": {
   "codemirror_mode": {
    "name": "ipython",
    "version": 3
   },
   "file_extension": ".py",
   "mimetype": "text/x-python",
   "name": "python",
   "nbconvert_exporter": "python",
   "pygments_lexer": "ipython3",
   "version": "3.7.4"
  }
 },
 "nbformat": 4,
 "nbformat_minor": 2
}
