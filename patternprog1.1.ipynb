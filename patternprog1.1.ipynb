{
 "cells": [
  {
   "cell_type": "code",
   "execution_count": 6,
   "metadata": {},
   "outputs": [
    {
     "name": "stdout",
     "output_type": "stream",
     "text": [
      "$\n",
      "$$\n",
      "$$$\n",
      "$$$$\n"
     ]
    }
   ],
   "source": [
    "#basic for-loop\n",
    "for i1 in range(1,5,1):\n",
    "    print(i1*'$')\n",
    "    "
   ]
  },
  {
   "cell_type": "code",
   "execution_count": 14,
   "metadata": {},
   "outputs": [
    {
     "name": "stdout",
     "output_type": "stream",
     "text": [
      "\n",
      "1\n",
      "12\n",
      "123\n",
      "1234\n"
     ]
    }
   ],
   "source": [
    "for i2 in range(1,6,1):\n",
    "    for j2 in range(1,i2,1):\n",
    "        print(j2,end='')\n",
    "    print()"
   ]
  },
  {
   "cell_type": "code",
   "execution_count": 20,
   "metadata": {},
   "outputs": [
    {
     "name": "stdout",
     "output_type": "stream",
     "text": [
      "\n",
      "1 \n",
      "2 2 \n",
      "3 3 3 \n",
      "4 4 4 4 \n",
      "5 5 5 5 5 \n"
     ]
    }
   ],
   "source": [
    "for i3 in range(0,6,1):\n",
    "    for j3 in range(0,i3,1):\n",
    "        print(i3,end=' ')\n",
    "    print()"
   ]
  },
  {
   "cell_type": "code",
   "execution_count": 22,
   "metadata": {},
   "outputs": [
    {
     "name": "stdout",
     "output_type": "stream",
     "text": [
      "6 6 6 6 6 6 \n",
      "5 5 5 5 5 \n",
      "4 4 4 4 \n",
      "3 3 3 \n",
      "2 2 \n",
      "1 \n"
     ]
    }
   ],
   "source": [
    "for i4 in range(6,0,-1):\n",
    "    for j4 in range(0,i4,1):\n",
    "        print(i4,end=' ')\n",
    "    print()"
   ]
  },
  {
   "cell_type": "code",
   "execution_count": 26,
   "metadata": {},
   "outputs": [
    {
     "name": "stdout",
     "output_type": "stream",
     "text": [
      "1 2 3 4 5 \n",
      "1 2 3 4 \n",
      "1 2 3 \n",
      "1 2 \n",
      "1 \n",
      "\n"
     ]
    }
   ],
   "source": [
    "for i5 in range(6,0,-1):\n",
    "    for j5 in range(1,i5,1):\n",
    "        print(j5,end=' ')\n",
    "    print()"
   ]
  },
  {
   "cell_type": "code",
   "execution_count": 28,
   "metadata": {},
   "outputs": [
    {
     "name": "stdout",
     "output_type": "stream",
     "text": [
      "1 1 1 1 1 \r\n",
      "2 2 2 2 \r\n",
      "3 3 3 \r\n",
      "4 4 \r\n",
      "5 \r\n",
      "\r\n"
     ]
    }
   ],
   "source": [
    "#imp1\n",
    "b6=0\n",
    "for i6 in range(6,0,-1):\n",
    "    b6+=1\n",
    "    for j6 in range(1,i6,1):\n",
    "        print(b6,end=' ')\n",
    "    print('\\r')"
   ]
  },
  {
   "cell_type": "code",
   "execution_count": 33,
   "metadata": {},
   "outputs": [
    {
     "name": "stdout",
     "output_type": "stream",
     "text": [
      "1 \n",
      "2 1 \n",
      "3 2 1 \n",
      "4 3 2 1 \n",
      "5 4 3 2 1 \n"
     ]
    }
   ],
   "source": [
    "#imp2\n",
    "for i7 in range(1,6,1):\n",
    "    for j7 in range(i7,0,-1):\n",
    "        print(j7,end=\" \")\n",
    "    print(\"\")"
   ]
  },
  {
   "cell_type": "code",
   "execution_count": 36,
   "metadata": {},
   "outputs": [
    {
     "name": "stdout",
     "output_type": "stream",
     "text": [
      "Enter n: 10\n",
      "1\n",
      "2\n",
      "3\n",
      "4\n",
      "5\n",
      "6\n",
      "7\n",
      "8\n",
      "9\n",
      "10\n",
      "The sum is 55\n"
     ]
    },
    {
     "data": {
      "text/plain": [
       "'\\nIn the above program, the test expression will be True as long as our\\ncounter variable i is less than or equal to n (10 in our program).\\n\\n\\n\\nWe need to increase the value of the counter variable in the body of the loop.\\nThis is very important (and mostly forgotten).\\nFailing to do so will result in an infinite loop (never-ending loop).\\n\\n\\n\\nFinally, the result is displayed.\\n\\n\\n\\n\\nLast statement in the block ensures that, with every execution of loop, loop control\\nvariable (i) moves near to the termination point. If this does not happen then the loop will\\nkeep on executing infinitely.\\n\\n\\n\\nAs soon as i becomes 11, condition in while will evaluate to False and this will\\nterminate the loop. Result produced by the loop will be:\\n1 2 3 4 5 6 7 8 9 10\\n'"
      ]
     },
     "execution_count": 36,
     "metadata": {},
     "output_type": "execute_result"
    }
   ],
   "source": [
    "#addition of upto n natural nos.\n",
    "nw = int(input(\"Enter n: \"))\n",
    "# initialize sum and counter\n",
    "sum = 0\n",
    "iw = 1\n",
    "\n",
    "\n",
    "\n",
    "while iw <= nw:\n",
    "    print(iw)\n",
    "    sum = sum + iw\n",
    "    iw = iw+1 # update counter\n",
    "\n",
    "\n",
    "\n",
    "# print the sum\n",
    "print(\"The sum is\", sum)\n",
    "\n",
    "'''\n",
    "In the above program, the test expression will be True as long as our\n",
    "counter variable i is less than or equal to n (10 in our program).\n",
    "\n",
    "\n",
    "\n",
    "We need to increase the value of the counter variable in the body of the loop.\n",
    "This is very important (and mostly forgotten).\n",
    "Failing to do so will result in an infinite loop (never-ending loop).\n",
    "\n",
    "\n",
    "\n",
    "Finally, the result is displayed.\n",
    "\n",
    "\n",
    "\n",
    "\n",
    "Last statement in the block ensures that, with every execution of loop, loop control\n",
    "variable (i) moves near to the termination point. If this does not happen then the loop will\n",
    "keep on executing infinitely.\n",
    "\n",
    "\n",
    "\n",
    "As soon as i becomes 11, condition in while will evaluate to False and this will\n",
    "terminate the loop. Result produced by the loop will be:\n",
    "1 2 3 4 5 6 7 8 9 10\n",
    "'''"
   ]
  },
  {
   "cell_type": "code",
   "execution_count": null,
   "metadata": {},
   "outputs": [],
   "source": [
    "#imp3\n"
   ]
  }
 ],
 "metadata": {
  "kernelspec": {
   "display_name": "Python 3",
   "language": "python",
   "name": "python3"
  },
  "language_info": {
   "codemirror_mode": {
    "name": "ipython",
    "version": 3
   },
   "file_extension": ".py",
   "mimetype": "text/x-python",
   "name": "python",
   "nbconvert_exporter": "python",
   "pygments_lexer": "ipython3",
   "version": "3.8.3"
  }
 },
 "nbformat": 4,
 "nbformat_minor": 4
}
